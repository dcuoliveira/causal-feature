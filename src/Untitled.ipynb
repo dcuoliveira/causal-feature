{
 "cells": [
  {
   "cell_type": "code",
   "execution_count": 1,
   "metadata": {},
   "outputs": [],
   "source": [
    "import pandas as pd\n",
    "from data_mani.utils import target_ret_to_directional_movements\n",
    "from data_mani.utils import merge_market_and_gtrends\n",
    "from sklearn.metrics import roc_auc_score\n",
    "from feature_selection.sfi import single_feature_importance_cv_class\n",
    "from tqdm import tqdm"
   ]
  },
  {
   "cell_type": "code",
   "execution_count": 2,
   "metadata": {},
   "outputs": [],
   "source": [
    "merged_df, _ = merge_market_and_gtrends(\"data/indices/SPX Index.csv\", 0.5)"
   ]
  },
  {
   "cell_type": "code",
   "execution_count": 3,
   "metadata": {},
   "outputs": [
    {
     "name": "stderr",
     "output_type": "stream",
     "text": [
      "100%|██████████| 3/3 [00:00<00:00, 21.74it/s]\n"
     ]
    }
   ],
   "source": [
    "words = [\"bank\",\"banking\",  \"BUY AND HOLD\"]\n",
    "max_lag = 20\n",
    "feature_dict = {}\n",
    "for word in tqdm(words):\n",
    "    new_features = []\n",
    "    for shift in range(1, max_lag + 1):\n",
    "        new_feature = word.replace(\" \", \"_\") + \"_{}\".format(shift)\n",
    "        merged_df.loc[:, new_feature] = merged_df[word].shift(shift)\n",
    "        new_features.append(new_feature)\n",
    "        feature_dict[word] = new_features"
   ]
  },
  {
   "cell_type": "code",
   "execution_count": 4,
   "metadata": {},
   "outputs": [
    {
     "data": {
      "text/plain": [
       "'bank_10'"
      ]
     },
     "execution_count": 4,
     "metadata": {},
     "output_type": "execute_result"
    }
   ],
   "source": [
    "'bank_10'"
   ]
  },
  {
   "cell_type": "code",
   "execution_count": 10,
   "metadata": {},
   "outputs": [
    {
     "data": {
      "text/plain": [
       "array([0.51278548, 0.48309179, 0.50881096, 0.5073914 ])"
      ]
     },
     "execution_count": 10,
     "metadata": {},
     "output_type": "execute_result"
    }
   ],
   "source": [
    "single_feature_importance_cv_class(df=merged_df,\n",
    "                                   feature_name='bank_2',\n",
    "                                   target_name=\"target_return\",\n",
    "                                   n_splits=4)"
   ]
  },
  {
   "cell_type": "code",
   "execution_count": null,
   "metadata": {},
   "outputs": [],
   "source": []
  },
  {
   "cell_type": "code",
   "execution_count": 6,
   "metadata": {},
   "outputs": [],
   "source": [
    "merged_df.fillna(0.0, inplace=True)"
   ]
  },
  {
   "cell_type": "code",
   "execution_count": null,
   "metadata": {},
   "outputs": [],
   "source": []
  }
 ],
 "metadata": {
  "kernelspec": {
   "display_name": "Python 3",
   "language": "python",
   "name": "python3"
  },
  "language_info": {
   "codemirror_mode": {
    "name": "ipython",
    "version": 3
   },
   "file_extension": ".py",
   "mimetype": "text/x-python",
   "name": "python",
   "nbconvert_exporter": "python",
   "pygments_lexer": "ipython3",
   "version": "3.8.5"
  }
 },
 "nbformat": 4,
 "nbformat_minor": 4
}
