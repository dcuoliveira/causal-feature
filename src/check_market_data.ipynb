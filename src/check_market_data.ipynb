{
 "cells": [
  {
   "cell_type": "markdown",
   "metadata": {},
   "source": [
    "# Check market data"
   ]
  },
  {
   "cell_type": "code",
   "execution_count": 8,
   "metadata": {},
   "outputs": [],
   "source": [
    "import os\n",
    "import numpy as np\n",
    "import pandas as pd\n",
    "import matplotlib.pyplot as plt\n",
    "import seaborn as sns\n",
    "from tqdm import tqdm\n",
    "from IPython.display import display, HTML, Markdown\n",
    "from glob import glob\n",
    "from time import time"
   ]
  },
  {
   "cell_type": "markdown",
   "metadata": {},
   "source": [
    "# 1) Nyse stats"
   ]
  },
  {
   "cell_type": "code",
   "execution_count": 2,
   "metadata": {},
   "outputs": [
    {
     "name": "stderr",
     "output_type": "stream",
     "text": [
      "100%|██████████| 2163/2163 [00:17<00:00, 123.35it/s]\n"
     ]
    }
   ],
   "source": [
    "paths = glob(\"data/crsp/nyse/*csv\")\n",
    "paths.sort()\n",
    "\n",
    "names = []\n",
    "last_day = []\n",
    "first_day = []\n",
    "\n",
    "\n",
    "for path in tqdm(paths):\n",
    "    market = pd.read_csv(path)\n",
    "    name = path.split(\"/\")[-1].split(\".\")[0]\n",
    "    market = pd.read_csv(path)\n",
    "    market = market.drop([0,1],0)\n",
    "    market = market.rename(columns={\"ticker\":\"date\"})\n",
    "    market.loc[:, \"date\"] = pd.to_datetime(market.date)\n",
    "    market = market.set_index(\"date\")\n",
    "    first_day.append(market.index[0])\n",
    "    last_day.append(market.index[-1])\n",
    "    del market\n",
    "    names.append(name)\n",
    "\n",
    "results = pd.DataFrame(np.stack([names, first_day, last_day]).T,\n",
    "                       columns=[\"name\", \"first_day\", \"last_day\"])"
   ]
  },
  {
   "cell_type": "markdown",
   "metadata": {},
   "source": [
    "## NYSE Composition of first year information for each ticker"
   ]
  },
  {
   "cell_type": "code",
   "execution_count": 3,
   "metadata": {},
   "outputs": [
    {
     "data": {
      "text/html": [
       "<table border=\"1\" class=\"dataframe\">\n",
       "  <thead>\n",
       "    <tr style=\"text-align: right;\">\n",
       "      <th></th>\n",
       "      <th>2000</th>\n",
       "      <th>2001</th>\n",
       "      <th>2002</th>\n",
       "      <th>2004</th>\n",
       "      <th>2005</th>\n",
       "      <th>2006</th>\n",
       "      <th>2007</th>\n",
       "      <th>2009</th>\n",
       "      <th>2010</th>\n",
       "      <th>2011</th>\n",
       "    </tr>\n",
       "  </thead>\n",
       "  <tbody>\n",
       "    <tr>\n",
       "      <th>percentage</th>\n",
       "      <td>99.31</td>\n",
       "      <td>0.05</td>\n",
       "      <td>0.09</td>\n",
       "      <td>0.14</td>\n",
       "      <td>0.09</td>\n",
       "      <td>0.05</td>\n",
       "      <td>0.05</td>\n",
       "      <td>0.09</td>\n",
       "      <td>0.09</td>\n",
       "      <td>0.05</td>\n",
       "    </tr>\n",
       "  </tbody>\n",
       "</table>"
      ],
      "text/plain": [
       "<IPython.core.display.HTML object>"
      ]
     },
     "metadata": {},
     "output_type": "display_data"
    }
   ],
   "source": [
    "first = results.first_day.map(lambda x: x.year).value_counts().to_frame().transpose()\n",
    "first.index = [\"percentage\"]\n",
    "c = list(first.columns)\n",
    "c.sort()\n",
    "first = first[c]\n",
    "first = (first / first.sum(1)[0])\n",
    "first = first.apply(lambda x: np.round(x*100,2),1)\n",
    "display(HTML(first.to_html()))"
   ]
  },
  {
   "cell_type": "markdown",
   "metadata": {},
   "source": [
    "## NYSE Composition of last year information for each ticker"
   ]
  },
  {
   "cell_type": "code",
   "execution_count": 4,
   "metadata": {},
   "outputs": [
    {
     "data": {
      "text/html": [
       "<table border=\"1\" class=\"dataframe\">\n",
       "  <thead>\n",
       "    <tr style=\"text-align: right;\">\n",
       "      <th></th>\n",
       "      <th>2000</th>\n",
       "      <th>2001</th>\n",
       "      <th>2002</th>\n",
       "      <th>2003</th>\n",
       "      <th>2004</th>\n",
       "      <th>2005</th>\n",
       "      <th>2006</th>\n",
       "      <th>2007</th>\n",
       "      <th>2008</th>\n",
       "      <th>2009</th>\n",
       "      <th>2010</th>\n",
       "      <th>2011</th>\n",
       "      <th>2012</th>\n",
       "      <th>2013</th>\n",
       "      <th>2014</th>\n",
       "      <th>2015</th>\n",
       "      <th>2016</th>\n",
       "      <th>2017</th>\n",
       "      <th>2018</th>\n",
       "      <th>2019</th>\n",
       "      <th>2020</th>\n",
       "    </tr>\n",
       "  </thead>\n",
       "  <tbody>\n",
       "    <tr>\n",
       "      <th>percentage</th>\n",
       "      <td>7.54</td>\n",
       "      <td>5.18</td>\n",
       "      <td>2.4</td>\n",
       "      <td>2.82</td>\n",
       "      <td>3.01</td>\n",
       "      <td>2.91</td>\n",
       "      <td>4.02</td>\n",
       "      <td>4.62</td>\n",
       "      <td>2.4</td>\n",
       "      <td>1.66</td>\n",
       "      <td>2.59</td>\n",
       "      <td>2.68</td>\n",
       "      <td>2.4</td>\n",
       "      <td>2.5</td>\n",
       "      <td>1.71</td>\n",
       "      <td>2.03</td>\n",
       "      <td>3.33</td>\n",
       "      <td>1.25</td>\n",
       "      <td>1.62</td>\n",
       "      <td>1.29</td>\n",
       "      <td>42.02</td>\n",
       "    </tr>\n",
       "  </tbody>\n",
       "</table>"
      ],
      "text/plain": [
       "<IPython.core.display.HTML object>"
      ]
     },
     "metadata": {},
     "output_type": "display_data"
    }
   ],
   "source": [
    "last = results.last_day.map(lambda x: x.year).value_counts().to_frame().transpose()\n",
    "last.index = [\"percentage\"]\n",
    "c = list(last.columns)\n",
    "c.sort()\n",
    "last = last[c]\n",
    "last = (last / last.sum(1)[0])\n",
    "last = last.apply(lambda x: np.round(x*100,2),1)\n",
    "display(HTML(last.to_html()))"
   ]
  },
  {
   "cell_type": "markdown",
   "metadata": {},
   "source": [
    "# 2) Nasdaq stats"
   ]
  },
  {
   "cell_type": "code",
   "execution_count": 5,
   "metadata": {},
   "outputs": [
    {
     "name": "stderr",
     "output_type": "stream",
     "text": [
      "100%|██████████| 10185/10185 [01:17<00:00, 132.24it/s]\n"
     ]
    }
   ],
   "source": [
    "paths = glob(\"data/crsp/nasdaq/*csv\")\n",
    "paths.sort()\n",
    "\n",
    "names = []\n",
    "last_day = []\n",
    "first_day = []\n",
    "\n",
    "\n",
    "for path in tqdm(paths):\n",
    "    try:\n",
    "        market = pd.read_csv(path)\n",
    "        name = path.split(\"/\")[-1].split(\".\")[0]\n",
    "        market = pd.read_csv(path)\n",
    "        market = market.drop([0,1],0)\n",
    "        market = market.rename(columns={\"ticker\":\"date\"})\n",
    "        market.loc[:, \"date\"] = pd.to_datetime(market.date)\n",
    "        market = market.set_index(\"date\")\n",
    "        first_day.append(market.index[0])\n",
    "        last_day.append(market.index[-1])\n",
    "        del market\n",
    "        names.append(name)\n",
    "    except IndexError:\n",
    "        pass\n",
    "\n",
    "results = pd.DataFrame(np.stack([names, first_day, last_day]).T,\n",
    "                       columns=[\"name\", \"first_day\", \"last_day\"])"
   ]
  },
  {
   "cell_type": "markdown",
   "metadata": {},
   "source": [
    "## Nasdaq Composition of first year information for each ticker"
   ]
  },
  {
   "cell_type": "code",
   "execution_count": 6,
   "metadata": {},
   "outputs": [
    {
     "data": {
      "text/html": [
       "<table border=\"1\" class=\"dataframe\">\n",
       "  <thead>\n",
       "    <tr style=\"text-align: right;\">\n",
       "      <th></th>\n",
       "      <th>2000</th>\n",
       "      <th>2001</th>\n",
       "      <th>2002</th>\n",
       "      <th>2003</th>\n",
       "      <th>2004</th>\n",
       "      <th>2005</th>\n",
       "      <th>2006</th>\n",
       "      <th>2007</th>\n",
       "      <th>2008</th>\n",
       "      <th>2009</th>\n",
       "      <th>2010</th>\n",
       "      <th>2011</th>\n",
       "      <th>2012</th>\n",
       "      <th>2013</th>\n",
       "      <th>2014</th>\n",
       "      <th>2015</th>\n",
       "      <th>2016</th>\n",
       "      <th>2017</th>\n",
       "      <th>2018</th>\n",
       "      <th>2019</th>\n",
       "      <th>2020</th>\n",
       "    </tr>\n",
       "  </thead>\n",
       "  <tbody>\n",
       "    <tr>\n",
       "      <th>percentage</th>\n",
       "      <td>41.17</td>\n",
       "      <td>1.99</td>\n",
       "      <td>2.22</td>\n",
       "      <td>2.04</td>\n",
       "      <td>3.42</td>\n",
       "      <td>3.29</td>\n",
       "      <td>3.21</td>\n",
       "      <td>3.87</td>\n",
       "      <td>2.93</td>\n",
       "      <td>2.47</td>\n",
       "      <td>3.28</td>\n",
       "      <td>2.5</td>\n",
       "      <td>2.64</td>\n",
       "      <td>3.38</td>\n",
       "      <td>4.09</td>\n",
       "      <td>3.11</td>\n",
       "      <td>2.51</td>\n",
       "      <td>3.29</td>\n",
       "      <td>3.53</td>\n",
       "      <td>3.18</td>\n",
       "      <td>1.88</td>\n",
       "    </tr>\n",
       "  </tbody>\n",
       "</table>"
      ],
      "text/plain": [
       "<IPython.core.display.HTML object>"
      ]
     },
     "metadata": {},
     "output_type": "display_data"
    }
   ],
   "source": [
    "first = results.first_day.map(lambda x: x.year).value_counts().to_frame().transpose()\n",
    "first.index = [\"percentage\"]\n",
    "c = list(first.columns)\n",
    "c.sort()\n",
    "first = first[c]\n",
    "first = (first / first.sum(1)[0])\n",
    "first = first.apply(lambda x: np.round(x*100,2),1)\n",
    "display(HTML(first.to_html()))"
   ]
  },
  {
   "cell_type": "markdown",
   "metadata": {},
   "source": [
    "## Nasdaq Composition of last year information for each ticker"
   ]
  },
  {
   "cell_type": "code",
   "execution_count": 7,
   "metadata": {},
   "outputs": [
    {
     "data": {
      "text/html": [
       "<table border=\"1\" class=\"dataframe\">\n",
       "  <thead>\n",
       "    <tr style=\"text-align: right;\">\n",
       "      <th></th>\n",
       "      <th>2000</th>\n",
       "      <th>2001</th>\n",
       "      <th>2003</th>\n",
       "      <th>2005</th>\n",
       "      <th>2006</th>\n",
       "      <th>2007</th>\n",
       "      <th>2008</th>\n",
       "      <th>2009</th>\n",
       "      <th>2010</th>\n",
       "      <th>2011</th>\n",
       "      <th>2012</th>\n",
       "      <th>2013</th>\n",
       "      <th>2014</th>\n",
       "      <th>2015</th>\n",
       "      <th>2016</th>\n",
       "      <th>2017</th>\n",
       "      <th>2018</th>\n",
       "      <th>2019</th>\n",
       "      <th>2020</th>\n",
       "    </tr>\n",
       "  </thead>\n",
       "  <tbody>\n",
       "    <tr>\n",
       "      <th>percentage</th>\n",
       "      <td>0.01</td>\n",
       "      <td>0.01</td>\n",
       "      <td>0.01</td>\n",
       "      <td>0.03</td>\n",
       "      <td>0.02</td>\n",
       "      <td>0.04</td>\n",
       "      <td>0.04</td>\n",
       "      <td>0.02</td>\n",
       "      <td>0.07</td>\n",
       "      <td>0.05</td>\n",
       "      <td>0.05</td>\n",
       "      <td>0.02</td>\n",
       "      <td>0.12</td>\n",
       "      <td>0.11</td>\n",
       "      <td>0.16</td>\n",
       "      <td>0.32</td>\n",
       "      <td>0.39</td>\n",
       "      <td>1.71</td>\n",
       "      <td>96.81</td>\n",
       "    </tr>\n",
       "  </tbody>\n",
       "</table>"
      ],
      "text/plain": [
       "<IPython.core.display.HTML object>"
      ]
     },
     "metadata": {},
     "output_type": "display_data"
    }
   ],
   "source": [
    "last = results.last_day.map(lambda x: x.year).value_counts().to_frame().transpose()\n",
    "last.index = [\"percentage\"]\n",
    "c = list(last.columns)\n",
    "c.sort()\n",
    "last = last[c]\n",
    "last = (last / last.sum(1)[0])\n",
    "last = last.apply(lambda x: np.round(x*100,2),1)\n",
    "display(HTML(last.to_html()))"
   ]
  },
  {
   "cell_type": "code",
   "execution_count": null,
   "metadata": {},
   "outputs": [],
   "source": []
  },
  {
   "cell_type": "code",
   "execution_count": null,
   "metadata": {},
   "outputs": [],
   "source": []
  }
 ],
 "metadata": {
  "kernelspec": {
   "display_name": "Python 3",
   "language": "python",
   "name": "python3"
  },
  "language_info": {
   "codemirror_mode": {
    "name": "ipython",
    "version": 3
   },
   "file_extension": ".py",
   "mimetype": "text/x-python",
   "name": "python",
   "nbconvert_exporter": "python",
   "pygments_lexer": "ipython3",
   "version": "3.6.9"
  }
 },
 "nbformat": 4,
 "nbformat_minor": 4
}
