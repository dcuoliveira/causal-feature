{
 "cells": [
  {
   "cell_type": "code",
   "execution_count": 1,
   "metadata": {},
   "outputs": [],
   "source": [
    "import numpy as np\n",
    "import pandas as pd\n",
    "from data_mani.utils import merge_market_and_gtrends, get_market_df\n",
    "from tqdm import tqdm\n",
    "from feature_selection.sfi import get_sfi_scores\n",
    "from glob import glob"
   ]
  },
  {
   "cell_type": "code",
   "execution_count": 8,
   "metadata": {},
   "outputs": [
    {
     "data": {
      "text/html": [
       "<div>\n",
       "<style scoped>\n",
       "    .dataframe tbody tr th:only-of-type {\n",
       "        vertical-align: middle;\n",
       "    }\n",
       "\n",
       "    .dataframe tbody tr th {\n",
       "        vertical-align: top;\n",
       "    }\n",
       "\n",
       "    .dataframe thead th {\n",
       "        text-align: right;\n",
       "    }\n",
       "</style>\n",
       "<table border=\"1\" class=\"dataframe\">\n",
       "  <thead>\n",
       "    <tr style=\"text-align: right;\">\n",
       "      <th></th>\n",
       "      <th>ticker</th>\n",
       "      <th>SPX_Utilities</th>\n",
       "    </tr>\n",
       "  </thead>\n",
       "  <tbody>\n",
       "    <tr>\n",
       "      <th>0</th>\n",
       "      <td>field</td>\n",
       "      <td>DAY_TO_DAY_TOT_RETURN_GROSS_DVDS</td>\n",
       "    </tr>\n",
       "    <tr>\n",
       "      <th>1</th>\n",
       "      <td>date</td>\n",
       "      <td>NaN</td>\n",
       "    </tr>\n",
       "    <tr>\n",
       "      <th>2</th>\n",
       "      <td>2000-01-03</td>\n",
       "      <td>-2.220597619047619</td>\n",
       "    </tr>\n",
       "    <tr>\n",
       "      <th>3</th>\n",
       "      <td>2000-01-04</td>\n",
       "      <td>0.6379595238095238</td>\n",
       "    </tr>\n",
       "    <tr>\n",
       "      <th>4</th>\n",
       "      <td>2000-01-05</td>\n",
       "      <td>3.6085761904761906</td>\n",
       "    </tr>\n",
       "  </tbody>\n",
       "</table>\n",
       "</div>"
      ],
      "text/plain": [
       "       ticker                     SPX_Utilities\n",
       "0       field  DAY_TO_DAY_TOT_RETURN_GROSS_DVDS\n",
       "1        date                               NaN\n",
       "2  2000-01-03                -2.220597619047619\n",
       "3  2000-01-04                0.6379595238095238\n",
       "4  2000-01-05                3.6085761904761906"
      ]
     },
     "execution_count": 8,
     "metadata": {},
     "output_type": "execute_result"
    }
   ],
   "source": [
    "spx = pd.read_csv(\"data/indices/SPX_Utilities.csv\")\n",
    "spx.head()"
   ]
  },
  {
   "cell_type": "code",
   "execution_count": 9,
   "metadata": {},
   "outputs": [
    {
     "data": {
      "text/html": [
       "<div>\n",
       "<style scoped>\n",
       "    .dataframe tbody tr th:only-of-type {\n",
       "        vertical-align: middle;\n",
       "    }\n",
       "\n",
       "    .dataframe tbody tr th {\n",
       "        vertical-align: top;\n",
       "    }\n",
       "\n",
       "    .dataframe thead th {\n",
       "        text-align: right;\n",
       "    }\n",
       "</style>\n",
       "<table border=\"1\" class=\"dataframe\">\n",
       "  <thead>\n",
       "    <tr style=\"text-align: right;\">\n",
       "      <th></th>\n",
       "      <th>date</th>\n",
       "      <th>SPX_Utilities</th>\n",
       "    </tr>\n",
       "  </thead>\n",
       "  <tbody>\n",
       "    <tr>\n",
       "      <th>0</th>\n",
       "      <td>2000-01-03</td>\n",
       "      <td>-0.022206</td>\n",
       "    </tr>\n",
       "    <tr>\n",
       "      <th>1</th>\n",
       "      <td>2000-01-04</td>\n",
       "      <td>0.006380</td>\n",
       "    </tr>\n",
       "    <tr>\n",
       "      <th>2</th>\n",
       "      <td>2000-01-05</td>\n",
       "      <td>0.036086</td>\n",
       "    </tr>\n",
       "    <tr>\n",
       "      <th>3</th>\n",
       "      <td>2000-01-06</td>\n",
       "      <td>0.003836</td>\n",
       "    </tr>\n",
       "    <tr>\n",
       "      <th>4</th>\n",
       "      <td>2000-01-07</td>\n",
       "      <td>0.013735</td>\n",
       "    </tr>\n",
       "  </tbody>\n",
       "</table>\n",
       "</div>"
      ],
      "text/plain": [
       "        date  SPX_Utilities\n",
       "0 2000-01-03      -0.022206\n",
       "1 2000-01-04       0.006380\n",
       "2 2000-01-05       0.036086\n",
       "3 2000-01-06       0.003836\n",
       "4 2000-01-07       0.013735"
      ]
     },
     "execution_count": 9,
     "metadata": {},
     "output_type": "execute_result"
    }
   ],
   "source": [
    "a = get_market_df(\"data/indices/SPX_Utilities.csv\")\n",
    "a.head()"
   ]
  },
  {
   "cell_type": "code",
   "execution_count": 14,
   "metadata": {},
   "outputs": [
    {
     "name": "stderr",
     "output_type": "stream",
     "text": [
      "sector:   0%|          | 0/1 [00:00<?, ?it/s]\n",
      "ticker:   0%|          | 0/51 [00:00<?, ?it/s]\u001b[A\n",
      "ticker:  12%|█▏        | 6/51 [00:00<00:00, 59.68it/s]\u001b[A\n",
      "ticker:  33%|███▎      | 17/51 [00:00<00:00, 68.26it/s]\u001b[A\n",
      "ticker:  57%|█████▋    | 29/51 [00:00<00:00, 78.15it/s]\u001b[A\n",
      "ticker: 100%|██████████| 51/51 [00:00<00:00, 102.56it/s][A\n",
      "sector: 100%|██████████| 1/1 [00:00<00:00,  1.76it/s]\n"
     ]
    }
   ],
   "source": [
    "path = \"data/tickers/spx_group_sector.csv\"\n",
    "df = pd.read_csv(path)\n",
    "df = df.loc[df.field == \"INDUSTRY_SECTOR\"].reset_index(drop=True)\n",
    "df.loc[:, \"ticker\"] = df.ticker.map(lambda x: x.replace(\"/\", \" \"))\n",
    "sectors = df.value.unique().tolist()\n",
    "df_ord = df.set_index(\"value\")\n",
    "\n",
    "sec_dict = {}\n",
    "\n",
    "for sector in tqdm([\"Utilities\"], desc='sector'):\n",
    "    base_list = df_ord.xs(sector).ticker.values.tolist()\n",
    "    path_list = ['data/tickers/spx/{}.csv'.format(n) for n in base_list]\n",
    "    dfs = []\n",
    "    for p in tqdm(path_list, desc='ticker'):\n",
    "        try:\n",
    "            df_m = get_market_df(p).set_index(\"date\")\n",
    "            dfs.append(df_m)\n",
    "        except ValueError:\n",
    "            pass\n",
    "    sector_df = pd.concat(dfs,1).mean(1).to_frame().rename(columns={0:sector})\n"
   ]
  },
  {
   "cell_type": "code",
   "execution_count": 18,
   "metadata": {},
   "outputs": [
    {
     "data": {
      "text/html": [
       "<div>\n",
       "<style scoped>\n",
       "    .dataframe tbody tr th:only-of-type {\n",
       "        vertical-align: middle;\n",
       "    }\n",
       "\n",
       "    .dataframe tbody tr th {\n",
       "        vertical-align: top;\n",
       "    }\n",
       "\n",
       "    .dataframe thead th {\n",
       "        text-align: right;\n",
       "    }\n",
       "</style>\n",
       "<table border=\"1\" class=\"dataframe\">\n",
       "  <thead>\n",
       "    <tr style=\"text-align: right;\">\n",
       "      <th></th>\n",
       "      <th>Utilities</th>\n",
       "    </tr>\n",
       "    <tr>\n",
       "      <th>date</th>\n",
       "      <th></th>\n",
       "    </tr>\n",
       "  </thead>\n",
       "  <tbody>\n",
       "    <tr>\n",
       "      <th>2000-01-03</th>\n",
       "      <td>-0.022206</td>\n",
       "    </tr>\n",
       "    <tr>\n",
       "      <th>2000-01-04</th>\n",
       "      <td>0.006380</td>\n",
       "    </tr>\n",
       "    <tr>\n",
       "      <th>2000-01-05</th>\n",
       "      <td>0.036086</td>\n",
       "    </tr>\n",
       "    <tr>\n",
       "      <th>2000-01-06</th>\n",
       "      <td>0.003836</td>\n",
       "    </tr>\n",
       "    <tr>\n",
       "      <th>2000-01-07</th>\n",
       "      <td>0.013735</td>\n",
       "    </tr>\n",
       "  </tbody>\n",
       "</table>\n",
       "</div>"
      ],
      "text/plain": [
       "            Utilities\n",
       "date                 \n",
       "2000-01-03  -0.022206\n",
       "2000-01-04   0.006380\n",
       "2000-01-05   0.036086\n",
       "2000-01-06   0.003836\n",
       "2000-01-07   0.013735"
      ]
     },
     "execution_count": 18,
     "metadata": {},
     "output_type": "execute_result"
    }
   ],
   "source": [
    "sector_df.head()"
   ]
  },
  {
   "cell_type": "code",
   "execution_count": 17,
   "metadata": {},
   "outputs": [
    {
     "data": {
      "text/html": [
       "<div>\n",
       "<style scoped>\n",
       "    .dataframe tbody tr th:only-of-type {\n",
       "        vertical-align: middle;\n",
       "    }\n",
       "\n",
       "    .dataframe tbody tr th {\n",
       "        vertical-align: top;\n",
       "    }\n",
       "\n",
       "    .dataframe thead th {\n",
       "        text-align: right;\n",
       "    }\n",
       "</style>\n",
       "<table border=\"1\" class=\"dataframe\">\n",
       "  <thead>\n",
       "    <tr style=\"text-align: right;\">\n",
       "      <th></th>\n",
       "      <th>date</th>\n",
       "      <th>SPX_Utilities</th>\n",
       "    </tr>\n",
       "  </thead>\n",
       "  <tbody>\n",
       "    <tr>\n",
       "      <th>0</th>\n",
       "      <td>2000-01-03</td>\n",
       "      <td>-0.022206</td>\n",
       "    </tr>\n",
       "    <tr>\n",
       "      <th>1</th>\n",
       "      <td>2000-01-04</td>\n",
       "      <td>0.006380</td>\n",
       "    </tr>\n",
       "    <tr>\n",
       "      <th>2</th>\n",
       "      <td>2000-01-05</td>\n",
       "      <td>0.036086</td>\n",
       "    </tr>\n",
       "    <tr>\n",
       "      <th>3</th>\n",
       "      <td>2000-01-06</td>\n",
       "      <td>0.003836</td>\n",
       "    </tr>\n",
       "    <tr>\n",
       "      <th>4</th>\n",
       "      <td>2000-01-07</td>\n",
       "      <td>0.013735</td>\n",
       "    </tr>\n",
       "  </tbody>\n",
       "</table>\n",
       "</div>"
      ],
      "text/plain": [
       "        date  SPX_Utilities\n",
       "0 2000-01-03      -0.022206\n",
       "1 2000-01-04       0.006380\n",
       "2 2000-01-05       0.036086\n",
       "3 2000-01-06       0.003836\n",
       "4 2000-01-07       0.013735"
      ]
     },
     "execution_count": 17,
     "metadata": {},
     "output_type": "execute_result"
    }
   ],
   "source": [
    "a.head()"
   ]
  },
  {
   "cell_type": "code",
   "execution_count": null,
   "metadata": {},
   "outputs": [],
   "source": [
    "sector_df.plot();\n",
    "spx.set_index(\"date\").plot();"
   ]
  },
  {
   "cell_type": "code",
   "execution_count": null,
   "metadata": {},
   "outputs": [],
   "source": [
    "spx.set_index(\"date\").plot()"
   ]
  },
  {
   "cell_type": "code",
   "execution_count": null,
   "metadata": {},
   "outputs": [],
   "source": [
    "spx = get_market_df(\"data/indices/SPX Index.csv\")\n",
    "spx.describe()"
   ]
  },
  {
   "cell_type": "code",
   "execution_count": null,
   "metadata": {},
   "outputs": [],
   "source": [
    "# get_market_df(\"data/tickers/spx/1437355D US Equity.csv\")\n",
    "a = pd.read_csv(\"data/tickers/spx/1437355D US Equity.csv\")"
   ]
  },
  {
   "cell_type": "code",
   "execution_count": null,
   "metadata": {},
   "outputs": [],
   "source": [
    "dfs = []\n",
    "\n",
    "for p in path_list:\n",
    "    try:\n",
    "        df_m = get_market_df(p).set_index(\"date\")\n",
    "        dfs.append(df_m)\n",
    "    except ValueError:\n",
    "        pass"
   ]
  },
  {
   "cell_type": "code",
   "execution_count": null,
   "metadata": {},
   "outputs": [],
   "source": [
    "problematic = [\"ADI UN Equity\", \"ADP UN Equity\", \"AMD UN Equity\",\n",
    "               \"BMC UW Equity\", \"CA UN Equity\", \"CAR UN Equity\",\n",
    "               \"CIEN UA Equity\", \"CMCSA UA Equity\", \"CME UN Equity\",\n",
    "               \"CMVT UQ Equity\", \"COST UA Equity\", \"CSX UN Equity\",\n",
    "               \"DVN UA Equity\", \"EHC UN Equity\", \"ETFC UN Equity\",\n",
    "               \"ETFC UW Equity\", \"FTRCQ UN Equity\", \"GENZ UA Equity\",\n",
    "               \"GT UN Equity\", \"HBAN UA Equity\", \"JOY UN Equity\",\n",
    "               \"MAR UN Equity\", \"MAT UN Equity\", \"MDLZ UN Equity\",\n",
    "               \"MU UN Equity\", \"MYL UN Equity\", \"NBR UA Equity\",\n",
    "               \"NVDA UA Equity\", \"RRD UN Equity\", \"SBUX UA Equity\",\n",
    "               \"SCHW UN Equity\", \"SLM UN Equity\", \"SPLS UA Equity\",\n",
    "               \"TFCFA UN Equity\", \"TMUS UN Equity\", \"TXN UN Equity\",\n",
    "               \"UAL UW Equity\", \"VIAB UN Equity\", \"WBA UN Equity\",\n",
    "               \"WDC UN Equity\", \"WINMQ UN Equity\"]\n",
    "\n",
    "problematic_sectors = df.loc[df.ticker.isin(problematic)].value.unique().tolist()\n",
    "non_problematic_sectors = [s for s in sectors if s not in problematic_sectors]\n",
    "print(\"non problematic sectors = \", non_problematic_sectors)"
   ]
  },
  {
   "cell_type": "code",
   "execution_count": null,
   "metadata": {},
   "outputs": [],
   "source": [
    "problematic_sectors "
   ]
  },
  {
   "cell_type": "code",
   "execution_count": null,
   "metadata": {},
   "outputs": [],
   "source": []
  }
 ],
 "metadata": {
  "kernelspec": {
   "display_name": "Python 3",
   "language": "python",
   "name": "python3"
  },
  "language_info": {
   "codemirror_mode": {
    "name": "ipython",
    "version": 3
   },
   "file_extension": ".py",
   "mimetype": "text/x-python",
   "name": "python",
   "nbconvert_exporter": "python",
   "pygments_lexer": "ipython3",
   "version": "3.8.5"
  }
 },
 "nbformat": 4,
 "nbformat_minor": 4
}
