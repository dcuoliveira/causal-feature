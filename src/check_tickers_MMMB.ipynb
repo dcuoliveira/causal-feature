{
 "metadata": {
  "language_info": {
   "codemirror_mode": {
    "name": "ipython",
    "version": 3
   },
   "file_extension": ".py",
   "mimetype": "text/x-python",
   "name": "python",
   "nbconvert_exporter": "python",
   "pygments_lexer": "ipython3",
   "version": "3.9.1-final"
  },
  "orig_nbformat": 2,
  "kernelspec": {
   "name": "python3",
   "display_name": "Python 3.9.1 64-bit ('dcuoliveira': conda)",
   "metadata": {
    "interpreter": {
     "hash": "d9012264f0201afc42ae5accaaf45fe1f2b8a1229337f3dc3b94fe4ebec69e8c"
    }
   }
  }
 },
 "nbformat": 4,
 "nbformat_minor": 2,
 "cells": [
  {
   "cell_type": "code",
   "execution_count": 1,
   "metadata": {},
   "outputs": [],
   "source": [
    "from glob import glob"
   ]
  },
  {
   "cell_type": "code",
   "execution_count": 2,
   "metadata": {},
   "outputs": [],
   "source": [
    "result_tickers = glob(\"results/feature_selection/MMMB/spx/*.csv\")\n",
    "result_tickers = [r.replace('results/feature_selection/MMMB/spx/', '') for r in result_tickers]\n",
    "\n",
    "all_tickers = glob(\"data/index/spx/*.csv\")\n",
    "all_tickers = [r.replace('data/index/spx/', '') for r in all_tickers]"
   ]
  },
  {
   "cell_type": "code",
   "execution_count": 3,
   "metadata": {},
   "outputs": [],
   "source": [
    "error_tickers = [r for r in all_tickers if r not in result_tickers]\n",
    "error_tickers = ['data/index/spx/' + r for r in error_tickers]"
   ]
  },
  {
   "cell_type": "code",
   "execution_count": 4,
   "metadata": {},
   "outputs": [
    {
     "output_type": "execute_result",
     "data": {
      "text/plain": [
       "['data/index/spx/723588Q UN Equity.csv',\n",
       " 'data/index/spx/NBL UW Equity.csv',\n",
       " 'data/index/spx/RATL UQ Equity.csv',\n",
       " 'data/index/spx/UAA UN Equity.csv',\n",
       " 'data/index/spx/TAP B UN Equity.csv',\n",
       " 'data/index/spx/HAR US Equity.csv',\n",
       " 'data/index/spx/FSL B UN Equity.csv',\n",
       " 'data/index/spx/987200Q UN Equity.csv',\n",
       " 'data/index/spx/GNW UN Equity.csv',\n",
       " 'data/index/spx/TOY UN Equity.csv',\n",
       " 'data/index/spx/WU UN Equity.csv',\n",
       " 'data/index/spx/1519128D UA Equity.csv',\n",
       " 'data/index/spx/502466Q US Equity.csv',\n",
       " 'data/index/spx/605555Q UN Equity.csv',\n",
       " 'data/index/spx/297504Q UN Equity.csv',\n",
       " 'data/index/spx/2676187Q UQ Equity.csv',\n",
       " 'data/index/spx/1437355D US Equity.csv',\n",
       " 'data/index/spx/SCHW UQ Equity.csv',\n",
       " 'data/index/spx/MAR UN Equity.csv',\n",
       " 'data/index/spx/1541931D UA Equity.csv',\n",
       " 'data/index/spx/GMCR UW Equity.csv',\n",
       " 'data/index/spx/WLTW UW Equity.csv',\n",
       " 'data/index/spx/GT UW Equity.csv',\n",
       " 'data/index/spx/QTRN UQ Equity.csv',\n",
       " 'data/index/spx/LW UN Equity.csv',\n",
       " 'data/index/spx/LYB UN Equity.csv',\n",
       " 'data/index/spx/BGEN UQ Equity.csv',\n",
       " 'data/index/spx/0867887D UN Equity.csv',\n",
       " 'data/index/spx/CFN UN Equity.csv',\n",
       " 'data/index/spx/FBF UN Equity.csv',\n",
       " 'data/index/spx/764144Q UN Equity.csv',\n",
       " 'data/index/spx/CHX UN Equity.csv',\n",
       " 'data/index/spx/CMG UN Equity.csv',\n",
       " 'data/index/spx/FL UN Equity.csv',\n",
       " 'data/index/spx/MA UN Equity.csv',\n",
       " 'data/index/spx/1431816D UW Equity.csv',\n",
       " 'data/index/spx/FB UW Equity.csv',\n",
       " 'data/index/spx/653707Q UN Equity.csv',\n",
       " 'data/index/spx/MTW UN Equity.csv',\n",
       " 'data/index/spx/XYL UN Equity.csv',\n",
       " 'data/index/spx/BIVV UW Equity.csv',\n",
       " 'data/index/spx/ZTS-W UN Equity.csv',\n",
       " 'data/index/spx/F UN Equity.csv',\n",
       " 'data/index/spx/UAL UW Equity.csv',\n",
       " 'data/index/spx/COV UN Equity.csv',\n",
       " 'data/index/spx/WNDXQ UN Equity.csv',\n",
       " 'data/index/spx/UAL UN Equity.csv',\n",
       " 'data/index/spx/519239Q UQ Equity.csv',\n",
       " 'data/index/spx/ETFC UW Equity.csv',\n",
       " 'data/index/spx/MGM UN Equity.csv',\n",
       " 'data/index/spx/ARNC UN Equity.csv',\n",
       " 'data/index/spx/FTV UN Equity.csv',\n",
       " 'data/index/spx/HCA UN Equity.csv',\n",
       " 'data/index/spx/FTNT UW Equity.csv',\n",
       " 'data/index/spx/1825471D UN Equity.csv',\n",
       " 'data/index/spx/CPGX UN Equity.csv',\n",
       " 'data/index/spx/GOOGL UW Equity.csv',\n",
       " 'data/index/spx/WRK UN Equity.csv',\n",
       " 'data/index/spx/3153670Q UQ Equity.csv',\n",
       " 'data/index/spx/AEP UW Equity.csv',\n",
       " 'data/index/spx/WCG UN Equity.csv',\n",
       " 'data/index/spx/FRC UN Equity.csv',\n",
       " 'data/index/spx/FNMA UN Equity.csv',\n",
       " 'data/index/spx/1844053D US Equity.csv',\n",
       " 'data/index/spx/9995522D UN Equity.csv',\n",
       " 'data/index/spx/3362726Q UN Equity.csv',\n",
       " 'data/index/spx/NXTL UQ Equity.csv',\n",
       " 'data/index/spx/CARR UN Equity.csv',\n",
       " 'data/index/spx/SHLDQ UW Equity.csv',\n",
       " 'data/index/spx/KTB UN Equity.csv',\n",
       " 'data/index/spx/WYND UN Equity.csv',\n",
       " 'data/index/spx/1799685D UN Equity.csv',\n",
       " 'data/index/spx/LO UN Equity.csv',\n",
       " 'data/index/spx/SANM UQ Equity.csv',\n",
       " 'data/index/spx/1699947D US Equity.csv',\n",
       " 'data/index/spx/945852Q UN Equity.csv',\n",
       " 'data/index/spx/CME UW Equity.csv',\n",
       " 'data/index/spx/CPRI UN Equity.csv',\n",
       " 'data/index/spx/GOOGL UQ Equity.csv',\n",
       " 'data/index/spx/WCG US Equity.csv',\n",
       " 'data/index/spx/OTIS UN Equity.csv',\n",
       " 'data/index/spx/WINMQ UN Equity.csv',\n",
       " 'data/index/spx/1028411Q UN Equity.csv',\n",
       " 'data/index/spx/APA UW Equity.csv',\n",
       " 'data/index/spx/HII UN Equity.csv',\n",
       " 'data/index/spx/CSRA UN Equity.csv',\n",
       " 'data/index/spx/SIG UN Equity.csv',\n",
       " 'data/index/spx/3621240Q UN Equity.csv',\n",
       " 'data/index/spx/355488Q UN Equity.csv',\n",
       " 'data/index/spx/MNKKQ UN Equity.csv',\n",
       " 'data/index/spx/HST UW Equity.csv',\n",
       " 'data/index/spx/CPNLQ UN Equity.csv',\n",
       " 'data/index/spx/MET UN Equity.csv',\n",
       " 'data/index/spx/SLM UN Equity.csv',\n",
       " 'data/index/spx/VRSK UW Equity.csv',\n",
       " 'data/index/spx/FBHS UN Equity.csv',\n",
       " 'data/index/spx/DOW UN Equity.csv',\n",
       " 'data/index/spx/SNI UW Equity.csv',\n",
       " 'data/index/spx/VIAC UW Equity.csv',\n",
       " 'data/index/spx/1822785D UN Equity.csv',\n",
       " 'data/index/spx/605018Q UN Equity.csv',\n",
       " 'data/index/spx/VNT UN Equity.csv',\n",
       " 'data/index/spx/SEBL UA Equity.csv',\n",
       " 'data/index/spx/FRT UN Equity.csv',\n",
       " 'data/index/spx/CVET UW Equity.csv',\n",
       " 'data/index/spx/EXPE UW Equity.csv',\n",
       " 'data/index/spx/ULTA UW Equity.csv',\n",
       " 'data/index/spx/IILGV UQ Equity.csv',\n",
       " 'data/index/spx/1649858D UN Equity.csv',\n",
       " 'data/index/spx/3029830Q UQ Equity.csv',\n",
       " 'data/index/spx/SHLDQ UQ Equity.csv',\n",
       " 'data/index/spx/VTRS UW Equity.csv',\n",
       " 'data/index/spx/GTGOF US Equity.csv',\n",
       " 'data/index/spx/XEL UW Equity.csv',\n",
       " 'data/index/spx/MJN-W UN Equity.csv',\n",
       " 'data/index/spx/MU UW Equity.csv',\n",
       " 'data/index/spx/COTY UN Equity.csv',\n",
       " 'data/index/spx/CPGX US Equity.csv',\n",
       " 'data/index/spx/FOXA UW Equity.csv',\n",
       " 'data/index/spx/COST UA Equity.csv',\n",
       " 'data/index/spx/MDLZ UW Equity.csv',\n",
       " 'data/index/spx/MAT UW Equity.csv',\n",
       " 'data/index/spx/FOX UW Equity.csv',\n",
       " 'data/index/spx/SCHW UW Equity.csv',\n",
       " 'data/index/spx/LVLT UN Equity.csv',\n",
       " 'data/index/spx/LNT UW Equity.csv',\n",
       " 'data/index/spx/2727195Q UN Equity.csv',\n",
       " 'data/index/spx/EXC UW Equity.csv',\n",
       " 'data/index/spx/0867887D US Equity.csv',\n",
       " 'data/index/spx/AMCR UN Equity.csv',\n",
       " 'data/index/spx/EVHC UN Equity.csv',\n",
       " 'data/index/spx/LYV UN Equity.csv',\n",
       " 'data/index/spx/MSCI UN Equity.csv',\n",
       " 'data/index/spx/MKTX UW Equity.csv',\n",
       " 'data/index/spx/YUMC UN Equity.csv',\n",
       " 'data/index/spx/BXLT UN Equity.csv',\n",
       " 'data/index/spx/VREX UW Equity.csv',\n",
       " 'data/index/spx/PVN UN Equity.csv',\n",
       " 'data/index/spx/AIRC UN Equity.csv',\n",
       " 'data/index/spx/MIRKQ UN Equity.csv',\n",
       " 'data/index/spx/WPX UN Equity.csv',\n",
       " 'data/index/spx/519239Q UN Equity.csv',\n",
       " 'data/index/spx/USB UN Equity.csv',\n",
       " 'data/index/spx/CRM UN Equity.csv',\n",
       " 'data/index/spx/GM UN Equity.csv',\n",
       " 'data/index/spx/JHF UN Equity.csv',\n",
       " 'data/index/spx/MJN US Equity.csv',\n",
       " 'data/index/spx/CTVA UN Equity.csv',\n",
       " 'data/index/spx/HAR UN Equity.csv',\n",
       " 'data/index/spx/HFC UN Equity.csv',\n",
       " 'data/index/spx/AWE UN Equity.csv',\n",
       " 'data/index/spx/SLG UN Equity.csv',\n",
       " 'data/index/spx/DALRQ UN Equity.csv',\n",
       " 'data/index/spx/748957Q UN Equity.csv',\n",
       " 'data/index/spx/MAS UN Equity.csv',\n",
       " 'data/index/spx/WINMQ UW Equity.csv',\n",
       " 'data/index/spx/ZTS UN Equity.csv',\n",
       " 'data/index/spx/WBA UW Equity.csv',\n",
       " 'data/index/spx/QCP UN Equity.csv',\n",
       " 'data/index/spx/DPHIQ UN Equity.csv']"
      ]
     },
     "metadata": {},
     "execution_count": 4
    }
   ],
   "source": [
    "error_tickers"
   ]
  },
  {
   "cell_type": "code",
   "execution_count": 5,
   "metadata": {},
   "outputs": [],
   "source": [
    "from data_mani.utils import path_filter\n",
    "from word_list.analysis import words\n",
    "from data_mani.utils import merge_market_and_gtrends\n",
    "from data_mani.utils import get_ticker_name\n",
    "from feature_selection.MMMB import run_MMMB\n",
    "\n",
    "PATHS = error_tickers\n",
    "THRESHOLD = 252 * 2\n",
    "TEST_SIZE = 0.5\n",
    "IS_DISCRETE = False\n",
    "SIG_LEVEL = 0.01\n",
    "MAX_LAG = 20\n",
    "CONSTANT_THRESHOLD = 0.9"
   ]
  },
  {
   "cell_type": "code",
   "execution_count": 6,
   "metadata": {},
   "outputs": [
    {
     "output_type": "stream",
     "name": "stderr",
     "text": [
      "filter: 100%|██████████| 333/333 [04:09<00:00,  1.34it/s]\n"
     ]
    }
   ],
   "source": [
    " paths = path_filter(paths=PATHS,\n",
    "                     threshold=THRESHOLD)"
   ]
  },
  {
   "cell_type": "code",
   "execution_count": 7,
   "metadata": {},
   "outputs": [],
   "source": [
    "path = paths[0]\n",
    "\n",
    "merged, _ = merge_market_and_gtrends(path, test_size=TEST_SIZE)\n",
    "\n",
    "name = get_ticker_name(path).replace(\"_\", \" \")\n",
    "result = run_MMMB(merged_df=merged,\n",
    "                    target_name=\"target_return\",\n",
    "                    words=words,\n",
    "                    max_lag=MAX_LAG,\n",
    "                    verbose=False,\n",
    "                    sig_level=SIG_LEVEL,\n",
    "                    is_discrete=IS_DISCRETE,\n",
    "                    constant_threshold=CONSTANT_THRESHOLD)"
   ]
  },
  {
   "cell_type": "code",
   "execution_count": null,
   "metadata": {},
   "outputs": [],
   "source": [
    "out_path = os.path.join(\"results\",\n",
    "                        \"feature_selection\",\n",
    "                        \"MMMB\",\n",
    "                        out_folder,\n",
    "                        name + \".csv\")\n",
    "result.to_csv(out_path, index=False)"
   ]
  }
 ]
}