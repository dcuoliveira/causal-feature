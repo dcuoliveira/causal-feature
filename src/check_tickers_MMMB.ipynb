{
 "metadata": {
  "language_info": {
   "codemirror_mode": {
    "name": "ipython",
    "version": 3
   },
   "file_extension": ".py",
   "mimetype": "text/x-python",
   "name": "python",
   "nbconvert_exporter": "python",
   "pygments_lexer": "ipython3",
   "version": "3.9.1-final"
  },
  "orig_nbformat": 2,
  "kernelspec": {
   "name": "python3",
   "display_name": "Python 3.9.1 64-bit",
   "metadata": {
    "interpreter": {
     "hash": "d9012264f0201afc42ae5accaaf45fe1f2b8a1229337f3dc3b94fe4ebec69e8c"
    }
   }
  }
 },
 "nbformat": 4,
 "nbformat_minor": 2,
 "cells": [
  {
   "cell_type": "code",
   "execution_count": 1,
   "metadata": {},
   "outputs": [],
   "source": [
    "from glob import glob"
   ]
  },
  {
   "cell_type": "code",
   "execution_count": 2,
   "metadata": {},
   "outputs": [],
   "source": [
    "result_tickers = glob(\"results/feature_selection/MMMB/spx/*.csv\")\n",
    "result_tickers = [r.replace('results/feature_selection/MMMB/spx/', '') for r in result_tickers]\n",
    "\n",
    "all_tickers = glob(\"data/index/spx/*.csv\")\n",
    "all_tickers = [r.replace('data/index/spx/', '') for r in all_tickers]"
   ]
  },
  {
   "cell_type": "code",
   "execution_count": 3,
   "metadata": {},
   "outputs": [],
   "source": [
    "error_tickers = [r for r in all_tickers if r not in result_tickers]\n",
    "error_tickers = ['data/index/spx/' + r for r in error_tickers]"
   ]
  },
  {
   "cell_type": "code",
   "execution_count": 4,
   "metadata": {},
   "outputs": [
    {
     "output_type": "execute_result",
     "data": {
      "text/plain": [
       "333"
      ]
     },
     "metadata": {},
     "execution_count": 4
    }
   ],
   "source": [
    "len(error_tickers)"
   ]
  },
  {
   "cell_type": "code",
   "execution_count": 5,
   "metadata": {},
   "outputs": [],
   "source": [
    "from data_mani.utils import path_filter\n",
    "from word_list.analysis import words\n",
    "from data_mani.utils import merge_market_and_gtrends\n",
    "from data_mani.utils import get_ticker_name\n",
    "from feature_selection.MMMB import run_MMMB\n",
    "\n",
    "PATHS = error_tickers\n",
    "THRESHOLD = 252 * 2\n",
    "TEST_SIZE = 0.5\n",
    "IS_DISCRETE = False\n",
    "SIG_LEVEL = 0.01\n",
    "MAX_LAG = 20\n",
    "CONSTANT_THRESHOLD = 0.9"
   ]
  },
  {
   "cell_type": "code",
   "execution_count": 6,
   "metadata": {},
   "outputs": [
    {
     "output_type": "stream",
     "name": "stderr",
     "text": [
      "filter: 100%|██████████| 333/333 [04:09<00:00,  1.34it/s]\n"
     ]
    }
   ],
   "source": [
    " paths = path_filter(paths=PATHS,\n",
    "                     threshold=THRESHOLD)"
   ]
  },
  {
   "cell_type": "code",
   "execution_count": 7,
   "metadata": {},
   "outputs": [],
   "source": [
    "path = paths[0]\n",
    "\n",
    "merged, _ = merge_market_and_gtrends(path, test_size=TEST_SIZE)\n",
    "\n",
    "name = get_ticker_name(path).replace(\"_\", \" \")\n",
    "result = run_MMMB(merged_df=merged,\n",
    "                    target_name=\"target_return\",\n",
    "                    words=words,\n",
    "                    max_lag=MAX_LAG,\n",
    "                    verbose=False,\n",
    "                    sig_level=SIG_LEVEL,\n",
    "                    is_discrete=IS_DISCRETE,\n",
    "                    constant_threshold=CONSTANT_THRESHOLD)"
   ]
  },
  {
   "cell_type": "code",
   "execution_count": null,
   "metadata": {},
   "outputs": [],
   "source": [
    "out_path = os.path.join(\"results\",\n",
    "                        \"feature_selection\",\n",
    "                        \"MMMB\",\n",
    "                        out_folder,\n",
    "                        name + \".csv\")\n",
    "result.to_csv(out_path, index=False)"
   ]
  }
 ]
}