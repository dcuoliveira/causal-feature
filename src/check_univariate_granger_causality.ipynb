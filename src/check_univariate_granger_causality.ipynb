{
 "metadata": {
  "language_info": {
   "codemirror_mode": {
    "name": "ipython",
    "version": 3
   },
   "file_extension": ".py",
   "mimetype": "text/x-python",
   "name": "python",
   "nbconvert_exporter": "python",
   "pygments_lexer": "ipython3",
   "version": "3.9.1-final"
  },
  "orig_nbformat": 2,
  "kernelspec": {
   "name": "python3",
   "display_name": "Python 3.9.1 64-bit ('dcuoliveira': conda)",
   "metadata": {
    "interpreter": {
     "hash": "d9012264f0201afc42ae5accaaf45fe1f2b8a1229337f3dc3b94fe4ebec69e8c"
    }
   }
  }
 },
 "nbformat": 4,
 "nbformat_minor": 2,
 "cells": [
  {
   "cell_type": "code",
   "execution_count": 1,
   "metadata": {},
   "outputs": [],
   "source": [
    "from glob import glob\n",
    "from time import time\n",
    "import numpy as np\n",
    "from multiprocessing import Pool\n",
    "import os\n",
    "\n",
    "from word_list.analysis import words\n",
    "from data_mani.utils import path_filter\n",
    "from data_mani.utils import merge_market_and_gtrends\n",
    "from data_mani.utils import get_ticker_name\n",
    "from feature_selection.huang import run_granger_causality\n",
    "import random\n",
    "import statsmodels.api as sm\n",
    "\n",
    "\n",
    "# variables\n",
    "SIG_LEVEL = 0.05\n",
    "MAX_LAG = 20 # maximum number of lags to create\n",
    "N_CORES = 30 # number of cores to use\n",
    "OUT_FOLDER = \"spx\" # name of the marked data folder\n",
    "DEBUG = False # param to debug the script\n",
    "TEST_SIZE = 0.5 # pct of the train/test split\n",
    "THRESHOLD = 252 * 2 # treshold to filted merged datframes\n",
    "                    # 252 = business days in a year\n",
    "PAR = True # enable run in paralell\n",
    "CORREL_THRESHOLD = 0.5 # correlation threshold to apply filter\n",
    "CONSTANT_THRESHOLD = 0.9 # constant threshold to apply filter\n",
    "\n",
    "# ajuste pra path do windows\n",
    "PATHS = sorted(glob(\"data/index/{}/*.csv\".format(OUT_FOLDER)))"
   ]
  },
  {
   "cell_type": "code",
   "execution_count": 2,
   "metadata": {},
   "outputs": [
    {
     "output_type": "stream",
     "name": "stderr",
     "text": [
      "filter: 100%|██████████| 1103/1103 [12:32<00:00,  1.47it/s]\n"
     ]
    }
   ],
   "source": [
    "paths = path_filter(paths=PATHS,\n",
    "                    threshold=THRESHOLD)"
   ]
  },
  {
   "cell_type": "code",
   "execution_count": 3,
   "metadata": {},
   "outputs": [],
   "source": [
    " merged, _ = merge_market_and_gtrends(PATHS[0], test_size=TEST_SIZE)"
   ]
  },
  {
   "cell_type": "code",
   "execution_count": 4,
   "metadata": {},
   "outputs": [
    {
     "output_type": "execute_result",
     "data": {
      "text/plain": [
       "            target_return  BUY AND HOLD  DOW JONES   act  arts  bank  banking  \\\n",
       "date                                                                            \n",
       "2004-01-02      -0.010282           0.0        1.0   3.0   0.0  38.0     -1.0   \n",
       "2004-01-05       0.005343          -1.0        0.0   3.0   3.0  -7.0     -3.0   \n",
       "2004-01-06       0.001476           0.0        1.0  10.0   1.0  37.0      5.0   \n",
       "2004-01-07      -0.010024           0.0       -1.0  -4.0  -4.0  -8.0     -1.0   \n",
       "2004-01-08      -0.006849           0.0        1.0   2.0   2.0   1.0      1.0   \n",
       "\n",
       "            blacklist  bonds  bubble  ...  virginia  voters  votes   war  \\\n",
       "date                                  ...                                  \n",
       "2004-01-02        1.0   -4.0    -2.0  ...       8.0     0.0    0.0   5.0   \n",
       "2004-01-05        0.0   -1.0    -3.0  ...       1.0     1.0    1.0   4.0   \n",
       "2004-01-06        0.0   -1.0     1.0  ...      21.0     0.0   -1.0 -12.0   \n",
       "2004-01-07        1.0    2.0     2.0  ...      -7.0     0.0    0.0   1.0   \n",
       "2004-01-08        0.0   -1.0    -1.0  ...      -9.0     0.0    0.0   7.0   \n",
       "\n",
       "            washington  water  william  wisconsin  world  york  \n",
       "date                                                            \n",
       "2004-01-02        20.0    2.0      4.0        0.0   14.0  11.0  \n",
       "2004-01-05        -1.0    3.0      5.0        1.0    4.0 -15.0  \n",
       "2004-01-06        33.0    9.0      2.0       11.0   -7.0  29.0  \n",
       "2004-01-07        -9.0   -3.0      1.0       -5.0    0.0  -8.0  \n",
       "2004-01-08        -7.0   -2.0      0.0        2.0   -3.0  -1.0  \n",
       "\n",
       "[5 rows x 183 columns]"
      ],
      "text/html": "<div>\n<style scoped>\n    .dataframe tbody tr th:only-of-type {\n        vertical-align: middle;\n    }\n\n    .dataframe tbody tr th {\n        vertical-align: top;\n    }\n\n    .dataframe thead th {\n        text-align: right;\n    }\n</style>\n<table border=\"1\" class=\"dataframe\">\n  <thead>\n    <tr style=\"text-align: right;\">\n      <th></th>\n      <th>target_return</th>\n      <th>BUY AND HOLD</th>\n      <th>DOW JONES</th>\n      <th>act</th>\n      <th>arts</th>\n      <th>bank</th>\n      <th>banking</th>\n      <th>blacklist</th>\n      <th>bonds</th>\n      <th>bubble</th>\n      <th>...</th>\n      <th>virginia</th>\n      <th>voters</th>\n      <th>votes</th>\n      <th>war</th>\n      <th>washington</th>\n      <th>water</th>\n      <th>william</th>\n      <th>wisconsin</th>\n      <th>world</th>\n      <th>york</th>\n    </tr>\n    <tr>\n      <th>date</th>\n      <th></th>\n      <th></th>\n      <th></th>\n      <th></th>\n      <th></th>\n      <th></th>\n      <th></th>\n      <th></th>\n      <th></th>\n      <th></th>\n      <th></th>\n      <th></th>\n      <th></th>\n      <th></th>\n      <th></th>\n      <th></th>\n      <th></th>\n      <th></th>\n      <th></th>\n      <th></th>\n      <th></th>\n    </tr>\n  </thead>\n  <tbody>\n    <tr>\n      <th>2004-01-02</th>\n      <td>-0.010282</td>\n      <td>0.0</td>\n      <td>1.0</td>\n      <td>3.0</td>\n      <td>0.0</td>\n      <td>38.0</td>\n      <td>-1.0</td>\n      <td>1.0</td>\n      <td>-4.0</td>\n      <td>-2.0</td>\n      <td>...</td>\n      <td>8.0</td>\n      <td>0.0</td>\n      <td>0.0</td>\n      <td>5.0</td>\n      <td>20.0</td>\n      <td>2.0</td>\n      <td>4.0</td>\n      <td>0.0</td>\n      <td>14.0</td>\n      <td>11.0</td>\n    </tr>\n    <tr>\n      <th>2004-01-05</th>\n      <td>0.005343</td>\n      <td>-1.0</td>\n      <td>0.0</td>\n      <td>3.0</td>\n      <td>3.0</td>\n      <td>-7.0</td>\n      <td>-3.0</td>\n      <td>0.0</td>\n      <td>-1.0</td>\n      <td>-3.0</td>\n      <td>...</td>\n      <td>1.0</td>\n      <td>1.0</td>\n      <td>1.0</td>\n      <td>4.0</td>\n      <td>-1.0</td>\n      <td>3.0</td>\n      <td>5.0</td>\n      <td>1.0</td>\n      <td>4.0</td>\n      <td>-15.0</td>\n    </tr>\n    <tr>\n      <th>2004-01-06</th>\n      <td>0.001476</td>\n      <td>0.0</td>\n      <td>1.0</td>\n      <td>10.0</td>\n      <td>1.0</td>\n      <td>37.0</td>\n      <td>5.0</td>\n      <td>0.0</td>\n      <td>-1.0</td>\n      <td>1.0</td>\n      <td>...</td>\n      <td>21.0</td>\n      <td>0.0</td>\n      <td>-1.0</td>\n      <td>-12.0</td>\n      <td>33.0</td>\n      <td>9.0</td>\n      <td>2.0</td>\n      <td>11.0</td>\n      <td>-7.0</td>\n      <td>29.0</td>\n    </tr>\n    <tr>\n      <th>2004-01-07</th>\n      <td>-0.010024</td>\n      <td>0.0</td>\n      <td>-1.0</td>\n      <td>-4.0</td>\n      <td>-4.0</td>\n      <td>-8.0</td>\n      <td>-1.0</td>\n      <td>1.0</td>\n      <td>2.0</td>\n      <td>2.0</td>\n      <td>...</td>\n      <td>-7.0</td>\n      <td>0.0</td>\n      <td>0.0</td>\n      <td>1.0</td>\n      <td>-9.0</td>\n      <td>-3.0</td>\n      <td>1.0</td>\n      <td>-5.0</td>\n      <td>0.0</td>\n      <td>-8.0</td>\n    </tr>\n    <tr>\n      <th>2004-01-08</th>\n      <td>-0.006849</td>\n      <td>0.0</td>\n      <td>1.0</td>\n      <td>2.0</td>\n      <td>2.0</td>\n      <td>1.0</td>\n      <td>1.0</td>\n      <td>0.0</td>\n      <td>-1.0</td>\n      <td>-1.0</td>\n      <td>...</td>\n      <td>-9.0</td>\n      <td>0.0</td>\n      <td>0.0</td>\n      <td>7.0</td>\n      <td>-7.0</td>\n      <td>-2.0</td>\n      <td>0.0</td>\n      <td>2.0</td>\n      <td>-3.0</td>\n      <td>-1.0</td>\n    </tr>\n  </tbody>\n</table>\n<p>5 rows × 183 columns</p>\n</div>"
     },
     "metadata": {},
     "execution_count": 4
    }
   ],
   "source": [
    "merged.head()"
   ]
  },
  {
   "cell_type": "code",
   "execution_count": 6,
   "metadata": {},
   "outputs": [],
   "source": [
    "x_name = 'DOW JONES'\n",
    "y_name = 'target_return'\n",
    "\n",
    "test_result = sm.tsa.stattools.grangercausalitytests(x=merged[[y_name] + [x_name]],\n",
    "                                                     maxlag=MAX_LAG,\n",
    "                                                     verbose=DEBUG)"
   ]
  },
  {
   "cell_type": "code",
   "execution_count": 8,
   "metadata": {},
   "outputs": [
    {
     "output_type": "execute_result",
     "data": {
      "text/plain": [
       "dict_keys([1, 2, 3, 4, 5, 6, 7, 8, 9, 10, 11, 12, 13, 14, 15, 16, 17, 18, 19, 20])"
      ]
     },
     "metadata": {},
     "execution_count": 8
    }
   ],
   "source": [
    "test_result.keys()"
   ]
  },
  {
   "cell_type": "code",
   "execution_count": 9,
   "metadata": {},
   "outputs": [
    {
     "output_type": "execute_result",
     "data": {
      "text/plain": [
       "({'ssr_ftest': (0.07782753307495034, 0.7803212602769055, 996.0, 1),\n",
       "  'ssr_chi2test': (0.07806195335529657, 0.7799411759009051, 1),\n",
       "  'lrtest': (0.07805890362942591, 0.7799453638828201, 1),\n",
       "  'params_ftest': (0.07782753307484022, 0.7803212602770574, 996.0, 1.0)},\n",
       " [<statsmodels.regression.linear_model.RegressionResultsWrapper at 0x7fc4ebae9730>,\n",
       "  <statsmodels.regression.linear_model.RegressionResultsWrapper at 0x7fc4ebae9d00>,\n",
       "  array([[0., 1., 0.]])])"
      ]
     },
     "metadata": {},
     "execution_count": 9
    }
   ],
   "source": [
    "test_result[1]"
   ]
  },
  {
   "cell_type": "code",
   "execution_count": 15,
   "metadata": {},
   "outputs": [
    {
     "output_type": "execute_result",
     "data": {
      "text/plain": [
       "<class 'statsmodels.iolib.summary.Summary'>\n",
       "\"\"\"\n",
       "                            OLS Regression Results                            \n",
       "==============================================================================\n",
       "Dep. Variable:                      y   R-squared:                       0.006\n",
       "Model:                            OLS   Adj. R-squared:                  0.005\n",
       "Method:                 Least Squares   F-statistic:                     6.292\n",
       "Date:                Sat, 06 Mar 2021   Prob (F-statistic):             0.0123\n",
       "Time:                        16:43:47   Log-Likelihood:                 3054.6\n",
       "No. Observations:                 999   AIC:                            -6105.\n",
       "Df Residuals:                     997   BIC:                            -6095.\n",
       "Df Model:                           1                                         \n",
       "Covariance Type:            nonrobust                                         \n",
       "==============================================================================\n",
       "                 coef    std err          t      P>|t|      [0.025      0.975]\n",
       "------------------------------------------------------------------------------\n",
       "x1            -0.0792      0.032     -2.508      0.012      -0.141      -0.017\n",
       "const          0.0005      0.000      1.442      0.150      -0.000       0.001\n",
       "==============================================================================\n",
       "Omnibus:                      100.358   Durbin-Watson:                   2.013\n",
       "Prob(Omnibus):                  0.000   Jarque-Bera (JB):              690.191\n",
       "Skew:                           0.078   Prob(JB):                    1.34e-150\n",
       "Kurtosis:                       7.069   Cond. No.                         87.6\n",
       "==============================================================================\n",
       "\n",
       "Notes:\n",
       "[1] Standard Errors assume that the covariance matrix of the errors is correctly specified.\n",
       "\"\"\""
      ],
      "text/html": "<table class=\"simpletable\">\n<caption>OLS Regression Results</caption>\n<tr>\n  <th>Dep. Variable:</th>            <td>y</td>        <th>  R-squared:         </th> <td>   0.006</td>\n</tr>\n<tr>\n  <th>Model:</th>                   <td>OLS</td>       <th>  Adj. R-squared:    </th> <td>   0.005</td>\n</tr>\n<tr>\n  <th>Method:</th>             <td>Least Squares</td>  <th>  F-statistic:       </th> <td>   6.292</td>\n</tr>\n<tr>\n  <th>Date:</th>             <td>Sat, 06 Mar 2021</td> <th>  Prob (F-statistic):</th>  <td>0.0123</td> \n</tr>\n<tr>\n  <th>Time:</th>                 <td>16:43:47</td>     <th>  Log-Likelihood:    </th> <td>  3054.6</td>\n</tr>\n<tr>\n  <th>No. Observations:</th>      <td>   999</td>      <th>  AIC:               </th> <td>  -6105.</td>\n</tr>\n<tr>\n  <th>Df Residuals:</th>          <td>   997</td>      <th>  BIC:               </th> <td>  -6095.</td>\n</tr>\n<tr>\n  <th>Df Model:</th>              <td>     1</td>      <th>                     </th>     <td> </td>   \n</tr>\n<tr>\n  <th>Covariance Type:</th>      <td>nonrobust</td>    <th>                     </th>     <td> </td>   \n</tr>\n</table>\n<table class=\"simpletable\">\n<tr>\n    <td></td>       <th>coef</th>     <th>std err</th>      <th>t</th>      <th>P>|t|</th>  <th>[0.025</th>    <th>0.975]</th>  \n</tr>\n<tr>\n  <th>x1</th>    <td>   -0.0792</td> <td>    0.032</td> <td>   -2.508</td> <td> 0.012</td> <td>   -0.141</td> <td>   -0.017</td>\n</tr>\n<tr>\n  <th>const</th> <td>    0.0005</td> <td>    0.000</td> <td>    1.442</td> <td> 0.150</td> <td>   -0.000</td> <td>    0.001</td>\n</tr>\n</table>\n<table class=\"simpletable\">\n<tr>\n  <th>Omnibus:</th>       <td>100.358</td> <th>  Durbin-Watson:     </th> <td>   2.013</td> \n</tr>\n<tr>\n  <th>Prob(Omnibus):</th> <td> 0.000</td>  <th>  Jarque-Bera (JB):  </th> <td> 690.191</td> \n</tr>\n<tr>\n  <th>Skew:</th>          <td> 0.078</td>  <th>  Prob(JB):          </th> <td>1.34e-150</td>\n</tr>\n<tr>\n  <th>Kurtosis:</th>      <td> 7.069</td>  <th>  Cond. No.          </th> <td>    87.6</td> \n</tr>\n</table><br/><br/>Notes:<br/>[1] Standard Errors assume that the covariance matrix of the errors is correctly specified."
     },
     "metadata": {},
     "execution_count": 15
    }
   ],
   "source": [
    "test_result[1][1][0].summary()"
   ]
  },
  {
   "cell_type": "code",
   "execution_count": 16,
   "metadata": {},
   "outputs": [
    {
     "output_type": "execute_result",
     "data": {
      "text/plain": [
       "<class 'statsmodels.iolib.summary.Summary'>\n",
       "\"\"\"\n",
       "                            OLS Regression Results                            \n",
       "==============================================================================\n",
       "Dep. Variable:                      y   R-squared:                       0.006\n",
       "Model:                            OLS   Adj. R-squared:                  0.004\n",
       "Method:                 Least Squares   F-statistic:                     3.182\n",
       "Date:                Sat, 06 Mar 2021   Prob (F-statistic):             0.0419\n",
       "Time:                        16:44:07   Log-Likelihood:                 3054.7\n",
       "No. Observations:                 999   AIC:                            -6103.\n",
       "Df Residuals:                     996   BIC:                            -6089.\n",
       "Df Model:                           2                                         \n",
       "Covariance Type:            nonrobust                                         \n",
       "==============================================================================\n",
       "                 coef    std err          t      P>|t|      [0.025      0.975]\n",
       "------------------------------------------------------------------------------\n",
       "x1            -0.0792      0.032     -2.509      0.012      -0.141      -0.017\n",
       "x2            -0.0002      0.001     -0.279      0.780      -0.001       0.001\n",
       "const          0.0005      0.000      1.468      0.143      -0.000       0.001\n",
       "==============================================================================\n",
       "Omnibus:                      100.846   Durbin-Watson:                   2.012\n",
       "Prob(Omnibus):                  0.000   Jarque-Bera (JB):              697.488\n",
       "Skew:                           0.079   Prob(JB):                    3.49e-152\n",
       "Kurtosis:                       7.090   Cond. No.                         88.7\n",
       "==============================================================================\n",
       "\n",
       "Notes:\n",
       "[1] Standard Errors assume that the covariance matrix of the errors is correctly specified.\n",
       "\"\"\""
      ],
      "text/html": "<table class=\"simpletable\">\n<caption>OLS Regression Results</caption>\n<tr>\n  <th>Dep. Variable:</th>            <td>y</td>        <th>  R-squared:         </th> <td>   0.006</td>\n</tr>\n<tr>\n  <th>Model:</th>                   <td>OLS</td>       <th>  Adj. R-squared:    </th> <td>   0.004</td>\n</tr>\n<tr>\n  <th>Method:</th>             <td>Least Squares</td>  <th>  F-statistic:       </th> <td>   3.182</td>\n</tr>\n<tr>\n  <th>Date:</th>             <td>Sat, 06 Mar 2021</td> <th>  Prob (F-statistic):</th>  <td>0.0419</td> \n</tr>\n<tr>\n  <th>Time:</th>                 <td>16:44:07</td>     <th>  Log-Likelihood:    </th> <td>  3054.7</td>\n</tr>\n<tr>\n  <th>No. Observations:</th>      <td>   999</td>      <th>  AIC:               </th> <td>  -6103.</td>\n</tr>\n<tr>\n  <th>Df Residuals:</th>          <td>   996</td>      <th>  BIC:               </th> <td>  -6089.</td>\n</tr>\n<tr>\n  <th>Df Model:</th>              <td>     2</td>      <th>                     </th>     <td> </td>   \n</tr>\n<tr>\n  <th>Covariance Type:</th>      <td>nonrobust</td>    <th>                     </th>     <td> </td>   \n</tr>\n</table>\n<table class=\"simpletable\">\n<tr>\n    <td></td>       <th>coef</th>     <th>std err</th>      <th>t</th>      <th>P>|t|</th>  <th>[0.025</th>    <th>0.975]</th>  \n</tr>\n<tr>\n  <th>x1</th>    <td>   -0.0792</td> <td>    0.032</td> <td>   -2.509</td> <td> 0.012</td> <td>   -0.141</td> <td>   -0.017</td>\n</tr>\n<tr>\n  <th>x2</th>    <td>   -0.0002</td> <td>    0.001</td> <td>   -0.279</td> <td> 0.780</td> <td>   -0.001</td> <td>    0.001</td>\n</tr>\n<tr>\n  <th>const</th> <td>    0.0005</td> <td>    0.000</td> <td>    1.468</td> <td> 0.143</td> <td>   -0.000</td> <td>    0.001</td>\n</tr>\n</table>\n<table class=\"simpletable\">\n<tr>\n  <th>Omnibus:</th>       <td>100.846</td> <th>  Durbin-Watson:     </th> <td>   2.012</td> \n</tr>\n<tr>\n  <th>Prob(Omnibus):</th> <td> 0.000</td>  <th>  Jarque-Bera (JB):  </th> <td> 697.488</td> \n</tr>\n<tr>\n  <th>Skew:</th>          <td> 0.079</td>  <th>  Prob(JB):          </th> <td>3.49e-152</td>\n</tr>\n<tr>\n  <th>Kurtosis:</th>      <td> 7.090</td>  <th>  Cond. No.          </th> <td>    88.7</td> \n</tr>\n</table><br/><br/>Notes:<br/>[1] Standard Errors assume that the covariance matrix of the errors is correctly specified."
     },
     "metadata": {},
     "execution_count": 16
    }
   ],
   "source": [
    "test_result[1][1][1].summary()"
   ]
  },
  {
   "cell_type": "code",
   "execution_count": null,
   "metadata": {},
   "outputs": [],
   "source": []
  }
 ]
}