{
 "cells": [
  {
   "cell_type": "markdown",
   "metadata": {},
   "source": [
    "## TODO\n",
    "- define IS and OOS\n",
    "- define how to merge both trend and market datasets"
   ]
  },
  {
   "cell_type": "code",
   "execution_count": 1,
   "metadata": {},
   "outputs": [],
   "source": [
    "import numpy as np\n",
    "import pandas as pd\n",
    "import matplotlib.pyplot as plt\n",
    "import os"
   ]
  },
  {
   "cell_type": "code",
   "execution_count": 2,
   "metadata": {},
   "outputs": [],
   "source": [
    "# def get_log_return(df_market,\n",
    "#                    close_price_column='PX_LAST',\n",
    "#                    date_column='date'):\n",
    "#     \"\"\"\n",
    "#     get the log returns from the close price of an asset df.\n",
    "#     log returns = log(p_t) - log(p_{t-1}) \n",
    "\n",
    "\n",
    "#     :param df_market: asset dataframe\n",
    "#     :type df_market: pd.DataFrame\n",
    "#     :param close_price_column: column with the close price\n",
    "#     :type close_price_column: str\n",
    "#     :param date_column: column with the date information\n",
    "#     :type date_column: str\n",
    "#     :return: transformed dataframe\n",
    "#     :rtype: pd.DataFrame\n",
    "#     \"\"\"\n",
    "#     df_market.loc[:, date_column] = pd.to_datetime(df_market[date_column])\n",
    "#     df_market = df_market.set_index(date_column)\n",
    "#     df_market = df_market[[close_price_column]].dropna()\n",
    "# #     df_market = pd.DataFrame(df_market[close_price_column].resample(rule='W-MON').last())\n",
    "#     log_pt =  np.log(df_market[close_price_column])\n",
    "#     log_pt_minus_1 =  np.log(df_market[close_price_column].shift(1))\n",
    "#     df_market.loc[:, \"log_pct_change\"] = log_pt - log_pt_minus_1\n",
    "# #     return df_market.drop(close_price_column, 1).dropna()\n",
    "#     return df_market[[close_price_column]]"
   ]
  },
  {
   "cell_type": "markdown",
   "metadata": {},
   "source": [
    "### Merging market and trends dfs"
   ]
  },
  {
   "cell_type": "code",
   "execution_count": 3,
   "metadata": {},
   "outputs": [
    {
     "ename": "NameError",
     "evalue": "name 'get_log_return' is not defined",
     "output_type": "error",
     "traceback": [
      "\u001b[0;31m---------------------------------------------------------------------------\u001b[0m",
      "\u001b[0;31mNameError\u001b[0m                                 Traceback (most recent call last)",
      "\u001b[0;32m<ipython-input-3-5fc8a5a76854>\u001b[0m in \u001b[0;36m<module>\u001b[0;34m\u001b[0m\n\u001b[1;32m      3\u001b[0m \u001b[0masset\u001b[0m \u001b[0;34m=\u001b[0m \u001b[0;34m'es1'\u001b[0m\u001b[0;34m\u001b[0m\u001b[0;34m\u001b[0m\u001b[0m\n\u001b[1;32m      4\u001b[0m \u001b[0mpath_market\u001b[0m \u001b[0;34m=\u001b[0m \u001b[0mos\u001b[0m\u001b[0;34m.\u001b[0m\u001b[0mpath\u001b[0m\u001b[0;34m.\u001b[0m\u001b[0mjoin\u001b[0m\u001b[0;34m(\u001b[0m\u001b[0;34m'data'\u001b[0m\u001b[0;34m,\u001b[0m\u001b[0;34m'{}.txt'\u001b[0m\u001b[0;34m.\u001b[0m\u001b[0mformat\u001b[0m\u001b[0;34m(\u001b[0m\u001b[0masset\u001b[0m\u001b[0;34m)\u001b[0m\u001b[0;34m)\u001b[0m\u001b[0;34m\u001b[0m\u001b[0;34m\u001b[0m\u001b[0m\n\u001b[0;32m----> 5\u001b[0;31m \u001b[0mmarket_df\u001b[0m \u001b[0;34m=\u001b[0m \u001b[0mget_log_return\u001b[0m\u001b[0;34m(\u001b[0m\u001b[0mpd\u001b[0m\u001b[0;34m.\u001b[0m\u001b[0mread_csv\u001b[0m\u001b[0;34m(\u001b[0m\u001b[0mpath_market\u001b[0m\u001b[0;34m,\u001b[0m \u001b[0msep\u001b[0m\u001b[0;34m=\u001b[0m\u001b[0;34m'\\t'\u001b[0m\u001b[0;34m)\u001b[0m\u001b[0;34m)\u001b[0m\u001b[0;34m\u001b[0m\u001b[0;34m\u001b[0m\u001b[0m\n\u001b[0m\u001b[1;32m      6\u001b[0m \u001b[0;31m# merged_df =  merge_market_trend_dfs(market_df, trends_df)\u001b[0m\u001b[0;34m\u001b[0m\u001b[0;34m\u001b[0m\u001b[0;34m\u001b[0m\u001b[0m\n\u001b[1;32m      7\u001b[0m \u001b[0mtrends_df\u001b[0m\u001b[0;34m.\u001b[0m\u001b[0mhead\u001b[0m\u001b[0;34m(\u001b[0m\u001b[0;36m2\u001b[0m\u001b[0;34m)\u001b[0m\u001b[0;34m\u001b[0m\u001b[0;34m\u001b[0m\u001b[0m\n",
      "\u001b[0;31mNameError\u001b[0m: name 'get_log_return' is not defined"
     ]
    }
   ],
   "source": [
    "trends_path = os.path.join('data','politics_google.csv')\n",
    "trends_df = pd.read_csv(trends_path)\n",
    "asset = 'es1'\n",
    "path_market = os.path.join('data','{}.txt'.format(asset))\n",
    "market_df = get_log_return(pd.read_csv(path_market, sep='\\t'))\n",
    "# merged_df =  merge_market_trend_dfs(market_df, trends_df)\n",
    "trends_df.head(2)"
   ]
  },
  {
   "cell_type": "code",
   "execution_count": null,
   "metadata": {},
   "outputs": [],
   "source": []
  }
 ],
 "metadata": {
  "kernelspec": {
   "display_name": "Python 3",
   "language": "python",
   "name": "python3"
  },
  "language_info": {
   "codemirror_mode": {
    "name": "ipython",
    "version": 3
   },
   "file_extension": ".py",
   "mimetype": "text/x-python",
   "name": "python",
   "nbconvert_exporter": "python",
   "pygments_lexer": "ipython3",
   "version": "3.6.9"
  }
 },
 "nbformat": 4,
 "nbformat_minor": 4
}
