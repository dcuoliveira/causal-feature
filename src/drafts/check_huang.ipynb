{
 "cells": [
  {
   "cell_type": "code",
   "execution_count": 1,
   "metadata": {},
   "outputs": [],
   "source": [
    "import os\n",
    "import numpy as np\n",
    "import pandas as pd\n",
    "from glob import glob\n",
    "from data_mani.utils import path_filter\n",
    "from feature_selection.huang import run_huang_methods\n",
    "from data_mani.utils import merge_market_and_gtrends\n",
    "from word_list.analysis import words"
   ]
  },
  {
   "cell_type": "markdown",
   "metadata": {},
   "source": [
    "## NYSE Problem"
   ]
  },
  {
   "cell_type": "code",
   "execution_count": 2,
   "metadata": {},
   "outputs": [
    {
     "name": "stdout",
     "output_type": "stream",
     "text": [
      "number of problem pahts =  26\n"
     ]
    }
   ],
   "source": [
    "filtered_nyse = [p.split(\"/\")[-1] for p in glob(\"results/mdi/nyse/*csv\")]\n",
    "huang_nyse = [p.split(\"/\")[-1] for p in glob(\"results/huang/nyse/*csv\")]\n",
    "problematic_nyse = [p for p in filtered_nyse if p not in huang_nyse]\n",
    "problematic_nyse = [os.path.join(*[\"data\", \"crsp\",'nyse', p]) for p in problematic_nyse]\n",
    "problematic_nyse.sort()\n",
    "\n",
    "assert len(huang_nyse) + len(problematic_nyse) == len(filtered_nyse)\n",
    "# First ticker with problem\n",
    "print(\"number of problem pahts = \", len(problematic_nyse))"
   ]
  },
  {
   "cell_type": "code",
   "execution_count": 3,
   "metadata": {},
   "outputs": [
    {
     "name": "stdout",
     "output_type": "stream",
     "text": [
      "Warning: Maximum number of iterations has been exceeded.\n",
      "         Current function value: inf\n",
      "         Iterations: 35\n"
     ]
    },
    {
     "name": "stderr",
     "output_type": "stream",
     "text": [
      "/home/felsal/.local/lib/python3.8/site-packages/statsmodels/discrete/discrete_model.py:1799: RuntimeWarning: overflow encountered in exp\n",
      "  return 1/(1+np.exp(-X))\n",
      "/home/felsal/.local/lib/python3.8/site-packages/statsmodels/discrete/discrete_model.py:1852: RuntimeWarning: divide by zero encountered in log\n",
      "  return np.sum(np.log(self.cdf(q*np.dot(X,params))))\n"
     ]
    }
   ],
   "source": [
    "test_size = 0.5\n",
    "max_lag = 20\n",
    "sig_level = 0.05\n",
    "correl_threshold = 0.5\n",
    "constant_threshold = 0.9 \n",
    "\n",
    "\n",
    "path = problematic_nyse[0]\n",
    "\n",
    "merged, _ = merge_market_and_gtrends(path, test_size=test_size)\n",
    "result = run_huang_methods(merged_df=merged, target_name=\"target_return\",\n",
    "                           words=words, max_lag=max_lag, verbose=False,\n",
    "                           sig_level=sig_level,\n",
    "                           correl_threshold=correl_threshold,\n",
    "                           constant_threshold=constant_threshold)"
   ]
  },
  {
   "cell_type": "code",
   "execution_count": 4,
   "metadata": {},
   "outputs": [
    {
     "data": {
      "text/plain": [
       "['data/crsp/nyse/1008621Q US Equity.csv',\n",
       " 'data/crsp/nyse/1085751D US Equity.csv',\n",
       " 'data/crsp/nyse/1281629D US Equity.csv',\n",
       " 'data/crsp/nyse/1288652D US Equity.csv',\n",
       " 'data/crsp/nyse/1312089D US Equity.csv',\n",
       " 'data/crsp/nyse/2266132Q US Equity.csv',\n",
       " 'data/crsp/nyse/2304786Q US Equity.csv',\n",
       " 'data/crsp/nyse/2749833Q US Equity.csv',\n",
       " 'data/crsp/nyse/2968900Q US Equity.csv',\n",
       " 'data/crsp/nyse/3037491Q US Equity.csv',\n",
       " 'data/crsp/nyse/3080867Q US Equity.csv',\n",
       " 'data/crsp/nyse/849893Q US Equity.csv',\n",
       " 'data/crsp/nyse/929530Q US Equity.csv',\n",
       " 'data/crsp/nyse/982541Q US Equity.csv',\n",
       " 'data/crsp/nyse/AMBWQ US Equity.csv',\n",
       " 'data/crsp/nyse/BED US Equity.csv',\n",
       " 'data/crsp/nyse/BEV US Equity.csv',\n",
       " 'data/crsp/nyse/DVIXQ US Equity.csv',\n",
       " 'data/crsp/nyse/EDO US Equity.csv',\n",
       " 'data/crsp/nyse/EOP US Equity.csv',\n",
       " 'data/crsp/nyse/ETAD US Equity.csv',\n",
       " 'data/crsp/nyse/MLRMF US Equity.csv',\n",
       " 'data/crsp/nyse/TCT US Equity.csv',\n",
       " 'data/crsp/nyse/TEK US Equity.csv',\n",
       " 'data/crsp/nyse/TFSIQ US Equity.csv',\n",
       " 'data/crsp/nyse/TMR US Equity.csv']"
      ]
     },
     "execution_count": 4,
     "metadata": {},
     "output_type": "execute_result"
    }
   ],
   "source": [
    "problematic_nyse"
   ]
  },
  {
   "cell_type": "markdown",
   "metadata": {},
   "source": [
    "# NASDAQ Problem"
   ]
  },
  {
   "cell_type": "code",
   "execution_count": 5,
   "metadata": {},
   "outputs": [
    {
     "name": "stdout",
     "output_type": "stream",
     "text": [
      "number of problem pahts =  872\n"
     ]
    }
   ],
   "source": [
    "filtered_nasdaq = [p.split(\"/\")[-1] for p in glob(\"results/mdi/nasdaq/*csv\")]\n",
    "huang_nasdaq = [p.split(\"/\")[-1] for p in glob(\"results/huang/nasdaq/*csv\")]\n",
    "problematic_nasdaq = [p for p in filtered_nasdaq if p not in huang_nasdaq]\n",
    "problematic_nasdaq = [os.path.join(*[\"data\", \"crsp\",'nasdaq', p]) for p in problematic_nasdaq]\n",
    "problematic_nasdaq.sort()\n",
    "\n",
    "assert len(huang_nasdaq) + len(problematic_nasdaq) == len(filtered_nasdaq)\n",
    "\n",
    "# First ticker with problem\n",
    "print(\"number of problem pahts = \", len(problematic_nasdaq))"
   ]
  },
  {
   "cell_type": "code",
   "execution_count": 6,
   "metadata": {},
   "outputs": [
    {
     "name": "stdout",
     "output_type": "stream",
     "text": [
      "Warning: Maximum number of iterations has been exceeded.\n",
      "         Current function value: inf\n",
      "         Iterations: 35\n"
     ]
    },
    {
     "name": "stderr",
     "output_type": "stream",
     "text": [
      "/home/felsal/.local/lib/python3.8/site-packages/statsmodels/discrete/discrete_model.py:1799: RuntimeWarning: overflow encountered in exp\n",
      "  return 1/(1+np.exp(-X))\n",
      "/home/felsal/.local/lib/python3.8/site-packages/statsmodels/discrete/discrete_model.py:1852: RuntimeWarning: divide by zero encountered in log\n",
      "  return np.sum(np.log(self.cdf(q*np.dot(X,params))))\n"
     ]
    }
   ],
   "source": [
    "test_size = 0.5\n",
    "max_lag = 20\n",
    "sig_level = 0.05\n",
    "correl_threshold = 0.5\n",
    "constant_threshold = 0.9 \n",
    "\n",
    "\n",
    "path = problematic_nasdaq[0]\n",
    "\n",
    "merged, _ = merge_market_and_gtrends(path, test_size=test_size)\n",
    "result = run_huang_methods(merged_df=merged, target_name=\"target_return\",\n",
    "                           words=words, max_lag=max_lag, verbose=False,\n",
    "                           sig_level=sig_level,\n",
    "                           correl_threshold=correl_threshold,\n",
    "                           constant_threshold=constant_threshold)"
   ]
  },
  {
   "cell_type": "code",
   "execution_count": 7,
   "metadata": {},
   "outputs": [
    {
     "data": {
      "text/plain": [
       "['data/crsp/nasdaq/ABTO US Equity.csv',\n",
       " 'data/crsp/nasdaq/ABVC US Equity.csv',\n",
       " 'data/crsp/nasdaq/ABVG US Equity.csv',\n",
       " 'data/crsp/nasdaq/ABZT US Equity.csv',\n",
       " 'data/crsp/nasdaq/AC US Equity.csv',\n",
       " 'data/crsp/nasdaq/ACBCQ US Equity.csv',\n",
       " 'data/crsp/nasdaq/ACMR US Equity.csv',\n",
       " 'data/crsp/nasdaq/ACNB US Equity.csv',\n",
       " 'data/crsp/nasdaq/ACPS US Equity.csv',\n",
       " 'data/crsp/nasdaq/ACRB US Equity.csv']"
      ]
     },
     "execution_count": 7,
     "metadata": {},
     "output_type": "execute_result"
    }
   ],
   "source": [
    "problematic_nasdaq[:10]"
   ]
  },
  {
   "cell_type": "code",
   "execution_count": null,
   "metadata": {},
   "outputs": [],
   "source": []
  }
 ],
 "metadata": {
  "kernelspec": {
   "display_name": "Python 3",
   "language": "python",
   "name": "python3"
  },
  "language_info": {
   "codemirror_mode": {
    "name": "ipython",
    "version": 3
   },
   "file_extension": ".py",
   "mimetype": "text/x-python",
   "name": "python",
   "nbconvert_exporter": "python",
   "pygments_lexer": "ipython3",
   "version": "3.6.8"
  }
 },
 "nbformat": 4,
 "nbformat_minor": 4
}
