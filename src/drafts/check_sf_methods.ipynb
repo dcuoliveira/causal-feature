{
 "cells": [
  {
   "cell_type": "code",
   "execution_count": 1,
   "metadata": {},
   "outputs": [],
   "source": [
    "import os\n",
    "import numpy as np\n",
    "import pandas as pd\n",
    "from glob import glob\n",
    "from data_mani.utils import path_filter\n",
    "from feature_selection.huang import run_huang_methods\n",
    "from data_mani.utils import merge_market_and_gtrends\n",
    "from word_list.analysis import words"
   ]
  },
  {
   "cell_type": "code",
   "execution_count": 8,
   "metadata": {},
   "outputs": [
    {
     "data": {
      "text/plain": [
       "79"
      ]
     },
     "execution_count": 8,
     "metadata": {},
     "output_type": "execute_result"
    }
   ],
   "source": [
    "spx_sfi = [p.split(\"/\")[-1] for p in glob(\"results/feature_selection/sfi/spx/*csv\")]\n",
    "spx_files = [p.split(\"/\")[-1] for p in glob(\"data/index/spx/*csv\")]\n",
    "\n",
    "problematic_sfi = [p for p in spx_files if p not in spx_sfi]\n",
    "problematic_sfi.sort()\n",
    "len(problematic_sfi)"
   ]
  },
  {
   "cell_type": "code",
   "execution_count": 9,
   "metadata": {},
   "outputs": [
    {
     "data": {
      "text/plain": [
       "1024"
      ]
     },
     "execution_count": 9,
     "metadata": {},
     "output_type": "execute_result"
    }
   ],
   "source": [
    "len(spx_sfi)"
   ]
  },
  {
   "cell_type": "markdown",
   "metadata": {},
   "source": [
    "## NYSE Problem"
   ]
  },
  {
   "cell_type": "code",
   "execution_count": null,
   "metadata": {},
   "outputs": [],
   "source": [
    "filtered_nyse = [p.split(\"/\")[-1] for p in glob(\"results/mdi/nyse/*csv\")]\n",
    "huang_nyse = [p.split(\"/\")[-1] for p in glob(\"results/huang/nyse/*csv\")]\n",
    "problematic_nyse = [p for p in filtered_nyse if p not in huang_nyse]\n",
    "problematic_nyse = [os.path.join(*[\"data\", \"crsp\",'nyse', p]) for p in problematic_nyse]\n",
    "problematic_nyse.sort()\n",
    "\n",
    "assert len(huang_nyse) + len(problematic_nyse) == len(filtered_nyse)\n",
    "# First ticker with problem\n",
    "print(\"number of problem pahts = \", len(problematic_nyse))"
   ]
  },
  {
   "cell_type": "code",
   "execution_count": null,
   "metadata": {},
   "outputs": [],
   "source": [
    "test_size = 0.5\n",
    "max_lag = 20\n",
    "sig_level = 0.05\n",
    "correl_threshold = 0.5\n",
    "constant_threshold = 0.9 \n",
    "\n",
    "\n",
    "path = problematic_nyse[0]\n",
    "\n",
    "merged, _ = merge_market_and_gtrends(path, test_size=test_size)\n",
    "result = run_huang_methods(merged_df=merged, target_name=\"target_return\",\n",
    "                           words=words, max_lag=max_lag, verbose=False,\n",
    "                           sig_level=sig_level,\n",
    "                           correl_threshold=correl_threshold,\n",
    "                           constant_threshold=constant_threshold)"
   ]
  },
  {
   "cell_type": "code",
   "execution_count": null,
   "metadata": {},
   "outputs": [],
   "source": [
    "problematic_nyse"
   ]
  },
  {
   "cell_type": "markdown",
   "metadata": {},
   "source": [
    "# NASDAQ Problem"
   ]
  },
  {
   "cell_type": "code",
   "execution_count": null,
   "metadata": {},
   "outputs": [],
   "source": [
    "filtered_nasdaq = [p.split(\"/\")[-1] for p in glob(\"results/mdi/nasdaq/*csv\")]\n",
    "huang_nasdaq = [p.split(\"/\")[-1] for p in glob(\"results/huang/nasdaq/*csv\")]\n",
    "problematic_nasdaq = [p for p in filtered_nasdaq if p not in huang_nasdaq]\n",
    "problematic_nasdaq = [os.path.join(*[\"data\", \"crsp\",'nasdaq', p]) for p in problematic_nasdaq]\n",
    "problematic_nasdaq.sort()\n",
    "\n",
    "assert len(huang_nasdaq) + len(problematic_nasdaq) == len(filtered_nasdaq)\n",
    "\n",
    "# First ticker with problem\n",
    "print(\"number of problem pahts = \", len(problematic_nasdaq))"
   ]
  },
  {
   "cell_type": "code",
   "execution_count": null,
   "metadata": {},
   "outputs": [],
   "source": [
    "test_size = 0.5\n",
    "max_lag = 20\n",
    "sig_level = 0.05\n",
    "correl_threshold = 0.5\n",
    "constant_threshold = 0.9 \n",
    "\n",
    "\n",
    "path = problematic_nasdaq[0]\n",
    "\n",
    "merged, _ = merge_market_and_gtrends(path, test_size=test_size)\n",
    "result = run_huang_methods(merged_df=merged, target_name=\"target_return\",\n",
    "                           words=words, max_lag=max_lag, verbose=False,\n",
    "                           sig_level=sig_level,\n",
    "                           correl_threshold=correl_threshold,\n",
    "                           constant_threshold=constant_threshold)"
   ]
  },
  {
   "cell_type": "code",
   "execution_count": null,
   "metadata": {},
   "outputs": [],
   "source": [
    "problematic_nasdaq[:10]"
   ]
  },
  {
   "cell_type": "code",
   "execution_count": null,
   "metadata": {},
   "outputs": [],
   "source": []
  }
 ],
 "metadata": {
  "kernelspec": {
   "display_name": "Python 3",
   "language": "python",
   "name": "python3"
  },
  "language_info": {
   "codemirror_mode": {
    "name": "ipython",
    "version": 3
   },
   "file_extension": ".py",
   "mimetype": "text/x-python",
   "name": "python",
   "nbconvert_exporter": "python",
   "pygments_lexer": "ipython3",
   "version": "3.6.8"
  }
 },
 "nbformat": 4,
 "nbformat_minor": 4
}
