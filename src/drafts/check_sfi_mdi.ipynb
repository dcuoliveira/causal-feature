{
 "cells": [
  {
   "cell_type": "code",
   "execution_count": 1,
   "metadata": {},
   "outputs": [],
   "source": [
    "import os\n",
    "import numpy as np\n",
    "import pandas as pd\n",
    "from tqdm import tqdm\n",
    "from glob import glob\n",
    "from time import time\n",
    "from word_list.analysis import words\n",
    "from feature_selection.sfi import get_sfi_scores\n",
    "from feature_selection.mdi import get_mdi_scores\n",
    "from data_mani.utils import merge_market_and_gtrends\n",
    "from data_mani.utils import get_ticker_name"
   ]
  },
  {
   "cell_type": "code",
   "execution_count": 3,
   "metadata": {},
   "outputs": [],
   "source": [
    "# Variables\n",
    "N_SPLITS = 5 # number of CV splits\n",
    "N_CORES = 2 # number of cores to use\n",
    "MAX_LAG = 20 # maximum number of lags to create\n",
    "             # google trends features\n",
    "OUT_FOLDER = \"nyse\" # name of the marked data folder\n",
    "DEBUG = True # param to debug the script\n",
    "TEST_SIZE = 0.5 # pct of the train/test split\n",
    "THRESHOLD = 252 * 2 # treshold to filted merged datframes\n",
    "                    # 252 = business days in a year"
   ]
  },
  {
   "cell_type": "code",
   "execution_count": 9,
   "metadata": {},
   "outputs": [],
   "source": [
    "path = \"data/crsp/nasdaq/AAPL US Equity.csv\"\n",
    "merged, _ = merge_market_and_gtrends(path, test_size=TEST_SIZE)"
   ]
  },
  {
   "cell_type": "code",
   "execution_count": 7,
   "metadata": {},
   "outputs": [],
   "source": [
    "from sklearn.ensemble import RandomForestRegressor"
   ]
  },
  {
   "cell_type": "code",
   "execution_count": 10,
   "metadata": {},
   "outputs": [
    {
     "name": "stderr",
     "output_type": "stream",
     "text": [
      "add shift: 100%|██████████| 182/182 [00:50<00:00,  3.59it/s]\n"
     ]
    }
   ],
   "source": [
    "feature_names = []\n",
    "max_lag = MAX_LAG\n",
    "merged_df = merged.copy()\n",
    "\n",
    "for word in tqdm(words, desc=\"add shift\"):\n",
    "    for shift in range(1, max_lag + 1):\n",
    "        new_feature = word.replace(\" \", \"_\") + \"_{}\".format(shift)\n",
    "        merged_df.loc[:, new_feature] = merged_df[word].shift(shift)\n",
    "        feature_names.append(new_feature)"
   ]
  },
  {
   "cell_type": "code",
   "execution_count": 17,
   "metadata": {},
   "outputs": [
    {
     "data": {
      "text/plain": [
       "(2087, 3823)"
      ]
     },
     "execution_count": 17,
     "metadata": {},
     "output_type": "execute_result"
    }
   ],
   "source": [
    "merged_df.shape"
   ]
  },
  {
   "cell_type": "code",
   "execution_count": 19,
   "metadata": {},
   "outputs": [
    {
     "data": {
      "text/plain": [
       "(2067, 3823)"
      ]
     },
     "execution_count": 19,
     "metadata": {},
     "output_type": "execute_result"
    }
   ],
   "source": [
    ".shape"
   ]
  },
  {
   "cell_type": "code",
   "execution_count": 20,
   "metadata": {},
   "outputs": [
    {
     "data": {
      "text/plain": [
       "RandomForestRegressor(max_features=1, random_state=220458)"
      ]
     },
     "execution_count": 20,
     "metadata": {},
     "output_type": "execute_result"
    }
   ],
   "source": [
    "target_name = \"target_return\"\n",
    "random_state = 220458\n",
    "\n",
    "df_ = merged_df.dropna()\n",
    "\n",
    "X, y = df_[feature_names].values, df_[target_name].values\n",
    "rf = RandomForestRegressor(\n",
    "    max_features=1,\n",
    "    n_estimators=100,\n",
    "    random_state=random_state)\n",
    "rf.fit(X, y)"
   ]
  },
  {
   "cell_type": "code",
   "execution_count": 32,
   "metadata": {},
   "outputs": [
    {
     "data": {
      "text/html": [
       "<div>\n",
       "<style scoped>\n",
       "    .dataframe tbody tr th:only-of-type {\n",
       "        vertical-align: middle;\n",
       "    }\n",
       "\n",
       "    .dataframe tbody tr th {\n",
       "        vertical-align: top;\n",
       "    }\n",
       "\n",
       "    .dataframe thead th {\n",
       "        text-align: right;\n",
       "    }\n",
       "</style>\n",
       "<table border=\"1\" class=\"dataframe\">\n",
       "  <thead>\n",
       "    <tr style=\"text-align: right;\">\n",
       "      <th></th>\n",
       "      <th>feature</th>\n",
       "      <th>feature_score</th>\n",
       "    </tr>\n",
       "  </thead>\n",
       "  <tbody>\n",
       "    <tr>\n",
       "      <th>0</th>\n",
       "      <td>federal_18</td>\n",
       "      <td>0.001101</td>\n",
       "    </tr>\n",
       "    <tr>\n",
       "      <th>1</th>\n",
       "      <td>stock_market_10</td>\n",
       "      <td>0.001085</td>\n",
       "    </tr>\n",
       "    <tr>\n",
       "      <th>2</th>\n",
       "      <td>market_1</td>\n",
       "      <td>0.000996</td>\n",
       "    </tr>\n",
       "    <tr>\n",
       "      <th>3</th>\n",
       "      <td>bank_4</td>\n",
       "      <td>0.000975</td>\n",
       "    </tr>\n",
       "    <tr>\n",
       "      <th>4</th>\n",
       "      <td>oil_18</td>\n",
       "      <td>0.000889</td>\n",
       "    </tr>\n",
       "    <tr>\n",
       "      <th>5</th>\n",
       "      <td>gold_7</td>\n",
       "      <td>0.000852</td>\n",
       "    </tr>\n",
       "    <tr>\n",
       "      <th>6</th>\n",
       "      <td>community_5</td>\n",
       "      <td>0.000849</td>\n",
       "    </tr>\n",
       "    <tr>\n",
       "      <th>7</th>\n",
       "      <td>money_4</td>\n",
       "      <td>0.000811</td>\n",
       "    </tr>\n",
       "    <tr>\n",
       "      <th>8</th>\n",
       "      <td>arts_5</td>\n",
       "      <td>0.000795</td>\n",
       "    </tr>\n",
       "    <tr>\n",
       "      <th>9</th>\n",
       "      <td>labor_18</td>\n",
       "      <td>0.000789</td>\n",
       "    </tr>\n",
       "  </tbody>\n",
       "</table>\n",
       "</div>"
      ],
      "text/plain": [
       "           feature  feature_score\n",
       "0       federal_18       0.001101\n",
       "1  stock_market_10       0.001085\n",
       "2         market_1       0.000996\n",
       "3           bank_4       0.000975\n",
       "4           oil_18       0.000889\n",
       "5           gold_7       0.000852\n",
       "6      community_5       0.000849\n",
       "7          money_4       0.000811\n",
       "8           arts_5       0.000795\n",
       "9         labor_18       0.000789"
      ]
     },
     "execution_count": 32,
     "metadata": {},
     "output_type": "execute_result"
    }
   ],
   "source": [
    "a = pd.DataFrame(list(zip(feature_names, rf.feature_importances_)), columns=[\"feature\", \"feature_score\"])\n",
    "a = a.sort_values(\"feature_score\", ascending=False).reset_index(drop=True)\n",
    "a.head(10)"
   ]
  },
  {
   "cell_type": "code",
   "execution_count": 41,
   "metadata": {},
   "outputs": [
    {
     "data": {
      "text/html": [
       "<div>\n",
       "<style scoped>\n",
       "    .dataframe tbody tr th:only-of-type {\n",
       "        vertical-align: middle;\n",
       "    }\n",
       "\n",
       "    .dataframe tbody tr th {\n",
       "        vertical-align: top;\n",
       "    }\n",
       "\n",
       "    .dataframe thead th {\n",
       "        text-align: right;\n",
       "    }\n",
       "</style>\n",
       "<table border=\"1\" class=\"dataframe\">\n",
       "  <thead>\n",
       "    <tr style=\"text-align: right;\">\n",
       "      <th></th>\n",
       "      <th>mean</th>\n",
       "      <th>std</th>\n",
       "    </tr>\n",
       "  </thead>\n",
       "  <tbody>\n",
       "    <tr>\n",
       "      <th>short_selling_16</th>\n",
       "      <td>0.001522</td>\n",
       "      <td>0.000367</td>\n",
       "    </tr>\n",
       "    <tr>\n",
       "      <th>short_sell_6</th>\n",
       "      <td>0.001499</td>\n",
       "      <td>NaN</td>\n",
       "    </tr>\n",
       "    <tr>\n",
       "      <th>consume_1</th>\n",
       "      <td>0.001211</td>\n",
       "      <td>0.000318</td>\n",
       "    </tr>\n",
       "    <tr>\n",
       "      <th>BUY_AND_HOLD_13</th>\n",
       "      <td>0.001206</td>\n",
       "      <td>0.000169</td>\n",
       "    </tr>\n",
       "    <tr>\n",
       "      <th>short_selling_4</th>\n",
       "      <td>0.001193</td>\n",
       "      <td>0.000043</td>\n",
       "    </tr>\n",
       "    <tr>\n",
       "      <th>short_sell_12</th>\n",
       "      <td>0.001041</td>\n",
       "      <td>0.000147</td>\n",
       "    </tr>\n",
       "    <tr>\n",
       "      <th>market_1</th>\n",
       "      <td>0.000979</td>\n",
       "      <td>0.000186</td>\n",
       "    </tr>\n",
       "    <tr>\n",
       "      <th>short_sell_16</th>\n",
       "      <td>0.000972</td>\n",
       "      <td>0.000181</td>\n",
       "    </tr>\n",
       "    <tr>\n",
       "      <th>short_selling_9</th>\n",
       "      <td>0.000917</td>\n",
       "      <td>0.000138</td>\n",
       "    </tr>\n",
       "    <tr>\n",
       "      <th>short_sell_15</th>\n",
       "      <td>0.000875</td>\n",
       "      <td>0.000149</td>\n",
       "    </tr>\n",
       "  </tbody>\n",
       "</table>\n",
       "</div>"
      ],
      "text/plain": [
       "                      mean       std\n",
       "short_selling_16  0.001522  0.000367\n",
       "short_sell_6      0.001499       NaN\n",
       "consume_1         0.001211  0.000318\n",
       "BUY_AND_HOLD_13   0.001206  0.000169\n",
       "short_selling_4   0.001193  0.000043\n",
       "short_sell_12     0.001041  0.000147\n",
       "market_1          0.000979  0.000186\n",
       "short_sell_16     0.000972  0.000181\n",
       "short_selling_9   0.000917  0.000138\n",
       "short_sell_15     0.000875  0.000149"
      ]
     },
     "execution_count": 41,
     "metadata": {},
     "output_type": "execute_result"
    }
   ],
   "source": [
    "fi_estimators = {\n",
    "    i: dt.feature_importances_ for i,\n",
    "    dt in enumerate(\n",
    "        rf.estimators_)}\n",
    "fi_estimators = pd.DataFrame.from_dict(\n",
    "    fi_estimators, orient=\"index\", columns=feature_names)\n",
    "fi_estimators = fi_estimators.replace(0, np.nan)\n",
    "mean = fi_estimators.mean()\n",
    "std = fi_estimators.std()\n",
    "n = fi_estimators.shape[0]\n",
    "std = std * np.power(n, -0.5)\n",
    "imp = pd.concat({\"mean\": mean, \"std\": std}, axis=1)\n",
    "imp /= imp[\"mean\"].sum()\n",
    "b = imp.sort_values(\"mean\", ascending=False)\n",
    "b.head(10)"
   ]
  },
  {
   "cell_type": "code",
   "execution_count": 51,
   "metadata": {},
   "outputs": [
    {
     "data": {
      "text/plain": [
       "short_selling_16    0.004992\n",
       "short_sell_6        0.004915\n",
       "consume_1           0.003971\n",
       "BUY_AND_HOLD_13     0.003953\n",
       "short_selling_4     0.003912\n",
       "short_sell_12       0.003414\n",
       "market_1            0.003212\n",
       "short_sell_16       0.003188\n",
       "short_selling_9     0.003008\n",
       "short_sell_15       0.002870\n",
       "dtype: float64"
      ]
     },
     "execution_count": 51,
     "metadata": {},
     "output_type": "execute_result"
    }
   ],
   "source": [
    "fi_estimators.mean().sort_values(ascending=False).head(10)"
   ]
  },
  {
   "cell_type": "code",
   "execution_count": 54,
   "metadata": {},
   "outputs": [
    {
     "data": {
      "text/plain": [
       "BUY_AND_HOLD_3      5.241653e-05\n",
       "BUY_AND_HOLD_1      4.918179e-05\n",
       "short_selling_12    4.469329e-05\n",
       "BUY_AND_HOLD_20     3.497783e-05\n",
       "greed_3             2.935375e-05\n",
       "short_sell_11       2.541216e-05\n",
       "BUY_AND_HOLD_2      2.381126e-05\n",
       "BUY_AND_HOLD_18     2.347404e-05\n",
       "BUY_AND_HOLD_17     1.611027e-06\n",
       "rare_earths_15      3.297732e-07\n",
       "dtype: float64"
      ]
     },
     "execution_count": 54,
     "metadata": {},
     "output_type": "execute_result"
    }
   ],
   "source": [
    "fi_estimators.mean().sort_values(ascending=False).dropna().tail(10)"
   ]
  },
  {
   "cell_type": "code",
   "execution_count": 7,
   "metadata": {},
   "outputs": [
    {
     "name": "stderr",
     "output_type": "stream",
     "text": [
      "add shift: 100%|██████████| 182/182 [01:23<00:00,  2.18it/s]\n",
      "cv r2: 100%|██████████| 182/182 [02:57<00:00,  1.03it/s]\n"
     ]
    }
   ],
   "source": [
    "\n",
    "result = get_sfi_scores(merged_df=merged,\n",
    "                        target_name=\"target_return\",\n",
    "                        words=words,\n",
    "                        max_lag=MAX_LAG,\n",
    "                        verbose=True,\n",
    "                        n_splits=N_SPLITS)"
   ]
  },
  {
   "cell_type": "code",
   "execution_count": null,
   "metadata": {},
   "outputs": [],
   "source": []
  },
  {
   "cell_type": "code",
   "execution_count": null,
   "metadata": {},
   "outputs": [],
   "source": []
  },
  {
   "cell_type": "code",
   "execution_count": null,
   "metadata": {},
   "outputs": [],
   "source": []
  },
  {
   "cell_type": "code",
   "execution_count": 45,
   "metadata": {},
   "outputs": [],
   "source": [
    "random_state = 220458\n",
    "# random_state = None\n",
    "\n",
    "result_mdi = get_mdi_scores(merged_df=merged,\n",
    "                            target_name=\"target_return\",\n",
    "                            words=words,\n",
    "                            max_lag=MAX_LAG,\n",
    "                            verbose=False,\n",
    "                            random_state=random_state)\n",
    "\n",
    "# df = pd.concat([result.head(5).feature.to_frame().add_prefix(\"SFI \"),\n",
    "#                 result_mdi.head(5).feature.to_frame().add_prefix(\"MDI \")],1)\n",
    "# df"
   ]
  },
  {
   "cell_type": "code",
   "execution_count": 40,
   "metadata": {},
   "outputs": [
    {
     "data": {
      "text/html": [
       "<div>\n",
       "<style scoped>\n",
       "    .dataframe tbody tr th:only-of-type {\n",
       "        vertical-align: middle;\n",
       "    }\n",
       "\n",
       "    .dataframe tbody tr th {\n",
       "        vertical-align: top;\n",
       "    }\n",
       "\n",
       "    .dataframe thead th {\n",
       "        text-align: right;\n",
       "    }\n",
       "</style>\n",
       "<table border=\"1\" class=\"dataframe\">\n",
       "  <thead>\n",
       "    <tr style=\"text-align: right;\">\n",
       "      <th></th>\n",
       "      <th>feature</th>\n",
       "      <th>feature_score</th>\n",
       "    </tr>\n",
       "  </thead>\n",
       "  <tbody>\n",
       "    <tr>\n",
       "      <th>0</th>\n",
       "      <td>short_selling_16</td>\n",
       "      <td>0.001522</td>\n",
       "    </tr>\n",
       "    <tr>\n",
       "      <th>1</th>\n",
       "      <td>short_sell_6</td>\n",
       "      <td>0.001499</td>\n",
       "    </tr>\n",
       "    <tr>\n",
       "      <th>2</th>\n",
       "      <td>consume_1</td>\n",
       "      <td>0.001211</td>\n",
       "    </tr>\n",
       "    <tr>\n",
       "      <th>3</th>\n",
       "      <td>BUY_AND_HOLD_13</td>\n",
       "      <td>0.001206</td>\n",
       "    </tr>\n",
       "    <tr>\n",
       "      <th>4</th>\n",
       "      <td>short_selling_4</td>\n",
       "      <td>0.001193</td>\n",
       "    </tr>\n",
       "    <tr>\n",
       "      <th>5</th>\n",
       "      <td>short_sell_12</td>\n",
       "      <td>0.001041</td>\n",
       "    </tr>\n",
       "    <tr>\n",
       "      <th>6</th>\n",
       "      <td>market_1</td>\n",
       "      <td>0.000979</td>\n",
       "    </tr>\n",
       "    <tr>\n",
       "      <th>7</th>\n",
       "      <td>short_sell_16</td>\n",
       "      <td>0.000972</td>\n",
       "    </tr>\n",
       "    <tr>\n",
       "      <th>8</th>\n",
       "      <td>short_selling_9</td>\n",
       "      <td>0.000917</td>\n",
       "    </tr>\n",
       "    <tr>\n",
       "      <th>9</th>\n",
       "      <td>short_sell_15</td>\n",
       "      <td>0.000875</td>\n",
       "    </tr>\n",
       "  </tbody>\n",
       "</table>\n",
       "</div>"
      ],
      "text/plain": [
       "            feature  feature_score\n",
       "0  short_selling_16       0.001522\n",
       "1      short_sell_6       0.001499\n",
       "2         consume_1       0.001211\n",
       "3   BUY_AND_HOLD_13       0.001206\n",
       "4   short_selling_4       0.001193\n",
       "5     short_sell_12       0.001041\n",
       "6          market_1       0.000979\n",
       "7     short_sell_16       0.000972\n",
       "8   short_selling_9       0.000917\n",
       "9     short_sell_15       0.000875"
      ]
     },
     "execution_count": 40,
     "metadata": {},
     "output_type": "execute_result"
    }
   ],
   "source": [
    "result_mdi.head(10)"
   ]
  },
  {
   "cell_type": "code",
   "execution_count": null,
   "metadata": {},
   "outputs": [],
   "source": []
  },
  {
   "cell_type": "code",
   "execution_count": null,
   "metadata": {},
   "outputs": [],
   "source": []
  },
  {
   "cell_type": "code",
   "execution_count": null,
   "metadata": {},
   "outputs": [],
   "source": []
  },
  {
   "cell_type": "code",
   "execution_count": null,
   "metadata": {},
   "outputs": [],
   "source": []
  },
  {
   "cell_type": "code",
   "execution_count": null,
   "metadata": {},
   "outputs": [],
   "source": []
  },
  {
   "cell_type": "code",
   "execution_count": null,
   "metadata": {},
   "outputs": [],
   "source": []
  },
  {
   "cell_type": "code",
   "execution_count": null,
   "metadata": {},
   "outputs": [],
   "source": []
  },
  {
   "cell_type": "code",
   "execution_count": null,
   "metadata": {},
   "outputs": [],
   "source": []
  },
  {
   "cell_type": "code",
   "execution_count": null,
   "metadata": {},
   "outputs": [],
   "source": []
  },
  {
   "cell_type": "code",
   "execution_count": null,
   "metadata": {},
   "outputs": [],
   "source": []
  }
 ],
 "metadata": {
  "kernelspec": {
   "display_name": "Python 3",
   "language": "python",
   "name": "python3"
  },
  "language_info": {
   "codemirror_mode": {
    "name": "ipython",
    "version": 3
   },
   "file_extension": ".py",
   "mimetype": "text/x-python",
   "name": "python",
   "nbconvert_exporter": "python",
   "pygments_lexer": "ipython3",
   "version": "3.8.5"
  }
 },
 "nbformat": 4,
 "nbformat_minor": 4
}
