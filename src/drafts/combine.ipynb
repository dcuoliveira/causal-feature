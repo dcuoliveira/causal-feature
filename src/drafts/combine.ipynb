{
 "cells": [
  {
   "cell_type": "code",
   "execution_count": 1,
   "metadata": {},
   "outputs": [],
   "source": [
    "import numpy as np\n",
    "import pandas as pd\n",
    "from glob import glob\n",
    "import os"
   ]
  },
  {
   "cell_type": "code",
   "execution_count": 2,
   "metadata": {},
   "outputs": [],
   "source": [
    "trends_path = os.path.join('data','daily_trend',\"*.csv\")\n",
    "daily_dfs_path =  glob(trends_path)\n",
    "daily_dfs = [pd.read_csv(path) for path in daily_dfs_path]\n",
    "daily_dfs_names = [i.split(\"/\")[2] for i in daily_dfs_path]\n",
    "daily_dfs_names = [i.split(\".\")[0] for i in daily_dfs_names]\n",
    "\n",
    "trends_df = []\n",
    "for name, df in zip(daily_dfs_names, daily_dfs):\n",
    "    path = os.path.join('data','2010_daily_trend',\"{}.csv\".format(name))\n",
    "    df.date = pd.to_datetime(df.date)\n",
    "    df = df.set_index(\"date\")\n",
    "    df = df[:\"2010-01-01\"].reset_index()\n",
    "    cdr_df = pd.read_csv(path)\n",
    "    cdr_df.date = pd.to_datetime(cdr_df.date)\n",
    "    combined_df = pd.concat([df, cdr_df]).groupby(\"date\").mean()\n",
    "    combined_df = combined_df.reset_index()\n",
    "    new_path = os.path.join('data','result_daily_trend',\"{}.csv\".format(name))\n",
    "    combined_df.to_csv(new_path, index=False)\n",
    "    \n"
   ]
  },
  {
   "cell_type": "code",
   "execution_count": 3,
   "metadata": {},
   "outputs": [
    {
     "name": "stdout",
     "output_type": "stream",
     "text": [
      "158\n",
      "158\n"
     ]
    }
   ],
   "source": [
    "trends_path = os.path.join('data','daily_trend',\"*.csv\")\n",
    "daily_dfs_path =  glob(trends_path)\n",
    "print(len(daily_dfs_path))\n",
    "\n",
    "trends_path = os.path.join('data','result_daily_trend',\"*.csv\")\n",
    "daily_dfs_path =  glob(trends_path)\n",
    "print(len(daily_dfs_path))"
   ]
  },
  {
   "cell_type": "code",
   "execution_count": null,
   "metadata": {},
   "outputs": [],
   "source": []
  },
  {
   "cell_type": "code",
   "execution_count": null,
   "metadata": {},
   "outputs": [],
   "source": []
  },
  {
   "cell_type": "code",
   "execution_count": null,
   "metadata": {},
   "outputs": [],
   "source": []
  },
  {
   "cell_type": "code",
   "execution_count": null,
   "metadata": {},
   "outputs": [],
   "source": []
  }
 ],
 "metadata": {
  "kernelspec": {
   "display_name": "Python 3",
   "language": "python",
   "name": "python3"
  },
  "language_info": {
   "codemirror_mode": {
    "name": "ipython",
    "version": 3
   },
   "file_extension": ".py",
   "mimetype": "text/x-python",
   "name": "python",
   "nbconvert_exporter": "python",
   "pygments_lexer": "ipython3",
   "version": "3.6.9"
  }
 },
 "nbformat": 4,
 "nbformat_minor": 4
}
