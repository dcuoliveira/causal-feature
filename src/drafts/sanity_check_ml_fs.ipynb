{
 "cells": [
  {
   "cell_type": "code",
   "execution_count": 1,
   "metadata": {},
   "outputs": [],
   "source": [
    "import pandas as pd\n",
    "import numpy as np\n",
    "from sklearn.datasets import make_regression\n",
    "from feature_selection.mdi import mdi_feature_importance\n",
    "from feature_selection.sfi import single_feature_importance_cv\n",
    "from feature_selection.mda import mean_decrease_accuracy"
   ]
  },
  {
   "cell_type": "code",
   "execution_count": 2,
   "metadata": {},
   "outputs": [],
   "source": [
    "n_features = 4\n",
    "n_informative = 3\n",
    "top_n = n_features\n",
    "X,y, coef = make_regression(n_samples=5000,\n",
    "                            n_features=n_features,\n",
    "                            n_informative=n_informative,\n",
    "                            random_state=1233,\n",
    "                            coef=True)\n",
    "feature_names = [\"f{}\".format(i) for i in range(n_features)]\n",
    "columns = feature_names + [\"target_return\"] \n",
    "\n",
    "y  = y.reshape(-1,1)\n",
    "df = pd.DataFrame(np.hstack([X,y]), columns=columns)\n",
    "true_imp = pd.DataFrame({\"feature\":feature_names,\n",
    "                         \"feature_score\":coef}).sort_values(\"feature_score\", ascending=False).reset_index(drop=True)"
   ]
  },
  {
   "cell_type": "code",
   "execution_count": 7,
   "metadata": {},
   "outputs": [],
   "source": [
    "mdi_result = mdi_feature_importance(df=df,\n",
    "                                    feature_names=feature_names,\n",
    "                                    target_name=\"target_return\",\n",
    "                                    random_state=12)\n",
    "\n",
    "mdi_result = mdi_result.sort_values(\"mean\", ascending=False)[\"mean\"]\n",
    "mdi_result = mdi_result.reset_index()\n",
    "mdi_result.columns = [\"feature\", \"feature_score\"]\n",
    "assert np.all(true_imp.feature.head() == mdi_result.feature.head())"
   ]
  },
  {
   "cell_type": "code",
   "execution_count": 4,
   "metadata": {},
   "outputs": [],
   "source": [
    "sfi_results = []\n",
    "\n",
    "for f in feature_names:\n",
    "    r2_arr = single_feature_importance_cv(df=df,\n",
    "                             feature_name=f,\n",
    "                             target_name=\"target_return\",\n",
    "                             n_splits=5)\n",
    "    sfi_results.append((f, np.mean(r2_arr)))\n",
    "sfi_results = pd.DataFrame(sfi_results,\n",
    "                           columns=[\"feature\", \"feature_score\"])\n",
    "sfi_results = sfi_results.sort_values(\"feature_score\",\n",
    "                                                  ascending=False)\n",
    "sfi_results = sfi_results.reset_index(drop=True)\n",
    "assert np.all(true_imp.feature.head(top_n) == sfi_results.feature.head(top_n))"
   ]
  },
  {
   "cell_type": "code",
   "execution_count": 5,
   "metadata": {},
   "outputs": [],
   "source": [
    "y_class = np.where(y<y.mean(),0,1)\n",
    "y_class = y_class.astype(int)\n",
    "df = pd.DataFrame(np.hstack([X,y_class]), columns=columns)"
   ]
  },
  {
   "cell_type": "code",
   "execution_count": 6,
   "metadata": {},
   "outputs": [],
   "source": [
    "mda_results = mean_decrease_accuracy(df=df,\n",
    "                             feature_names=feature_names,\n",
    "                             target_name=\"target_return\",\n",
    "                             random_state=27973,\n",
    "                             n_splits=2)\n",
    "\n",
    "assert np.all(true_imp.feature == mda_results.feature)"
   ]
  },
  {
   "cell_type": "code",
   "execution_count": null,
   "metadata": {},
   "outputs": [],
   "source": []
  }
 ],
 "metadata": {
  "kernelspec": {
   "display_name": "Python 3",
   "language": "python",
   "name": "python3"
  },
  "language_info": {
   "codemirror_mode": {
    "name": "ipython",
    "version": 3
   },
   "file_extension": ".py",
   "mimetype": "text/x-python",
   "name": "python",
   "nbconvert_exporter": "python",
   "pygments_lexer": "ipython3",
   "version": "3.8.5"
  }
 },
 "nbformat": 4,
 "nbformat_minor": 4
}
