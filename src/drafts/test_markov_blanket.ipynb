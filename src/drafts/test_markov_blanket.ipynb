{
 "metadata": {
  "language_info": {
   "codemirror_mode": {
    "name": "ipython",
    "version": 3
   },
   "file_extension": ".py",
   "mimetype": "text/x-python",
   "name": "python",
   "nbconvert_exporter": "python",
   "pygments_lexer": "ipython3",
   "version": "3.9.1-final"
  },
  "orig_nbformat": 2,
  "kernelspec": {
   "name": "python3",
   "display_name": "Python 3.9.1 64-bit ('dcuoliveira': conda)",
   "metadata": {
    "interpreter": {
     "hash": "d9012264f0201afc42ae5accaaf45fe1f2b8a1229337f3dc3b94fe4ebec69e8c"
    }
   }
  }
 },
 "nbformat": 4,
 "nbformat_minor": 2,
 "cells": [
  {
   "cell_type": "code",
   "execution_count": 1,
   "metadata": {},
   "outputs": [],
   "source": [
    "import numpy as np\n",
    "import numpy as np\n",
    "import  pandas as pd\n",
    "from feature_selection.markov_blanket import *"
   ]
  },
  {
   "cell_type": "code",
   "execution_count": 8,
   "metadata": {},
   "outputs": [],
   "source": [
    "from word_list.analysis import words\n",
    "from glob import glob\n",
    "from data_mani.utils import path_filter\n",
    "from data_mani.utils import merge_market_and_gtrends\n",
    "\n",
    "TEST_SIZE = 0.5 # pct of the train/test split\n",
    "THRESHOLD = 252 * 2 # treshold to filted merged datframes\n",
    "OUT_FOLDER = \"spx\" # name of the marked data folder\n",
    "PATHS = sorted(glob(\"data/index/{}/*.csv\".format(OUT_FOLDER)))"
   ]
  },
  {
   "cell_type": "code",
   "execution_count": 9,
   "metadata": {},
   "outputs": [],
   "source": [
    "path = PATHS[1]\n",
    "merged, _ = merge_market_and_gtrends(path, test_size=TEST_SIZE)"
   ]
  },
  {
   "cell_type": "code",
   "execution_count": 10,
   "metadata": {},
   "outputs": [
    {
     "output_type": "execute_result",
     "data": {
      "text/plain": [
       "            target_return  BUY AND HOLD  DOW JONES   act  arts  bank  banking  \\\n",
       "date                                                                            \n",
       "2004-01-02      -0.001394           0.0        1.0   3.0   0.0  38.0     -1.0   \n",
       "2004-01-05       0.001628          -1.0        0.0   3.0   3.0  -7.0     -3.0   \n",
       "2004-01-06      -0.013005           0.0        1.0  10.0   1.0  37.0      5.0   \n",
       "2004-01-07       0.020941           0.0       -1.0  -4.0  -4.0  -8.0     -1.0   \n",
       "2004-01-08       0.004609           0.0        1.0   2.0   2.0   1.0      1.0   \n",
       "\n",
       "            blacklist  bonds  bubble  ...  virginia  voters  votes   war  \\\n",
       "date                                  ...                                  \n",
       "2004-01-02        1.0   -4.0    -2.0  ...       8.0     0.0    0.0   5.0   \n",
       "2004-01-05        0.0   -1.0    -3.0  ...       1.0     1.0    1.0   4.0   \n",
       "2004-01-06        0.0   -1.0     1.0  ...      21.0     0.0   -1.0 -12.0   \n",
       "2004-01-07        1.0    2.0     2.0  ...      -7.0     0.0    0.0   1.0   \n",
       "2004-01-08        0.0   -1.0    -1.0  ...      -9.0     0.0    0.0   7.0   \n",
       "\n",
       "            washington  water  william  wisconsin  world  york  \n",
       "date                                                            \n",
       "2004-01-02        20.0    2.0      4.0        0.0   14.0  11.0  \n",
       "2004-01-05        -1.0    3.0      5.0        1.0    4.0 -15.0  \n",
       "2004-01-06        33.0    9.0      2.0       11.0   -7.0  29.0  \n",
       "2004-01-07        -9.0   -3.0      1.0       -5.0    0.0  -8.0  \n",
       "2004-01-08        -7.0   -2.0      0.0        2.0   -3.0  -1.0  \n",
       "\n",
       "[5 rows x 183 columns]"
      ],
      "text/html": "<div>\n<style scoped>\n    .dataframe tbody tr th:only-of-type {\n        vertical-align: middle;\n    }\n\n    .dataframe tbody tr th {\n        vertical-align: top;\n    }\n\n    .dataframe thead th {\n        text-align: right;\n    }\n</style>\n<table border=\"1\" class=\"dataframe\">\n  <thead>\n    <tr style=\"text-align: right;\">\n      <th></th>\n      <th>target_return</th>\n      <th>BUY AND HOLD</th>\n      <th>DOW JONES</th>\n      <th>act</th>\n      <th>arts</th>\n      <th>bank</th>\n      <th>banking</th>\n      <th>blacklist</th>\n      <th>bonds</th>\n      <th>bubble</th>\n      <th>...</th>\n      <th>virginia</th>\n      <th>voters</th>\n      <th>votes</th>\n      <th>war</th>\n      <th>washington</th>\n      <th>water</th>\n      <th>william</th>\n      <th>wisconsin</th>\n      <th>world</th>\n      <th>york</th>\n    </tr>\n    <tr>\n      <th>date</th>\n      <th></th>\n      <th></th>\n      <th></th>\n      <th></th>\n      <th></th>\n      <th></th>\n      <th></th>\n      <th></th>\n      <th></th>\n      <th></th>\n      <th></th>\n      <th></th>\n      <th></th>\n      <th></th>\n      <th></th>\n      <th></th>\n      <th></th>\n      <th></th>\n      <th></th>\n      <th></th>\n      <th></th>\n    </tr>\n  </thead>\n  <tbody>\n    <tr>\n      <th>2004-01-02</th>\n      <td>-0.001394</td>\n      <td>0.0</td>\n      <td>1.0</td>\n      <td>3.0</td>\n      <td>0.0</td>\n      <td>38.0</td>\n      <td>-1.0</td>\n      <td>1.0</td>\n      <td>-4.0</td>\n      <td>-2.0</td>\n      <td>...</td>\n      <td>8.0</td>\n      <td>0.0</td>\n      <td>0.0</td>\n      <td>5.0</td>\n      <td>20.0</td>\n      <td>2.0</td>\n      <td>4.0</td>\n      <td>0.0</td>\n      <td>14.0</td>\n      <td>11.0</td>\n    </tr>\n    <tr>\n      <th>2004-01-05</th>\n      <td>0.001628</td>\n      <td>-1.0</td>\n      <td>0.0</td>\n      <td>3.0</td>\n      <td>3.0</td>\n      <td>-7.0</td>\n      <td>-3.0</td>\n      <td>0.0</td>\n      <td>-1.0</td>\n      <td>-3.0</td>\n      <td>...</td>\n      <td>1.0</td>\n      <td>1.0</td>\n      <td>1.0</td>\n      <td>4.0</td>\n      <td>-1.0</td>\n      <td>3.0</td>\n      <td>5.0</td>\n      <td>1.0</td>\n      <td>4.0</td>\n      <td>-15.0</td>\n    </tr>\n    <tr>\n      <th>2004-01-06</th>\n      <td>-0.013005</td>\n      <td>0.0</td>\n      <td>1.0</td>\n      <td>10.0</td>\n      <td>1.0</td>\n      <td>37.0</td>\n      <td>5.0</td>\n      <td>0.0</td>\n      <td>-1.0</td>\n      <td>1.0</td>\n      <td>...</td>\n      <td>21.0</td>\n      <td>0.0</td>\n      <td>-1.0</td>\n      <td>-12.0</td>\n      <td>33.0</td>\n      <td>9.0</td>\n      <td>2.0</td>\n      <td>11.0</td>\n      <td>-7.0</td>\n      <td>29.0</td>\n    </tr>\n    <tr>\n      <th>2004-01-07</th>\n      <td>0.020941</td>\n      <td>0.0</td>\n      <td>-1.0</td>\n      <td>-4.0</td>\n      <td>-4.0</td>\n      <td>-8.0</td>\n      <td>-1.0</td>\n      <td>1.0</td>\n      <td>2.0</td>\n      <td>2.0</td>\n      <td>...</td>\n      <td>-7.0</td>\n      <td>0.0</td>\n      <td>0.0</td>\n      <td>1.0</td>\n      <td>-9.0</td>\n      <td>-3.0</td>\n      <td>1.0</td>\n      <td>-5.0</td>\n      <td>0.0</td>\n      <td>-8.0</td>\n    </tr>\n    <tr>\n      <th>2004-01-08</th>\n      <td>0.004609</td>\n      <td>0.0</td>\n      <td>1.0</td>\n      <td>2.0</td>\n      <td>2.0</td>\n      <td>1.0</td>\n      <td>1.0</td>\n      <td>0.0</td>\n      <td>-1.0</td>\n      <td>-1.0</td>\n      <td>...</td>\n      <td>-9.0</td>\n      <td>0.0</td>\n      <td>0.0</td>\n      <td>7.0</td>\n      <td>-7.0</td>\n      <td>-2.0</td>\n      <td>0.0</td>\n      <td>2.0</td>\n      <td>-3.0</td>\n      <td>-1.0</td>\n    </tr>\n  </tbody>\n</table>\n<p>5 rows × 183 columns</p>\n</div>"
     },
     "metadata": {},
     "execution_count": 10
    }
   ],
   "source": [
    "merged.head()"
   ]
  },
  {
   "cell_type": "code",
   "execution_count": 14,
   "metadata": {},
   "outputs": [
    {
     "output_type": "stream",
     "name": "stdout",
     "text": [
      "MBs is: ([25, 145], 545)\n"
     ]
    }
   ],
   "source": [
    "target = 0\n",
    "alaph = 0.01\n",
    "\n",
    "MBs = IAMB(merged, target, alaph, is_discrete=False)\n",
    "print(\"MBs is: \" + str(MBs))"
   ]
  },
  {
   "cell_type": "code",
   "execution_count": 16,
   "metadata": {},
   "outputs": [
    {
     "output_type": "execute_result",
     "data": {
      "text/plain": [
       "['consume', 'risk']"
      ]
     },
     "metadata": {},
     "execution_count": 16
    }
   ],
   "source": [
    "[merged.columns[25], merged.columns[145]]"
   ]
  },
  {
   "cell_type": "code",
   "execution_count": null,
   "metadata": {},
   "outputs": [],
   "source": []
  }
 ]
}