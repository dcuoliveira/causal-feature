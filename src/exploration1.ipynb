{
 "cells": [
  {
   "cell_type": "markdown",
   "metadata": {},
   "source": [
    "# Google Trends: Feature Exploration 1\n",
    "\n",
    "### All Imports"
   ]
  },
  {
   "cell_type": "code",
   "execution_count": 1,
   "metadata": {},
   "outputs": [],
   "source": [
    "import os\n",
    "import numpy as np\n",
    "import pandas as pd\n",
    "import matplotlib.pyplot as plt\n",
    "import statsmodels.formula.api as smf\n",
    "from tqdm import tqdm\n",
    "from IPython.display import display, HTML, Markdown\n",
    "from glob import glob\n",
    "from sklearn.model_selection import TimeSeriesSplit\n",
    "from sklearn.metrics import r2_score\n",
    "from word_list.basic import politics1, politics2\n",
    "from word_list.basic import business"
   ]
  },
  {
   "cell_type": "markdown",
   "metadata": {},
   "source": [
    "## Variables"
   ]
  },
  {
   "cell_type": "code",
   "execution_count": 2,
   "metadata": {},
   "outputs": [],
   "source": [
    "TRAIN_DATE_FIRST = \"2004-01-04\" \n",
    "TRAIN_DATE_LAST = \"2012-12-16\" \n",
    "INSTRUMENT = \"es1\"\n",
    "INSTRUMENT_PRICE_COLUMN = 'PX_LAST'\n",
    "INSTRUMENT_DATE_COLUMN = 'date'\n",
    "CV_SPLITS = 8\n",
    "K = 1"
   ]
  },
  {
   "cell_type": "markdown",
   "metadata": {},
   "source": [
    "## Loading market data and defining return variable\n",
    "\n",
    "For a day $t$, and an instrument with price $P_t$, we define the target variable $Y_t$ as the *simple return*:\n",
    "\n",
    "\\begin{equation}\n",
    "Y_t = \\frac{(P_t - P_{t-1})}{P_{t-1}}\n",
    "\\end{equation}"
   ]
  },
  {
   "cell_type": "code",
   "execution_count": 3,
   "metadata": {},
   "outputs": [
    {
     "data": {
      "text/markdown": [
       "### es1 target data (2004 - 2012)"
      ],
      "text/plain": [
       "<IPython.core.display.Markdown object>"
      ]
     },
     "metadata": {},
     "output_type": "display_data"
    },
    {
     "data": {
      "text/html": [
       "<table border=\"1\" class=\"dataframe\">\n",
       "  <thead>\n",
       "    <tr style=\"text-align: right;\">\n",
       "      <th></th>\n",
       "      <th>es1_returns</th>\n",
       "    </tr>\n",
       "    <tr>\n",
       "      <th>date</th>\n",
       "      <th></th>\n",
       "    </tr>\n",
       "  </thead>\n",
       "  <tbody>\n",
       "    <tr>\n",
       "      <th>2004-01-05</th>\n",
       "      <td>0.009919</td>\n",
       "    </tr>\n",
       "    <tr>\n",
       "      <th>2004-01-06</th>\n",
       "      <td>0.001782</td>\n",
       "    </tr>\n",
       "    <tr>\n",
       "      <th>2004-01-07</th>\n",
       "      <td>0.003123</td>\n",
       "    </tr>\n",
       "    <tr>\n",
       "      <th>2004-01-08</th>\n",
       "      <td>0.003556</td>\n",
       "    </tr>\n",
       "    <tr>\n",
       "      <th>2004-01-09</th>\n",
       "      <td>-0.008413</td>\n",
       "    </tr>\n",
       "  </tbody>\n",
       "</table>"
      ],
      "text/plain": [
       "<IPython.core.display.HTML object>"
      ]
     },
     "metadata": {},
     "output_type": "display_data"
    },
    {
     "data": {
      "text/markdown": [
       "#### shape = (2273, 1)"
      ],
      "text/plain": [
       "<IPython.core.display.Markdown object>"
      ]
     },
     "metadata": {},
     "output_type": "display_data"
    }
   ],
   "source": [
    "market_path = os.path.join('data','market',\"{}.txt\".format(INSTRUMENT))\n",
    "df_market = pd.read_csv(market_path, sep='\\t')\n",
    "df_market.loc[:, INSTRUMENT_DATE_COLUMN] = pd.to_datetime(df_market[INSTRUMENT_DATE_COLUMN])\n",
    "df_market = df_market.set_index(INSTRUMENT_DATE_COLUMN)\n",
    "close = df_market[[INSTRUMENT_PRICE_COLUMN]].dropna()\n",
    "target = close.pct_change().dropna()\n",
    "target_name = \"{}_returns\".format(INSTRUMENT) \n",
    "target.columns = [target_name]\n",
    "target = target[TRAIN_DATE_FIRST: TRAIN_DATE_LAST]\n",
    "\n",
    "display(Markdown(\"### {} target data ({} - {})\".format(INSTRUMENT,\n",
    "                                                       TRAIN_DATE_FIRST.split(\"-\")[0],\n",
    "                                                       TRAIN_DATE_LAST.split(\"-\")[0])))\n",
    "display(HTML(target.head(5).to_html()))\n",
    "display(Markdown(\"#### shape = {}\".format(target.shape))) "
   ]
  },
  {
   "cell_type": "code",
   "execution_count": null,
   "metadata": {},
   "outputs": [],
   "source": []
  }
 ],
 "metadata": {
  "kernelspec": {
   "display_name": "Python 3",
   "language": "python",
   "name": "python3"
  },
  "language_info": {
   "codemirror_mode": {
    "name": "ipython",
    "version": 3
   },
   "file_extension": ".py",
   "mimetype": "text/x-python",
   "name": "python",
   "nbconvert_exporter": "python",
   "pygments_lexer": "ipython3",
   "version": "3.6.9"
  }
 },
 "nbformat": 4,
 "nbformat_minor": 4
}
