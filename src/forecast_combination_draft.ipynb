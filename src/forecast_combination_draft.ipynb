{
 "cells": [
  {
   "cell_type": "code",
   "execution_count": 2,
   "id": "334e997e-c746-42a2-9c76-1466a41efeb2",
   "metadata": {},
   "outputs": [],
   "source": [
    "import pandas as pd\n",
    "from prediction.functions import aggregate_prediction_results"
   ]
  },
  {
   "cell_type": "code",
   "execution_count": 3,
   "id": "c3f15d51-2575-41cd-a82d-dfdf74a37801",
   "metadata": {},
   "outputs": [],
   "source": [
    "models = ['logit', 'ridge', 'lasso', 'enet', 'random_forest', 'lgb', 'nn3']\n",
    "models2 = ['LOGIT', 'RIDGE', 'LASSO', 'ENET', 'RF', 'GB', 'NN3']\n",
    "fs_methods = ['all', 'sfi', 'mdi', 'mda', 'granger', 'huang', 'IAMB', 'MMMB']\n",
    "fs_methods2 = ['ALL', 'SFI', 'MDI', 'MDA', 'GRANGER', 'HUANG', 'IAMB', 'MMMB']\n",
    "tickers = ['SPX Index', 'CCMP Index','RTY Index', 'SPX Basic Materials',\n",
    "           'SPX Communications', 'SPX Consumer Cyclical',\n",
    "           'SPX Consumer Non cyclical', 'SPX Energy', 'SPX Financial',\n",
    "           'SPX Industrial', 'SPX Technology', 'SPX Utilities']\n",
    "benchmark_name = 'return_direction'\n",
    "metric = \"auc\"\n",
    "oos_start_date = '2012-07-03'\n",
    "oos_end_date = '2020-12-31'"
   ]
  },
  {
   "cell_type": "code",
   "execution_count": 4,
   "id": "124cbb26-a185-43d1-99be-37a05adc8222",
   "metadata": {},
   "outputs": [
    {
     "name": "stderr",
     "output_type": "stream",
     "text": [
      "/Users/danieloliveira/Documents/Daniel/codes/causal_feature/src/prediction/functions.py:89: SettingWithCopyWarning: \n",
      "A value is trying to be set on a copy of a slice from a DataFrame.\n",
      "Try using .loc[row_indexer,col_indexer] = value instead\n",
      "\n",
      "See the caveats in the documentation: https://pandas.pydata.org/pandas-docs/stable/user_guide/indexing.html#returning-a-view-versus-a-copy\n",
      "  benchmark_df['model'] = benchmark_df['ticker']\n",
      "/Users/danieloliveira/Documents/Daniel/codes/causal_feature/src/prediction/functions.py:90: SettingWithCopyWarning: \n",
      "A value is trying to be set on a copy of a slice from a DataFrame.\n",
      "Try using .loc[row_indexer,col_indexer] = value instead\n",
      "\n",
      "See the caveats in the documentation: https://pandas.pydata.org/pandas-docs/stable/user_guide/indexing.html#returning-a-view-versus-a-copy\n",
      "  benchmark_df['fs'] = 'raw'\n"
     ]
    }
   ],
   "source": [
    "melt_predictions_df, melt_benchmark_df, melt_auc_df = aggregate_prediction_results(prediction_models=models,\n",
    "                                                                                   fs_models=fs_methods,\n",
    "                                                                                   evaluation_start_date='2005-01-03',\n",
    "                                                                                   evaluation_end_date=oos_end_date,\n",
    "                                                                                   ticker_names=tickers,\n",
    "                                                                                   metric_name=metric,\n",
    "                                                                                   tag='is',\n",
    "                                                                                   benchmark_name=benchmark_name)"
   ]
  },
  {
   "cell_type": "markdown",
   "id": "2e425c16-9001-4c9b-8817-ab4e1489ea51",
   "metadata": {},
   "source": [
    "## 1. Combinação de previsões sem estimação\n",
    "\n",
    "### a) Média\n",
    "\n",
    "### b) Mediana"
   ]
  },
  {
   "cell_type": "code",
   "execution_count": null,
   "id": "d9178d55-12f0-4db0-97b8-23baecaceb1f",
   "metadata": {},
   "outputs": [],
   "source": []
  },
  {
   "cell_type": "markdown",
   "id": "0ececa89-b61a-4bd0-822d-f591346c015a",
   "metadata": {},
   "source": [
    "## 2. Combinação de previsões com estimação\n",
    "\n",
    "### a) Bates e Granger (1969)\n",
    "\n",
    "### b) Rede Neural\n",
    "\n",
    "### c) peLASSO"
   ]
  },
  {
   "cell_type": "code",
   "execution_count": null,
   "id": "090f0636-9133-4295-a607-83e38bfd5f8e",
   "metadata": {},
   "outputs": [],
   "source": []
  }
 ],
 "metadata": {
  "kernelspec": {
   "display_name": "Python 3",
   "language": "python",
   "name": "python3"
  },
  "language_info": {
   "codemirror_mode": {
    "name": "ipython",
    "version": 3
   },
   "file_extension": ".py",
   "mimetype": "text/x-python",
   "name": "python",
   "nbconvert_exporter": "python",
   "pygments_lexer": "ipython3",
   "version": "3.6.10"
  }
 },
 "nbformat": 4,
 "nbformat_minor": 5
}
