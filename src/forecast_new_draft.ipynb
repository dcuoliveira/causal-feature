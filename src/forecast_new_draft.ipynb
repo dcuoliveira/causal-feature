{
 "cells": [
  {
   "cell_type": "code",
   "execution_count": 1,
   "metadata": {},
   "outputs": [],
   "source": [
    "import os\n",
    "import pandas as pd\n",
    "import numpy as np\n",
    "from glob import glob\n",
    "\n",
    "from data_mani.utils import merge_market_and_gtrends\n",
    "from prediction.models import RandomForestWrapper\n",
    "from prediction.functions import get_selected_features, get_features_granger_huang\n",
    "from prediction.functions import get_features_IAMB_MMMB\n",
    "from prediction.functions import add_shift, annualy_fit_and_predict"
   ]
  },
  {
   "cell_type": "code",
   "execution_count": 2,
   "metadata": {},
   "outputs": [
    {
     "name": "stdout",
     "output_type": "stream",
     "text": [
      "(7, 2)\n"
     ]
    },
    {
     "data": {
      "text/html": [
       "<div>\n",
       "<style scoped>\n",
       "    .dataframe tbody tr th:only-of-type {\n",
       "        vertical-align: middle;\n",
       "    }\n",
       "\n",
       "    .dataframe tbody tr th {\n",
       "        vertical-align: top;\n",
       "    }\n",
       "\n",
       "    .dataframe thead th {\n",
       "        text-align: right;\n",
       "    }\n",
       "</style>\n",
       "<table border=\"1\" class=\"dataframe\">\n",
       "  <thead>\n",
       "    <tr style=\"text-align: right;\">\n",
       "      <th></th>\n",
       "      <th>feature</th>\n",
       "      <th>feature_score</th>\n",
       "    </tr>\n",
       "  </thead>\n",
       "  <tbody>\n",
       "    <tr>\n",
       "      <th>0</th>\n",
       "      <td>election_11</td>\n",
       "      <td>NaN</td>\n",
       "    </tr>\n",
       "    <tr>\n",
       "      <th>1</th>\n",
       "      <td>dow_jones_7</td>\n",
       "      <td>NaN</td>\n",
       "    </tr>\n",
       "    <tr>\n",
       "      <th>2</th>\n",
       "      <td>DOW_JONES_8</td>\n",
       "      <td>NaN</td>\n",
       "    </tr>\n",
       "    <tr>\n",
       "      <th>3</th>\n",
       "      <td>consumption_14</td>\n",
       "      <td>NaN</td>\n",
       "    </tr>\n",
       "    <tr>\n",
       "      <th>4</th>\n",
       "      <td>DOW_JONES_19</td>\n",
       "      <td>NaN</td>\n",
       "    </tr>\n",
       "    <tr>\n",
       "      <th>5</th>\n",
       "      <td>nasdaq_1</td>\n",
       "      <td>NaN</td>\n",
       "    </tr>\n",
       "    <tr>\n",
       "      <th>6</th>\n",
       "      <td>votes_5</td>\n",
       "      <td>NaN</td>\n",
       "    </tr>\n",
       "  </tbody>\n",
       "</table>\n",
       "</div>"
      ],
      "text/plain": [
       "          feature  feature_score\n",
       "0     election_11            NaN\n",
       "1     dow_jones_7            NaN\n",
       "2     DOW_JONES_8            NaN\n",
       "3  consumption_14            NaN\n",
       "4    DOW_JONES_19            NaN\n",
       "5        nasdaq_1            NaN\n",
       "6         votes_5            NaN"
      ]
     },
     "execution_count": 2,
     "metadata": {},
     "output_type": "execute_result"
    }
   ],
   "source": [
    "df = pd.read_csv(\"results/feature_selection/IAMB/indices/SPX Utilities.csv\")\n",
    "# df = df.dropna()\n",
    "print(df.shape)\n",
    "df.head(9)"
   ]
  },
  {
   "cell_type": "code",
   "execution_count": 6,
   "metadata": {},
   "outputs": [],
   "source": [
    "ticker_name = \"SPX Utilities\"\n",
    "fs_method = \"IAMB\"\n",
    "fs_method = \"MMMB\"\n",
    "\n",
    "path_list=[\"data\", \"gtrends.csv\"]\n",
    "select = get_features_IAMB_MMMB(ticker_name=ticker_name,\n",
    "                                out_folder=\"indices\",\n",
    "                                fs_method=fs_method,\n",
    "                                path_list=path_list)"
   ]
  },
  {
   "cell_type": "code",
   "execution_count": 7,
   "metadata": {},
   "outputs": [
    {
     "data": {
      "text/plain": [
       "['election_11',\n",
       " 'election_12',\n",
       " 'dow_jones_7',\n",
       " 'dow_jones_8',\n",
       " 'DOW_JONES_19',\n",
       " 'votes_5']"
      ]
     },
     "execution_count": 7,
     "metadata": {},
     "output_type": "execute_result"
    }
   ],
   "source": [
    "select"
   ]
  },
  {
   "cell_type": "code",
   "execution_count": null,
   "metadata": {},
   "outputs": [],
   "source": [
    "tickers = glob(\"data/indices/*.csv\")\n",
    "tickers = [n.split(\"/\")[-1].split(\".\")[0] for n in tickers]"
   ]
  },
  {
   "cell_type": "code",
   "execution_count": null,
   "metadata": {},
   "outputs": [],
   "source": [
    "for ticker_name in tickers:\n",
    "\n",
    "    # ticker_name = \"SPX Utilities\"\n",
    "    path_list=[\"data\", \"gtrends.csv\"]\n",
    "#     fs_method = \"huang\"\n",
    "    fs_method = \"granger\"\n",
    "    select = get_features_granger_huang(ticker_name=ticker_name,\n",
    "                                        out_folder=\"indices\",\n",
    "                                        fs_method=fs_method,\n",
    "                                        path_list=path_list)\n",
    "    print(ticker_name, len(select))"
   ]
  },
  {
   "cell_type": "code",
   "execution_count": null,
   "metadata": {},
   "outputs": [],
   "source": [
    "select"
   ]
  },
  {
   "cell_type": "code",
   "execution_count": null,
   "metadata": {},
   "outputs": [],
   "source": [
    "ticker_name = \"SPX Utilities\"\n",
    "market_folder = \"toy\"\n",
    "path_list=[\"data\", \"gtrends.csv\"]\n",
    "path_t_list = [path_list[0],\n",
    "               \"src\", \"data\",\n",
    "               market_folder,\n",
    "               \"{}.csv\".format(ticker_name)]\n",
    "ticker_path = os.path.join(*path_t_list)\n",
    "ticker_path = os.path.join(*[\"data\",\n",
    "                            market_folder,\n",
    "                            \"{}.csv\".format(ticker_name)])\n",
    "\n",
    "max_lag = 20\n",
    "verbose = True\n",
    "target_name = \"target_return\""
   ]
  },
  {
   "cell_type": "code",
   "execution_count": null,
   "metadata": {},
   "outputs": [],
   "source": [
    "train, test = merge_market_and_gtrends(ticker_path, test_size=0.5)\n",
    "words = train.drop(target_name, 1).columns.to_list()\n",
    "complete = pd.concat([train, test])\n",
    "del train, test\n",
    "add_shift(merged_df=complete,\n",
    "              words=words,\n",
    "              max_lag=max_lag,\n",
    "              verbose=verbose)\n",
    "complete = complete.fillna(0.0)\n",
    "all_features = complete.drop(words + [target_name], 1).columns.to_list()"
   ]
  },
  {
   "cell_type": "code",
   "execution_count": null,
   "metadata": {},
   "outputs": [],
   "source": [
    "market_folder = \"indices\"\n",
    "fs_method = \"sfi\"\n",
    "fs_method = \"mdi\"\n",
    "fs_method = \"mda\"\n",
    "select = get_selected_features(ticker_name=ticker_name,\n",
    "                               out_folder=\"indices\",\n",
    "                               fs_method=fs_method,\n",
    "                               path_list=path_list)\n",
    "complete_selected = complete[[target_name] + select]\n",
    "assert 2 < complete_selected.shape[1] < 3641"
   ]
  },
  {
   "cell_type": "code",
   "execution_count": null,
   "metadata": {},
   "outputs": [],
   "source": [
    "Wrapper = RandomForestWrapper\n",
    "n_iter = 1\n",
    "n_jobs = 2\n",
    "n_splits = 2\n",
    "pred_results = annualy_fit_and_predict(df=complete_selected,\n",
    "                                       Wrapper=Wrapper,\n",
    "                                       n_iter=n_iter,\n",
    "                                       n_jobs=n_jobs,\n",
    "                                       n_splits=n_splits,\n",
    "                                       target_name=target_name,\n",
    "                                       verbose=False)\n",
    "\n",
    "assert pred_results.shape[0] == complete_selected.loc[\"2005\":].shape[0]"
   ]
  }
 ],
 "metadata": {
  "kernelspec": {
   "display_name": "Python 3",
   "language": "python",
   "name": "python3"
  },
  "language_info": {
   "codemirror_mode": {
    "name": "ipython",
    "version": 3
   },
   "file_extension": ".py",
   "mimetype": "text/x-python",
   "name": "python",
   "nbconvert_exporter": "python",
   "pygments_lexer": "ipython3",
   "version": "3.8.5"
  }
 },
 "nbformat": 4,
 "nbformat_minor": 4
}
