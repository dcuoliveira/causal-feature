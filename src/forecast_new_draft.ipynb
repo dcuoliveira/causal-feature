{
 "cells": [
  {
   "cell_type": "code",
   "execution_count": 8,
   "metadata": {},
   "outputs": [],
   "source": [
    "import os\n",
    "import pandas as pd\n",
    "import numpy as np\n",
    "from glob import glob\n",
    "\n",
    "from data_mani.utils import merge_market_and_gtrends\n",
    "from prediction.models import RandomForestWrapper\n",
    "from prediction.functions import get_selected_features, get_features_granger_huang\n",
    "from prediction.functions import add_shift, annualy_fit_and_predict"
   ]
  },
  {
   "cell_type": "code",
   "execution_count": 2,
   "metadata": {},
   "outputs": [],
   "source": [
    "# df = pd.read_csv(\"results/feature_selection/huang/indices/SPX Utilities.csv\")\n",
    "# # df = df.dropna()\n",
    "# # print(df.shape)\n",
    "# # df.head(9)"
   ]
  },
  {
   "cell_type": "code",
   "execution_count": 14,
   "metadata": {},
   "outputs": [],
   "source": [
    "tickers = glob(\"data/indices/*.csv\")\n",
    "tickers = [n.split(\"/\")[-1].split(\".\")[0] for n in tickers]"
   ]
  },
  {
   "cell_type": "code",
   "execution_count": 23,
   "metadata": {},
   "outputs": [
    {
     "name": "stdout",
     "output_type": "stream",
     "text": [
      "SPX Index 67\n",
      "SPX Utilities 45\n",
      "RTY Index 51\n",
      "SPX Communications 72\n",
      "SPX Consumer Cyclical 41\n",
      "CCMP Index 64\n",
      "SPX Energy 87\n",
      "SPX Consumer Non cyclical 82\n",
      "SPX Industrial 951\n",
      "SPX Technology 65\n",
      "SPX Financial 81\n",
      "SPX Basic Materials 61\n"
     ]
    }
   ],
   "source": [
    "for ticker_name in tickers:\n",
    "\n",
    "    # ticker_name = \"SPX Utilities\"\n",
    "    path_list=[\"data\", \"gtrends.csv\"]\n",
    "#     fs_method = \"huang\"\n",
    "    fs_method = \"granger\"\n",
    "    select = get_features_granger_huang(ticker_name=ticker_name,\n",
    "                                        out_folder=\"indices\",\n",
    "                                        fs_method=fs_method,\n",
    "                                        path_list=path_list)\n",
    "    print(ticker_name, len(select))"
   ]
  },
  {
   "cell_type": "code",
   "execution_count": 21,
   "metadata": {},
   "outputs": [
    {
     "data": {
      "text/plain": [
       "['banking_1',\n",
       " 'banking_4',\n",
       " 'fond_5',\n",
       " 'invest_3',\n",
       " 'kentucky_3',\n",
       " 'markets_4',\n",
       " 'stocks_13',\n",
       " 'transaction_4',\n",
       " 'transaction_7']"
      ]
     },
     "execution_count": 21,
     "metadata": {},
     "output_type": "execute_result"
    }
   ],
   "source": [
    "select"
   ]
  },
  {
   "cell_type": "code",
   "execution_count": null,
   "metadata": {},
   "outputs": [],
   "source": [
    "ticker_name = \"SPX Utilities\"\n",
    "market_folder = \"toy\"\n",
    "path_list=[\"data\", \"gtrends.csv\"]\n",
    "path_t_list = [path_list[0],\n",
    "               \"src\", \"data\",\n",
    "               market_folder,\n",
    "               \"{}.csv\".format(ticker_name)]\n",
    "ticker_path = os.path.join(*path_t_list)\n",
    "ticker_path = os.path.join(*[\"data\",\n",
    "                            market_folder,\n",
    "                            \"{}.csv\".format(ticker_name)])\n",
    "\n",
    "max_lag = 20\n",
    "verbose = True\n",
    "target_name = \"target_return\""
   ]
  },
  {
   "cell_type": "code",
   "execution_count": null,
   "metadata": {},
   "outputs": [],
   "source": [
    "train, test = merge_market_and_gtrends(ticker_path, test_size=0.5)\n",
    "words = train.drop(target_name, 1).columns.to_list()\n",
    "complete = pd.concat([train, test])\n",
    "del train, test\n",
    "add_shift(merged_df=complete,\n",
    "              words=words,\n",
    "              max_lag=max_lag,\n",
    "              verbose=verbose)\n",
    "complete = complete.fillna(0.0)\n",
    "all_features = complete.drop(words + [target_name], 1).columns.to_list()"
   ]
  },
  {
   "cell_type": "code",
   "execution_count": null,
   "metadata": {},
   "outputs": [],
   "source": [
    "market_folder = \"indices\"\n",
    "fs_method = \"sfi\"\n",
    "fs_method = \"mdi\"\n",
    "fs_method = \"mda\"\n",
    "select = get_selected_features(ticker_name=ticker_name,\n",
    "                               out_folder=\"indices\",\n",
    "                               fs_method=fs_method,\n",
    "                               path_list=path_list)\n",
    "complete_selected = complete[[target_name] + select]\n",
    "assert 2 < complete_selected.shape[1] < 3641"
   ]
  },
  {
   "cell_type": "code",
   "execution_count": null,
   "metadata": {},
   "outputs": [],
   "source": [
    "Wrapper = RandomForestWrapper\n",
    "n_iter = 1\n",
    "n_jobs = 2\n",
    "n_splits = 2\n",
    "pred_results = annualy_fit_and_predict(df=complete_selected,\n",
    "                                       Wrapper=Wrapper,\n",
    "                                       n_iter=n_iter,\n",
    "                                       n_jobs=n_jobs,\n",
    "                                       n_splits=n_splits,\n",
    "                                       target_name=target_name,\n",
    "                                       verbose=False)\n",
    "\n",
    "assert pred_results.shape[0] == complete_selected.loc[\"2005\":].shape[0]"
   ]
  }
 ],
 "metadata": {
  "kernelspec": {
   "display_name": "Python 3",
   "language": "python",
   "name": "python3"
  },
  "language_info": {
   "codemirror_mode": {
    "name": "ipython",
    "version": 3
   },
   "file_extension": ".py",
   "mimetype": "text/x-python",
   "name": "python",
   "nbconvert_exporter": "python",
   "pygments_lexer": "ipython3",
   "version": "3.8.5"
  }
 },
 "nbformat": 4,
 "nbformat_minor": 4
}
