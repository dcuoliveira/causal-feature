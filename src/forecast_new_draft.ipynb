{
 "cells": [
  {
   "cell_type": "code",
   "execution_count": 1,
   "metadata": {},
   "outputs": [],
   "source": [
    "import os\n",
    "import pandas as pd\n",
    "import numpy as np\n",
    "\n",
    "from data_mani.utils import merge_market_and_gtrends\n",
    "from prediction.models import RandomForestWrapper\n",
    "from prediction.functions import get_selected_features, get_features_granger\n",
    "from prediction.functions import add_shift, annualy_fit_and_predict"
   ]
  },
  {
   "cell_type": "code",
   "execution_count": 2,
   "metadata": {},
   "outputs": [],
   "source": [
    "ticker_name = \"SPX Utilities\"\n",
    "market_folder = \"toy\"\n",
    "path_list=[\"data\", \"gtrends.csv\"]\n",
    "path_t_list = [path_list[0],\n",
    "               \"src\", \"data\",\n",
    "               market_folder,\n",
    "               \"{}.csv\".format(ticker_name)]\n",
    "ticker_path = os.path.join(*path_t_list)\n",
    "ticker_path = os.path.join(*[\"data\",\n",
    "                            market_folder,\n",
    "                            \"{}.csv\".format(ticker_name)])\n",
    "\n",
    "max_lag = 20\n",
    "verbose = True\n",
    "target_name = \"target_return\""
   ]
  },
  {
   "cell_type": "code",
   "execution_count": 3,
   "metadata": {},
   "outputs": [
    {
     "name": "stderr",
     "output_type": "stream",
     "text": [
      "add shift: 100%|██████████| 182/182 [00:24<00:00,  7.32it/s]\n"
     ]
    }
   ],
   "source": [
    "train, test = merge_market_and_gtrends(ticker_path, test_size=0.5)\n",
    "words = train.drop(target_name, 1).columns.to_list()\n",
    "complete = pd.concat([train, test])\n",
    "del train, test\n",
    "add_shift(merged_df=complete,\n",
    "              words=words,\n",
    "              max_lag=max_lag,\n",
    "              verbose=verbose)\n",
    "complete = complete.fillna(0.0)\n",
    "all_features = complete.drop(words + [target_name], 1).columns.to_list()"
   ]
  },
  {
   "cell_type": "code",
   "execution_count": 5,
   "metadata": {},
   "outputs": [],
   "source": [
    "market_folder = \"indices\"\n",
    "fs_method = \"sfi\"\n",
    "fs_method = \"mdi\"\n",
    "fs_method = \"mda\"\n",
    "select = get_selected_features(ticker_name=ticker_name,\n",
    "                               out_folder=\"indices\",\n",
    "                               fs_method=fs_method,\n",
    "                               path_list=path_list)\n",
    "complete_selected = complete[[target_name] + select]\n",
    "assert 2 < complete_selected.shape[1] < 3641"
   ]
  },
  {
   "cell_type": "code",
   "execution_count": 6,
   "metadata": {},
   "outputs": [],
   "source": [
    "Wrapper = RandomForestWrapper\n",
    "n_iter = 1\n",
    "n_jobs = 2\n",
    "n_splits = 2\n",
    "pred_results = annualy_fit_and_predict(df=complete_selected,\n",
    "                                       Wrapper=Wrapper,\n",
    "                                       n_iter=n_iter,\n",
    "                                       n_jobs=n_jobs,\n",
    "                                       n_splits=n_splits,\n",
    "                                       target_name=target_name,\n",
    "                                       verbose=False)\n",
    "\n",
    "assert pred_results.shape[0] == complete_selected.loc[\"2005\":].shape[0]"
   ]
  }
 ],
 "metadata": {
  "kernelspec": {
   "display_name": "Python 3",
   "language": "python",
   "name": "python3"
  },
  "language_info": {
   "codemirror_mode": {
    "name": "ipython",
    "version": 3
   },
   "file_extension": ".py",
   "mimetype": "text/x-python",
   "name": "python",
   "nbconvert_exporter": "python",
   "pygments_lexer": "ipython3",
   "version": "3.8.5"
  }
 },
 "nbformat": 4,
 "nbformat_minor": 4
}
