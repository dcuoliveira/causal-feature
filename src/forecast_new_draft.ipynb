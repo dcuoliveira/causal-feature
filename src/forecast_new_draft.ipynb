{
 "cells": [
  {
   "cell_type": "code",
   "execution_count": 1,
   "metadata": {},
   "outputs": [],
   "source": [
    "import os\n",
    "import pandas as pd\n",
    "import numpy as np\n",
    "\n",
    "from data_mani.utils import merge_market_and_gtrends\n",
    "from prediction.models import RandomForestWrapper\n",
    "from prediction.functions import get_selected_features, get_features_granger\n",
    "from prediction.functions import add_shift, annualy_fit_and_predict"
   ]
  },
  {
   "cell_type": "code",
   "execution_count": 2,
   "metadata": {},
   "outputs": [
    {
     "data": {
      "text/html": [
       "<div>\n",
       "<style scoped>\n",
       "    .dataframe tbody tr th:only-of-type {\n",
       "        vertical-align: middle;\n",
       "    }\n",
       "\n",
       "    .dataframe tbody tr th {\n",
       "        vertical-align: top;\n",
       "    }\n",
       "\n",
       "    .dataframe thead th {\n",
       "        text-align: right;\n",
       "    }\n",
       "</style>\n",
       "<table border=\"1\" class=\"dataframe\">\n",
       "  <thead>\n",
       "    <tr style=\"text-align: right;\">\n",
       "      <th></th>\n",
       "      <th>feature</th>\n",
       "      <th>feature_score</th>\n",
       "    </tr>\n",
       "  </thead>\n",
       "  <tbody>\n",
       "    <tr>\n",
       "      <th>0</th>\n",
       "      <td>happy_5</td>\n",
       "      <td>0.018257</td>\n",
       "    </tr>\n",
       "    <tr>\n",
       "      <th>1</th>\n",
       "      <td>markets_4</td>\n",
       "      <td>0.002844</td>\n",
       "    </tr>\n",
       "    <tr>\n",
       "      <th>2</th>\n",
       "      <td>markets_20</td>\n",
       "      <td>0.000055</td>\n",
       "    </tr>\n",
       "    <tr>\n",
       "      <th>3</th>\n",
       "      <td>police_11</td>\n",
       "      <td>0.012334</td>\n",
       "    </tr>\n",
       "    <tr>\n",
       "      <th>4</th>\n",
       "      <td>police_12</td>\n",
       "      <td>0.030955</td>\n",
       "    </tr>\n",
       "    <tr>\n",
       "      <th>5</th>\n",
       "      <td>republican_2</td>\n",
       "      <td>0.007777</td>\n",
       "    </tr>\n",
       "    <tr>\n",
       "      <th>6</th>\n",
       "      <td>revenue_14</td>\n",
       "      <td>0.038496</td>\n",
       "    </tr>\n",
       "    <tr>\n",
       "      <th>7</th>\n",
       "      <td>revenue_19</td>\n",
       "      <td>0.029441</td>\n",
       "    </tr>\n",
       "    <tr>\n",
       "      <th>8</th>\n",
       "      <td>forex</td>\n",
       "      <td>NaN</td>\n",
       "    </tr>\n",
       "  </tbody>\n",
       "</table>\n",
       "</div>"
      ],
      "text/plain": [
       "        feature  feature_score\n",
       "0       happy_5       0.018257\n",
       "1     markets_4       0.002844\n",
       "2    markets_20       0.000055\n",
       "3     police_11       0.012334\n",
       "4     police_12       0.030955\n",
       "5  republican_2       0.007777\n",
       "6    revenue_14       0.038496\n",
       "7    revenue_19       0.029441\n",
       "8         forex            NaN"
      ]
     },
     "execution_count": 2,
     "metadata": {},
     "output_type": "execute_result"
    }
   ],
   "source": [
    "df = pd.read_csv(\"results/feature_selection/huang/indices/SPX Utilities.csv\")\n",
    "# df = df.dropna()\n",
    "# print(df.shape)\n",
    "df.head(9)"
   ]
  },
  {
   "cell_type": "code",
   "execution_count": 3,
   "metadata": {},
   "outputs": [
    {
     "ename": "NameError",
     "evalue": "name 'sffs' is not defined",
     "output_type": "error",
     "traceback": [
      "\u001b[0;31m---------------------------------------------------------------------------\u001b[0m",
      "\u001b[0;31mNameError\u001b[0m                                 Traceback (most recent call last)",
      "\u001b[0;32m<ipython-input-3-7b6b0ad55a34>\u001b[0m in \u001b[0;36m<module>\u001b[0;34m\u001b[0m\n\u001b[0;32m----> 1\u001b[0;31m \u001b[0msffs\u001b[0m\u001b[0;34m\u001b[0m\u001b[0;34m\u001b[0m\u001b[0m\n\u001b[0m",
      "\u001b[0;31mNameError\u001b[0m: name 'sffs' is not defined"
     ]
    }
   ],
   "source": [
    "sffs"
   ]
  },
  {
   "cell_type": "code",
   "execution_count": null,
   "metadata": {},
   "outputs": [],
   "source": [
    "ticker_name = \"SPX Utilities\"\n",
    "market_folder = \"toy\"\n",
    "path_list=[\"data\", \"gtrends.csv\"]\n",
    "path_t_list = [path_list[0],\n",
    "               \"src\", \"data\",\n",
    "               market_folder,\n",
    "               \"{}.csv\".format(ticker_name)]\n",
    "ticker_path = os.path.join(*path_t_list)\n",
    "ticker_path = os.path.join(*[\"data\",\n",
    "                            market_folder,\n",
    "                            \"{}.csv\".format(ticker_name)])\n",
    "\n",
    "max_lag = 20\n",
    "verbose = True\n",
    "target_name = \"target_return\""
   ]
  },
  {
   "cell_type": "code",
   "execution_count": null,
   "metadata": {},
   "outputs": [],
   "source": [
    "train, test = merge_market_and_gtrends(ticker_path, test_size=0.5)\n",
    "words = train.drop(target_name, 1).columns.to_list()\n",
    "complete = pd.concat([train, test])\n",
    "del train, test\n",
    "add_shift(merged_df=complete,\n",
    "              words=words,\n",
    "              max_lag=max_lag,\n",
    "              verbose=verbose)\n",
    "complete = complete.fillna(0.0)\n",
    "all_features = complete.drop(words + [target_name], 1).columns.to_list()"
   ]
  },
  {
   "cell_type": "code",
   "execution_count": null,
   "metadata": {},
   "outputs": [],
   "source": [
    "market_folder = \"indices\"\n",
    "fs_method = \"sfi\"\n",
    "fs_method = \"mdi\"\n",
    "fs_method = \"mda\"\n",
    "select = get_selected_features(ticker_name=ticker_name,\n",
    "                               out_folder=\"indices\",\n",
    "                               fs_method=fs_method,\n",
    "                               path_list=path_list)\n",
    "complete_selected = complete[[target_name] + select]\n",
    "assert 2 < complete_selected.shape[1] < 3641"
   ]
  },
  {
   "cell_type": "code",
   "execution_count": null,
   "metadata": {},
   "outputs": [],
   "source": [
    "Wrapper = RandomForestWrapper\n",
    "n_iter = 1\n",
    "n_jobs = 2\n",
    "n_splits = 2\n",
    "pred_results = annualy_fit_and_predict(df=complete_selected,\n",
    "                                       Wrapper=Wrapper,\n",
    "                                       n_iter=n_iter,\n",
    "                                       n_jobs=n_jobs,\n",
    "                                       n_splits=n_splits,\n",
    "                                       target_name=target_name,\n",
    "                                       verbose=False)\n",
    "\n",
    "assert pred_results.shape[0] == complete_selected.loc[\"2005\":].shape[0]"
   ]
  }
 ],
 "metadata": {
  "kernelspec": {
   "display_name": "Python 3",
   "language": "python",
   "name": "python3"
  },
  "language_info": {
   "codemirror_mode": {
    "name": "ipython",
    "version": 3
   },
   "file_extension": ".py",
   "mimetype": "text/x-python",
   "name": "python",
   "nbconvert_exporter": "python",
   "pygments_lexer": "ipython3",
   "version": "3.8.5"
  }
 },
 "nbformat": 4,
 "nbformat_minor": 4
}
