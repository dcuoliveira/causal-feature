{
 "cells": [
  {
   "cell_type": "markdown",
   "metadata": {},
   "source": [
    "# Forecast Draft"
   ]
  },
  {
   "cell_type": "code",
   "execution_count": 1,
   "metadata": {},
   "outputs": [],
   "source": [
    "import os\n",
    "import pandas as pd\n",
    "import numpy as np\n",
    "from time import time\n",
    "\n",
    "from data_mani.utils import merge_market_and_gtrends\n",
    "from prediction.models import RandomForestWrapper\n",
    "from prediction.functions import forecast"
   ]
  },
  {
   "cell_type": "markdown",
   "metadata": {},
   "source": [
    "## Variables"
   ]
  },
  {
   "cell_type": "code",
   "execution_count": 2,
   "metadata": {},
   "outputs": [],
   "source": [
    "ticker_name1 =  '0544749D UN Equity' #ticker with small number of observations\n",
    "ticker_name2 =  \"GENZ UA Equity\""
   ]
  },
  {
   "cell_type": "markdown",
   "metadata": {},
   "source": [
    "# Get merged dataframe "
   ]
  },
  {
   "cell_type": "code",
   "execution_count": 3,
   "metadata": {},
   "outputs": [],
   "source": [
    "init = time()\n",
    "\n",
    "pred_results = forecast(ticker_name=ticker_name1,\n",
    "                        fs_method=\"granger\",\n",
    "                        Wrapper=RandomForestWrapper,\n",
    "                        n_iter=2,\n",
    "                        n_splits=2,\n",
    "                        n_jobs=2,\n",
    "                        verbose=0)"
   ]
  },
  {
   "cell_type": "code",
   "execution_count": 4,
   "metadata": {},
   "outputs": [
    {
     "name": "stdout",
     "output_type": "stream",
     "text": [
      "total run time =  0.39 min\n"
     ]
    }
   ],
   "source": [
    "tempo = (time() - init) / 60\n",
    "print(\"total run time = \", np.round(tempo,2), \"min\")"
   ]
  },
  {
   "cell_type": "markdown",
   "metadata": {},
   "source": [
    "## Test 1"
   ]
  },
  {
   "cell_type": "code",
   "execution_count": 5,
   "metadata": {},
   "outputs": [],
   "source": [
    "market_folder = \"spx\"\n",
    "target_name=\"target_return\"\n",
    "ticker_path = \"data/index/{}/{}.csv\".format(market_folder,ticker_name1)\n",
    "train, test = merge_market_and_gtrends(ticker_path, test_size=0.5)\n",
    "complete = pd.concat([train, test])\n",
    "\n",
    "assert pred_results.shape == (405,3) \n",
    "assert complete[\"2005\":].shape[0] == pred_results.shape[0]"
   ]
  },
  {
   "cell_type": "code",
   "execution_count": 6,
   "metadata": {},
   "outputs": [],
   "source": [
    "pred_results = forecast(ticker_name=ticker_name2,\n",
    "                        fs_method=\"granger\",\n",
    "                        Wrapper=RandomForestWrapper,\n",
    "                        n_iter=2,\n",
    "                        n_splits=2,\n",
    "                        n_jobs=2,\n",
    "                        verbose=0)"
   ]
  },
  {
   "cell_type": "markdown",
   "metadata": {},
   "source": [
    "## Test 2"
   ]
  },
  {
   "cell_type": "code",
   "execution_count": 7,
   "metadata": {},
   "outputs": [],
   "source": [
    "market_folder = \"spx\"\n",
    "target_name=\"target_return\"\n",
    "ticker_path = \"data/index/{}/{}.csv\".format(market_folder,ticker_name2)\n",
    "train, test = merge_market_and_gtrends(ticker_path, test_size=0.5)\n",
    "complete = pd.concat([train, test])\n",
    "assert complete[\"2005\":].shape[0] == pred_results.shape[0]"
   ]
  }
 ],
 "metadata": {
  "kernelspec": {
   "display_name": "Python 3",
   "language": "python",
   "name": "python3"
  },
  "language_info": {
   "codemirror_mode": {
    "name": "ipython",
    "version": 3
   },
   "file_extension": ".py",
   "mimetype": "text/x-python",
   "name": "python",
   "nbconvert_exporter": "python",
   "pygments_lexer": "ipython3",
   "version": "3.8.5"
  }
 },
 "nbformat": 4,
 "nbformat_minor": 4
}
