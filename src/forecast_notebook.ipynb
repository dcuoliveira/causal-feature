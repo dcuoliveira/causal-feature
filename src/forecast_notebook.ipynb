{
 "cells": [
  {
   "source": [
    "# Forecast Draft"
   ],
   "cell_type": "markdown",
   "metadata": {}
  },
  {
   "cell_type": "code",
   "execution_count": 2,
   "metadata": {},
   "outputs": [],
   "source": [
    "import os\n",
    "import pandas as pd\n",
    "import numpy as np\n",
    "from tqdm import tqdm\n",
    "from glob import glob\n",
    "from time import time\n",
    "\n",
    "from data_mani.utils import merge_market_and_gtrends\n",
    "from sklearn.ensemble import RandomForestRegressor\n",
    "from prediction.util import new_r2, add_shift\n",
    "from prediction.util import hyper_params_search\n",
    "from prediction.util import get_selected_features\n",
    "from prediction.util import annualy_fit_and_predict\n",
    "from prediction.models import RandomForestWrapper"
   ]
  },
  {
   "cell_type": "markdown",
   "metadata": {},
   "source": [
    "## Check Feature Selection"
   ]
  },
  {
   "cell_type": "code",
   "execution_count": 3,
   "metadata": {},
   "outputs": [],
   "source": [
    "p1 = [n.split(\"/\")[-1] for n in glob(\"results/feature_selection/sfi/spx/*.csv\")]\n",
    "p2 = [n.split(\"/\")[-1] for n in glob(\"results/feature_selection/mdi/spx/*.csv\")]\n",
    "p3 = [n.split(\"/\")[-1] for n in glob(\"results/feature_selection/mda/spx/*.csv\")]\n",
    "p4 = [n.split(\"/\")[-1] for n in glob(\"results/feature_selection/granger/spx/*.csv\")]\n",
    "assert len(p1) == len(p2) == len(p3) == len(p4) == 1024"
   ]
  },
  {
   "cell_type": "markdown",
   "metadata": {},
   "source": [
    "## Variables"
   ]
  },
  {
   "cell_type": "code",
   "execution_count": 5,
   "metadata": {},
   "outputs": [],
   "source": [
    "ticker_name =  'ANDV US Equity'\n",
    "fs_method = \"sfi\"\n",
    "market_folder = \"spx\"\n",
    "N_JOBS = -1\n",
    "N_ITER = 10\n",
    "N_SPLITS = 4\n",
    "DEBUG = False\n",
    "init = time()"
   ]
  },
  {
   "cell_type": "markdown",
   "metadata": {},
   "source": [
    "# Get merged dataframe "
   ]
  },
  {
   "cell_type": "code",
   "execution_count": 4,
   "metadata": {},
   "outputs": [
    {
     "name": "stdout",
     "output_type": "stream",
     "text": [
      "train.shape =  (1856, 183)\n",
      "test.shape =  (1856, 183)\n"
     ]
    }
   ],
   "source": [
    "ticker_path = \"data/index/{}/{}.csv\".format(market_folder,ticker_name)\n",
    "train, test = merge_market_and_gtrends(ticker_path, test_size=0.5)\n",
    "print(\"train.shape = \", train.shape)\n",
    "print(\"test.shape = \", test.shape)"
   ]
  },
  {
   "cell_type": "markdown",
   "metadata": {},
   "source": [
    "## Add shift + Preprocessing + Selecting Features"
   ]
  },
  {
   "cell_type": "code",
   "execution_count": 5,
   "metadata": {},
   "outputs": [
    {
     "name": "stderr",
     "output_type": "stream",
     "text": [
      "add shift: 100%|██████████| 182/182 [00:39<00:00,  4.62it/s]\n",
      "add shift: 100%|██████████| 182/182 [00:31<00:00,  5.74it/s]\n"
     ]
    }
   ],
   "source": [
    "words = train.drop(\"target_return\",1).columns.to_list()\n",
    "\n",
    "add_shift(merged_df=train, words=words, max_lag=20)\n",
    "\n",
    "if fs_method == \"all\":\n",
    "    select = train.drop(\"target_return\",1).columns.to_list()\n",
    "else:\n",
    "    select = get_selected_features(ticker_name=ticker_name,\n",
    "                                   out_folder=market_folder,\n",
    "                                   fs_method=fs_method)\n",
    "\n",
    "\n",
    "train = train[[\"target_return\"] + select]\n",
    "train = train.fillna(0.0)\n",
    "\n",
    "add_shift(merged_df=test, words=words, max_lag=20)\n",
    "test = test[[\"target_return\"] + select]\n",
    "test = test.fillna(0.0)"
   ]
  },
  {
   "cell_type": "code",
   "execution_count": 6,
   "metadata": {},
   "outputs": [
    {
     "name": "stdout",
     "output_type": "stream",
     "text": [
      "train.shape =  (1856, 2220)\n",
      "test.shape =  (1856, 2220)\n"
     ]
    }
   ],
   "source": [
    "print(\"train.shape = \", train.shape)\n",
    "print(\"test.shape = \", test.shape)"
   ]
  },
  {
   "cell_type": "markdown",
   "metadata": {},
   "source": [
    "# Hyperparameter search + Prediction"
   ]
  },
  {
   "cell_type": "code",
   "execution_count": 7,
   "metadata": {},
   "outputs": [
    {
     "name": "stderr",
     "output_type": "stream",
     "text": [
      "anual training and prediction:   0%|          | 0/14 [00:00<?, ?it/s]"
     ]
    },
    {
     "name": "stdout",
     "output_type": "stream",
     "text": [
      "Fitting 4 folds for each of 10 candidates, totalling 40 fits\n"
     ]
    },
    {
     "name": "stderr",
     "output_type": "stream",
     "text": [
      "[Parallel(n_jobs=-1)]: Using backend LokyBackend with 8 concurrent workers.\n",
      "[Parallel(n_jobs=-1)]: Done  40 out of  40 | elapsed:   14.5s finished\n",
      "anual training and prediction:   7%|▋         | 1/14 [00:14<03:10, 14.69s/it][Parallel(n_jobs=-1)]: Using backend LokyBackend with 8 concurrent workers.\n"
     ]
    },
    {
     "name": "stdout",
     "output_type": "stream",
     "text": [
      "Fitting 4 folds for each of 10 candidates, totalling 40 fits\n"
     ]
    },
    {
     "name": "stderr",
     "output_type": "stream",
     "text": [
      "[Parallel(n_jobs=-1)]: Done  40 out of  40 | elapsed:   37.5s finished\n",
      "anual training and prediction:  14%|█▍        | 2/14 [00:52<04:18, 21.54s/it][Parallel(n_jobs=-1)]: Using backend LokyBackend with 8 concurrent workers.\n"
     ]
    },
    {
     "name": "stdout",
     "output_type": "stream",
     "text": [
      "Fitting 4 folds for each of 10 candidates, totalling 40 fits\n"
     ]
    },
    {
     "name": "stderr",
     "output_type": "stream",
     "text": [
      "[Parallel(n_jobs=-1)]: Done  25 out of  40 | elapsed:   13.2s remaining:    7.9s\n",
      "[Parallel(n_jobs=-1)]: Done  40 out of  40 | elapsed:  1.3min finished\n",
      "anual training and prediction:  21%|██▏       | 3/14 [02:12<07:11, 39.26s/it][Parallel(n_jobs=-1)]: Using backend LokyBackend with 8 concurrent workers.\n"
     ]
    },
    {
     "name": "stdout",
     "output_type": "stream",
     "text": [
      "Fitting 4 folds for each of 10 candidates, totalling 40 fits\n"
     ]
    },
    {
     "name": "stderr",
     "output_type": "stream",
     "text": [
      "[Parallel(n_jobs=-1)]: Done  25 out of  40 | elapsed:    5.1s remaining:    3.1s\n",
      "[Parallel(n_jobs=-1)]: Done  40 out of  40 | elapsed:   19.1s finished\n",
      "anual training and prediction:  29%|██▊       | 4/14 [02:32<05:35, 33.50s/it][Parallel(n_jobs=-1)]: Using backend LokyBackend with 8 concurrent workers.\n"
     ]
    },
    {
     "name": "stdout",
     "output_type": "stream",
     "text": [
      "Fitting 4 folds for each of 10 candidates, totalling 40 fits\n"
     ]
    },
    {
     "name": "stderr",
     "output_type": "stream",
     "text": [
      "[Parallel(n_jobs=-1)]: Done  40 out of  40 | elapsed:  2.1min finished\n",
      "anual training and prediction:  36%|███▌      | 5/14 [04:40<09:15, 61.77s/it][Parallel(n_jobs=-1)]: Using backend LokyBackend with 8 concurrent workers.\n"
     ]
    },
    {
     "name": "stdout",
     "output_type": "stream",
     "text": [
      "Fitting 4 folds for each of 10 candidates, totalling 40 fits\n"
     ]
    },
    {
     "name": "stderr",
     "output_type": "stream",
     "text": [
      "[Parallel(n_jobs=-1)]: Done  25 out of  40 | elapsed:   25.7s remaining:   15.4s\n",
      "[Parallel(n_jobs=-1)]: Done  40 out of  40 | elapsed:  2.1min finished\n",
      "anual training and prediction:  43%|████▎     | 6/14 [07:27<12:27, 93.44s/it][Parallel(n_jobs=-1)]: Using backend LokyBackend with 8 concurrent workers.\n"
     ]
    },
    {
     "name": "stdout",
     "output_type": "stream",
     "text": [
      "Fitting 4 folds for each of 10 candidates, totalling 40 fits\n"
     ]
    },
    {
     "name": "stderr",
     "output_type": "stream",
     "text": [
      "[Parallel(n_jobs=-1)]: Done  40 out of  40 | elapsed:  1.0min finished\n",
      "anual training and prediction:  50%|█████     | 7/14 [08:52<10:34, 90.69s/it][Parallel(n_jobs=-1)]: Using backend LokyBackend with 8 concurrent workers.\n"
     ]
    },
    {
     "name": "stdout",
     "output_type": "stream",
     "text": [
      "Fitting 4 folds for each of 10 candidates, totalling 40 fits\n"
     ]
    },
    {
     "name": "stderr",
     "output_type": "stream",
     "text": [
      "[Parallel(n_jobs=-1)]: Done  25 out of  40 | elapsed:   39.1s remaining:   23.5s\n",
      "[Parallel(n_jobs=-1)]: Done  40 out of  40 | elapsed:  2.9min finished\n",
      "anual training and prediction:  57%|█████▋    | 8/14 [11:47<11:37, 116.21s/it][Parallel(n_jobs=-1)]: Using backend LokyBackend with 8 concurrent workers.\n"
     ]
    },
    {
     "name": "stdout",
     "output_type": "stream",
     "text": [
      "Fitting 4 folds for each of 10 candidates, totalling 40 fits\n"
     ]
    },
    {
     "name": "stderr",
     "output_type": "stream",
     "text": [
      "[Parallel(n_jobs=-1)]: Done  40 out of  40 | elapsed:  2.1min finished\n",
      "anual training and prediction:  64%|██████▍   | 9/14 [13:56<09:59, 119.90s/it][Parallel(n_jobs=-1)]: Using backend LokyBackend with 8 concurrent workers.\n"
     ]
    },
    {
     "name": "stdout",
     "output_type": "stream",
     "text": [
      "Fitting 4 folds for each of 10 candidates, totalling 40 fits\n"
     ]
    },
    {
     "name": "stderr",
     "output_type": "stream",
     "text": [
      "[Parallel(n_jobs=-1)]: Done  40 out of  40 | elapsed:  5.8min finished\n",
      "anual training and prediction:  71%|███████▏  | 10/14 [19:42<12:30, 187.74s/it][Parallel(n_jobs=-1)]: Using backend LokyBackend with 8 concurrent workers.\n"
     ]
    },
    {
     "name": "stdout",
     "output_type": "stream",
     "text": [
      "Fitting 4 folds for each of 10 candidates, totalling 40 fits\n"
     ]
    },
    {
     "name": "stderr",
     "output_type": "stream",
     "text": [
      "[Parallel(n_jobs=-1)]: Done  40 out of  40 | elapsed:  1.5min finished\n",
      "anual training and prediction:  79%|███████▊  | 11/14 [21:12<07:55, 158.54s/it][Parallel(n_jobs=-1)]: Using backend LokyBackend with 8 concurrent workers.\n"
     ]
    },
    {
     "name": "stdout",
     "output_type": "stream",
     "text": [
      "Fitting 4 folds for each of 10 candidates, totalling 40 fits\n"
     ]
    },
    {
     "name": "stderr",
     "output_type": "stream",
     "text": [
      "[Parallel(n_jobs=-1)]: Done  40 out of  40 | elapsed:  2.0min finished\n",
      "anual training and prediction:  86%|████████▌ | 12/14 [23:14<04:55, 147.54s/it][Parallel(n_jobs=-1)]: Using backend LokyBackend with 8 concurrent workers.\n"
     ]
    },
    {
     "name": "stdout",
     "output_type": "stream",
     "text": [
      "Fitting 4 folds for each of 10 candidates, totalling 40 fits\n"
     ]
    },
    {
     "name": "stderr",
     "output_type": "stream",
     "text": [
      "[Parallel(n_jobs=-1)]: Done  40 out of  40 | elapsed:  2.0min finished\n",
      "anual training and prediction:  93%|█████████▎| 13/14 [25:15<02:19, 139.40s/it][Parallel(n_jobs=-1)]: Using backend LokyBackend with 8 concurrent workers.\n"
     ]
    },
    {
     "name": "stdout",
     "output_type": "stream",
     "text": [
      "Fitting 4 folds for each of 10 candidates, totalling 40 fits\n"
     ]
    },
    {
     "name": "stderr",
     "output_type": "stream",
     "text": [
      "[Parallel(n_jobs=-1)]: Done  40 out of  40 | elapsed:  5.9min finished\n",
      "anual training and prediction: 100%|██████████| 14/14 [31:09<00:00, 133.51s/it]\n"
     ]
    }
   ],
   "source": [
    "complete = pd.concat([train, test])\n",
    "\n",
    "if DEBUG:\n",
    "    complete = complete[:\"2006\"]\n",
    "\n",
    "pred_results = annualy_fit_and_predict(df=complete,\n",
    "                                       Wrapper=RandomForestWrapper,\n",
    "                                       n_iter=N_ITER,\n",
    "                                       n_jobs=N_JOBS,\n",
    "                                       n_splits=N_SPLITS,\n",
    "                                       target_name=\"target_return\")"
   ]
  },
  {
   "cell_type": "markdown",
   "metadata": {},
   "source": [
    "## Prediction DataFrame"
   ]
  },
  {
   "cell_type": "code",
   "execution_count": 8,
   "metadata": {},
   "outputs": [
    {
     "data": {
      "text/html": [
       "<div>\n",
       "<style scoped>\n",
       "    .dataframe tbody tr th:only-of-type {\n",
       "        vertical-align: middle;\n",
       "    }\n",
       "\n",
       "    .dataframe tbody tr th {\n",
       "        vertical-align: top;\n",
       "    }\n",
       "\n",
       "    .dataframe thead th {\n",
       "        text-align: right;\n",
       "    }\n",
       "</style>\n",
       "<table border=\"1\" class=\"dataframe\">\n",
       "  <thead>\n",
       "    <tr style=\"text-align: right;\">\n",
       "      <th></th>\n",
       "      <th>date</th>\n",
       "      <th>return</th>\n",
       "      <th>prediction</th>\n",
       "    </tr>\n",
       "  </thead>\n",
       "  <tbody>\n",
       "    <tr>\n",
       "      <th>0</th>\n",
       "      <td>2005-01-03</td>\n",
       "      <td>-0.063089</td>\n",
       "      <td>0.003729</td>\n",
       "    </tr>\n",
       "    <tr>\n",
       "      <th>1</th>\n",
       "      <td>2005-01-04</td>\n",
       "      <td>-0.011390</td>\n",
       "      <td>0.003766</td>\n",
       "    </tr>\n",
       "    <tr>\n",
       "      <th>2</th>\n",
       "      <td>2005-01-05</td>\n",
       "      <td>-0.008811</td>\n",
       "      <td>0.004460</td>\n",
       "    </tr>\n",
       "  </tbody>\n",
       "</table>\n",
       "</div>"
      ],
      "text/plain": [
       "        date    return  prediction\n",
       "0 2005-01-03 -0.063089    0.003729\n",
       "1 2005-01-04 -0.011390    0.003766\n",
       "2 2005-01-05 -0.008811    0.004460"
      ]
     },
     "execution_count": 8,
     "metadata": {},
     "output_type": "execute_result"
    }
   ],
   "source": [
    "pred_results.head(3)"
   ]
  },
  {
   "cell_type": "markdown",
   "metadata": {},
   "source": [
    "# Saving the predictions"
   ]
  },
  {
   "cell_type": "code",
   "execution_count": 9,
   "metadata": {},
   "outputs": [],
   "source": [
    "out_path = \"results/forecast/{}/{}/{}.csv\".format(fs_method,market_folder,ticker_name)\n",
    "pred_results.to_csv(out_path, index=False)"
   ]
  },
  {
   "cell_type": "markdown",
   "metadata": {},
   "source": [
    "## Simple Analysis"
   ]
  },
  {
   "cell_type": "code",
   "execution_count": 10,
   "metadata": {},
   "outputs": [],
   "source": [
    "years = list(set(complete.index.map(lambda x: x.year)))\n",
    "years.sort()\n",
    "years = years[:-1]\n",
    "\n",
    "total_r2 = new_r2(pred_results[\"return\"].values, pred_results[\"prediction\"].values)\n",
    "pred_results.loc[:, \"date\"] = pd.to_datetime(pred_results.date)\n",
    "pred_results = pred_results.set_index(\"date\")\n",
    "all_r2 = []\n",
    "\n",
    "for year in years[1:]:\n",
    "    df_ =  pred_results[str(year)]\n",
    "    r2_ = new_r2(df_[\"return\"].values, df_[\"prediction\"].values)\n",
    "    all_r2.append(r2_)\n",
    "all_r2 = pd.Series(all_r2, index=years[1:])"
   ]
  },
  {
   "cell_type": "code",
   "execution_count": 13,
   "metadata": {},
   "outputs": [
    {
     "name": "stdout",
     "output_type": "stream",
     "text": [
      "total r2 = -0.0176\n",
      "\n",
      "r2 by year:\n",
      "\n",
      "2005   -0.007965\n",
      "2006   -0.009746\n",
      "2007    0.004973\n",
      "2008   -0.005079\n",
      "2009   -0.008586\n",
      "2010    0.005260\n",
      "2011   -0.014230\n",
      "2012    0.004360\n",
      "2013    0.004084\n",
      "2014    0.003612\n",
      "2015   -0.002404\n",
      "2016   -0.268245\n",
      "2017    0.010570\n",
      "dtype: float64\n"
     ]
    }
   ],
   "source": [
    "print(\"total r2 = {:.4f}\".format(total_r2))\n",
    "print(\"\\nr2 by year:\\n\")\n",
    "print(all_r2)"
   ]
  },
  {
   "cell_type": "code",
   "execution_count": 12,
   "metadata": {},
   "outputs": [
    {
     "name": "stdout",
     "output_type": "stream",
     "text": [
      "total run time =  32.35 min\n"
     ]
    }
   ],
   "source": [
    "tempo = (time() - init) / 60\n",
    "print(\"total run time = \", np.round(tempo,2), \"min\")"
   ]
  }
 ],
 "metadata": {
  "kernelspec": {
   "display_name": "Python 3",
   "language": "python",
   "name": "python3"
  },
  "language_info": {
   "codemirror_mode": {
    "name": "ipython",
    "version": 3
   },
   "file_extension": ".py",
   "mimetype": "text/x-python",
   "name": "python",
   "nbconvert_exporter": "python",
   "pygments_lexer": "ipython3",
   "version": "3.9.1-final"
  }
 },
 "nbformat": 4,
 "nbformat_minor": 4
}