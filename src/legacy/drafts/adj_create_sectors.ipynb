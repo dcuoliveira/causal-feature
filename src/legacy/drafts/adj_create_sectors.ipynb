{
 "metadata": {
  "language_info": {
   "codemirror_mode": {
    "name": "ipython",
    "version": 3
   },
   "file_extension": ".py",
   "mimetype": "text/x-python",
   "name": "python",
   "nbconvert_exporter": "python",
   "pygments_lexer": "ipython3",
   "version": "3.9.1-final"
  },
  "orig_nbformat": 2,
  "kernelspec": {
   "name": "python391jvsc74a57bd0d9012264f0201afc42ae5accaaf45fe1f2b8a1229337f3dc3b94fe4ebec69e8c",
   "display_name": "Python 3.9.1 64-bit"
  }
 },
 "nbformat": 4,
 "nbformat_minor": 2,
 "cells": [
  {
   "cell_type": "code",
   "execution_count": 1,
   "metadata": {},
   "outputs": [],
   "source": [
    "import numpy as np\n",
    "import pandas as pd\n",
    "from data_mani.utils import get_market_df\n",
    "from tqdm import tqdm\n",
    "from glob import glob"
   ]
  },
  {
   "cell_type": "code",
   "execution_count": 48,
   "metadata": {},
   "outputs": [],
   "source": [
    "path = \"data/tickers/spx_group_sector.csv\"\n",
    "dicionario_df = pd.read_csv(path)\n",
    "dicionario_df = dicionario_df.loc[dicionario_df.field == \"INDUSTRY_SECTOR\"].reset_index(drop=True)\n",
    "dicionario_df.loc[:, \"ticker\"] = dicionario_df.ticker.map(lambda x: x.replace(\"/\", \" \"))\n",
    "sectors = dicionario_df.value.unique().tolist()\n",
    "dicionario_df.rename(columns={'value': 'sectors'}, inplace=True)"
   ]
  },
  {
   "cell_type": "code",
   "execution_count": 49,
   "metadata": {},
   "outputs": [
    {
     "output_type": "execute_result",
     "data": {
      "text/plain": [
       "   Unnamed: 0              ticker            field                 sectors  \\\n",
       "0           0  0111145D UN Equity  INDUSTRY_SECTOR               Utilities   \n",
       "1           1  0202445Q UN Equity  INDUSTRY_SECTOR  Consumer, Non-cyclical   \n",
       "2           2  0203524D UN Equity  INDUSTRY_SECTOR              Technology   \n",
       "3           3  0226226D UN Equity  INDUSTRY_SECTOR      Consumer, Cyclical   \n",
       "4           4  0544749D UN Equity  INDUSTRY_SECTOR                  Energy   \n",
       "\n",
       "  exchange     stock  \n",
       "0       UN  0111145D  \n",
       "1       UN  0202445Q  \n",
       "2       UN  0203524D  \n",
       "3       UN  0226226D  \n",
       "4       UN  0544749D  "
      ],
      "text/html": "<div>\n<style scoped>\n    .dataframe tbody tr th:only-of-type {\n        vertical-align: middle;\n    }\n\n    .dataframe tbody tr th {\n        vertical-align: top;\n    }\n\n    .dataframe thead th {\n        text-align: right;\n    }\n</style>\n<table border=\"1\" class=\"dataframe\">\n  <thead>\n    <tr style=\"text-align: right;\">\n      <th></th>\n      <th>Unnamed: 0</th>\n      <th>ticker</th>\n      <th>field</th>\n      <th>sectors</th>\n      <th>exchange</th>\n      <th>stock</th>\n    </tr>\n  </thead>\n  <tbody>\n    <tr>\n      <th>0</th>\n      <td>0</td>\n      <td>0111145D UN Equity</td>\n      <td>INDUSTRY_SECTOR</td>\n      <td>Utilities</td>\n      <td>UN</td>\n      <td>0111145D</td>\n    </tr>\n    <tr>\n      <th>1</th>\n      <td>1</td>\n      <td>0202445Q UN Equity</td>\n      <td>INDUSTRY_SECTOR</td>\n      <td>Consumer, Non-cyclical</td>\n      <td>UN</td>\n      <td>0202445Q</td>\n    </tr>\n    <tr>\n      <th>2</th>\n      <td>2</td>\n      <td>0203524D UN Equity</td>\n      <td>INDUSTRY_SECTOR</td>\n      <td>Technology</td>\n      <td>UN</td>\n      <td>0203524D</td>\n    </tr>\n    <tr>\n      <th>3</th>\n      <td>3</td>\n      <td>0226226D UN Equity</td>\n      <td>INDUSTRY_SECTOR</td>\n      <td>Consumer, Cyclical</td>\n      <td>UN</td>\n      <td>0226226D</td>\n    </tr>\n    <tr>\n      <th>4</th>\n      <td>4</td>\n      <td>0544749D UN Equity</td>\n      <td>INDUSTRY_SECTOR</td>\n      <td>Energy</td>\n      <td>UN</td>\n      <td>0544749D</td>\n    </tr>\n  </tbody>\n</table>\n</div>"
     },
     "metadata": {},
     "execution_count": 49
    }
   ],
   "source": [
    "dicionario_df.head()"
   ]
  },
  {
   "cell_type": "code",
   "execution_count": 52,
   "metadata": {},
   "outputs": [
    {
     "output_type": "stream",
     "name": "stderr",
     "text": [
      "Build melted dataframe with stocks: 100%|██████████| 928/928 [00:18<00:00, 49.59it/s]\n"
     ]
    }
   ],
   "source": [
    "spx_adj_ticker = glob('data/tickers/spx_adj/*.csv')\n",
    "\n",
    "melt_out = []\n",
    "for ticker in tqdm(spx_adj_ticker, desc='Build melted dataframe with stocks'):\n",
    "    df = pd.read_csv(ticker)\n",
    "    melt_df = df.melt('date')\n",
    "    melt_out.append(melt_df)\n",
    "melt_df = pd.concat(melt_out, axis=0)\n",
    "melt_df.rename(columns={'variable': 'ticker'}, inplace=True)\n",
    "merge_melt_df = pd.merge(melt_df, dicionario_df, on='ticker', how='left')\n",
    "merge_melt_df = merge_melt_df[['date', 'ticker', 'value', 'sectors']]"
   ]
  },
  {
   "cell_type": "code",
   "execution_count": 54,
   "metadata": {},
   "outputs": [
    {
     "output_type": "execute_result",
     "data": {
      "text/plain": [
       "         date              ticker   value                 sectors\n",
       "0  2000-01-04  1284849D UN Equity -1.1349  Consumer, Non-cyclical\n",
       "1  2000-01-05  1284849D UN Equity -0.3827  Consumer, Non-cyclical\n",
       "2  2000-01-06  1284849D UN Equity -1.7926  Consumer, Non-cyclical\n",
       "3  2000-01-07  1284849D UN Equity  9.7784  Consumer, Non-cyclical\n",
       "4  2000-01-08  1284849D UN Equity     NaN  Consumer, Non-cyclical"
      ],
      "text/html": "<div>\n<style scoped>\n    .dataframe tbody tr th:only-of-type {\n        vertical-align: middle;\n    }\n\n    .dataframe tbody tr th {\n        vertical-align: top;\n    }\n\n    .dataframe thead th {\n        text-align: right;\n    }\n</style>\n<table border=\"1\" class=\"dataframe\">\n  <thead>\n    <tr style=\"text-align: right;\">\n      <th></th>\n      <th>date</th>\n      <th>ticker</th>\n      <th>value</th>\n      <th>sectors</th>\n    </tr>\n  </thead>\n  <tbody>\n    <tr>\n      <th>0</th>\n      <td>2000-01-04</td>\n      <td>1284849D UN Equity</td>\n      <td>-1.1349</td>\n      <td>Consumer, Non-cyclical</td>\n    </tr>\n    <tr>\n      <th>1</th>\n      <td>2000-01-05</td>\n      <td>1284849D UN Equity</td>\n      <td>-0.3827</td>\n      <td>Consumer, Non-cyclical</td>\n    </tr>\n    <tr>\n      <th>2</th>\n      <td>2000-01-06</td>\n      <td>1284849D UN Equity</td>\n      <td>-1.7926</td>\n      <td>Consumer, Non-cyclical</td>\n    </tr>\n    <tr>\n      <th>3</th>\n      <td>2000-01-07</td>\n      <td>1284849D UN Equity</td>\n      <td>9.7784</td>\n      <td>Consumer, Non-cyclical</td>\n    </tr>\n    <tr>\n      <th>4</th>\n      <td>2000-01-08</td>\n      <td>1284849D UN Equity</td>\n      <td>NaN</td>\n      <td>Consumer, Non-cyclical</td>\n    </tr>\n  </tbody>\n</table>\n</div>"
     },
     "metadata": {},
     "execution_count": 54
    }
   ],
   "source": [
    "merge_melt_df.head()"
   ]
  },
  {
   "cell_type": "code",
   "execution_count": 55,
   "metadata": {},
   "outputs": [
    {
     "output_type": "execute_result",
     "data": {
      "text/plain": [
       "True"
      ]
     },
     "metadata": {},
     "execution_count": 55
    }
   ],
   "source": [
    " merge_melt_df.shape[0] == melt_df.shape[0]"
   ]
  },
  {
   "cell_type": "code",
   "execution_count": 56,
   "metadata": {},
   "outputs": [
    {
     "output_type": "execute_result",
     "data": {
      "text/plain": [
       "True"
      ]
     },
     "metadata": {},
     "execution_count": 56
    }
   ],
   "source": [
    "len(sectors) == len(merge_melt_df['sectors'].unique())"
   ]
  },
  {
   "cell_type": "code",
   "execution_count": 59,
   "metadata": {},
   "outputs": [
    {
     "output_type": "execute_result",
     "data": {
      "text/plain": [
       "            Consumer Non cyclical\n",
       "date                             \n",
       "2000-01-04              -2.746675\n",
       "2000-01-05               1.183922\n",
       "2000-01-06               1.576074\n",
       "2000-01-07               3.918827\n",
       "2000-01-10               0.577642"
      ],
      "text/html": "<div>\n<style scoped>\n    .dataframe tbody tr th:only-of-type {\n        vertical-align: middle;\n    }\n\n    .dataframe tbody tr th {\n        vertical-align: top;\n    }\n\n    .dataframe thead th {\n        text-align: right;\n    }\n</style>\n<table border=\"1\" class=\"dataframe\">\n  <thead>\n    <tr style=\"text-align: right;\">\n      <th></th>\n      <th>Consumer Non cyclical</th>\n    </tr>\n    <tr>\n      <th>date</th>\n      <th></th>\n    </tr>\n  </thead>\n  <tbody>\n    <tr>\n      <th>2000-01-04</th>\n      <td>-2.746675</td>\n    </tr>\n    <tr>\n      <th>2000-01-05</th>\n      <td>1.183922</td>\n    </tr>\n    <tr>\n      <th>2000-01-06</th>\n      <td>1.576074</td>\n    </tr>\n    <tr>\n      <th>2000-01-07</th>\n      <td>3.918827</td>\n    </tr>\n    <tr>\n      <th>2000-01-10</th>\n      <td>0.577642</td>\n    </tr>\n  </tbody>\n</table>\n</div>"
     },
     "metadata": {},
     "execution_count": 59
    }
   ],
   "source": [
    "sector = merge_melt_df['sectors'].unique()[0]\n",
    "complete = merge_melt_df.loc[merge_melt_df['sectors'] == sector].drop('sectors', 1).pivot_table(index=['date'], columns=['ticker'])\n",
    "new_name = sector.replace(\", \", \" \").replace(\"-\", \" \")\n",
    "sector_df = complete.mean(1).to_frame().rename(columns={0: new_name})\n",
    "sector_df = sector_df\n",
    "out_path = \"data/indices/SPX {}.csv\".format(new_name) \n",
    "sector_df.head()"
   ]
  },
  {
   "cell_type": "code",
   "execution_count": 62,
   "metadata": {},
   "outputs": [
    {
     "output_type": "stream",
     "name": "stderr",
     "text": [
      "agg by sectors and save data: 100%|██████████| 9/9 [00:23<00:00,  2.58s/it]\n"
     ]
    }
   ],
   "source": [
    "for sector in tqdm(merge_melt_df['sectors'].unique(), desc='agg by sectors and save data'):\n",
    "    sector = merge_melt_df['sectors'].unique()[0]\n",
    "    complete = merge_melt_df.loc[merge_melt_df['sectors'] == sector].drop('sectors', 1).pivot_table(index=['date'], columns=['ticker'])\n",
    "    new_name = sector.replace(\", \", \" \").replace(\"-\", \" \")\n",
    "    sector_df = complete.mean(1).to_frame().rename(columns={0: new_name})\n",
    "    sector_df = sector_df\n",
    "    out_path = \"data/indices/SPX {}.csv\".format(new_name) \n",
    "    sector_df.to_csv(out_path)\n",
    "    # creating the same format as the other csv's\n",
    "    file_in = open(out_path, \"r\")\n",
    "    prefix = [\"ticker,SPX {}\\n\".format(new_name),\n",
    "            \"field,DAY_TO_DAY_TOT_RETURN_GROSS_DVDS\\n\",\n",
    "            \"date,\\n\"] \n",
    "    lines = prefix + file_in.readlines()[1:]\n",
    "    file_out = open(out_path,\"w\") \n",
    "    file_out.writelines(lines) \n",
    "    file_out.close()"
   ]
  },
  {
   "cell_type": "code",
   "execution_count": null,
   "metadata": {},
   "outputs": [],
   "source": []
  }
 ]
}