{
 "metadata": {
  "language_info": {
   "codemirror_mode": {
    "name": "ipython",
    "version": 3
   },
   "file_extension": ".py",
   "mimetype": "text/x-python",
   "name": "python",
   "nbconvert_exporter": "python",
   "pygments_lexer": "ipython3",
   "version": "3.9.1-final"
  },
  "orig_nbformat": 2,
  "kernelspec": {
   "name": "python391jvsc74a57bd0d9012264f0201afc42ae5accaaf45fe1f2b8a1229337f3dc3b94fe4ebec69e8c",
   "display_name": "Python 3.9.1 64-bit"
  }
 },
 "nbformat": 4,
 "nbformat_minor": 2,
 "cells": [
  {
   "cell_type": "code",
   "execution_count": 1,
   "metadata": {},
   "outputs": [],
   "source": [
    "import pandas as pd\n",
    "from glob import glob\n",
    "import numpy as np\n",
    "from tqdm import tqdm"
   ]
  },
  {
   "cell_type": "code",
   "execution_count": 2,
   "metadata": {},
   "outputs": [],
   "source": [
    "path = \"data/tickers/spx_group_sector.csv\"\n",
    "df = pd.read_csv(path)\n",
    "df = df.loc[df.field == \"INDUSTRY_SECTOR\"].reset_index(drop=True)\n",
    "df.loc[:, \"ticker\"] = df.ticker.map(lambda x: x.replace(\"/\", \" \"))"
   ]
  },
  {
   "source": [
    "## Find problematic tickers (tickers with gaps)"
   ],
   "cell_type": "markdown",
   "metadata": {}
  },
  {
   "cell_type": "code",
   "execution_count": 38,
   "metadata": {},
   "outputs": [
    {
     "output_type": "stream",
     "name": "stderr",
     "text": [
      "100%|██████████| 1103/1103 [04:28<00:00,  4.11it/s]\n"
     ]
    }
   ],
   "source": [
    "st"
   ]
  },
  {
   "cell_type": "code",
   "execution_count": null,
   "metadata": {},
   "outputs": [],
   "source": [
    "ticker_paths = glob('data/tickers/spx/*.csv')\n",
    "\n",
    "tickers_to_skip = []\n",
    "for p in tqdm(ticker_paths):\n",
    "    stock_name = p.split('/')[3]\n",
    "    stock = p.split('/')[3].split(' ')[0]\n",
    "    exchange = p.split('/')[3].split(' ')[1]\n",
    "\n",
    "    stock_df = pd.read_csv(p)\n",
    "    if stock not in tickers_to_skip and stock_df.shape[0] > 2:\n",
    "        stock_df = stock_df.drop([0,1,2], 0)\n",
    "        stock_df.rename(columns={'ticker': 'date'}, inplace=True)\n",
    "        stock_df.index = pd.to_datetime(stock_df['date'])\n",
    "        stock_df = stock_df.drop('date', 1)\n",
    "        stock_df[stock_df.columns[0]] = stock_df[stock_df.columns[0]].astype(float)\n",
    "        stock_df = stock_df.resample('D').mean()\n",
    "\n",
    "        stock_df['month'] = [dt_ref.month for dt_ref in stock_df.index]\n",
    "        stock_df['year'] = [dt_ref.year for dt_ref in stock_df.index]\n",
    "        stock_df['count'] = [1 if pd.isna(val) else 0 for val in stock_df[stock_df.columns[0]]]\n",
    "\n",
    "        group_stock_df = stock_df.groupby(['month', 'year']).sum()['count'].reset_index()\n",
    "        group_stock_df.index = group_stock_df['year']\n",
    "        group_stock_df = group_stock_df.sort_index() \n",
    "\n",
    "        median = group_stock_df['count'].median() \n",
    "        std = group_stock_df['count'].std()\n",
    "        if np.sum(np.where(group_stock_df['count'] > (median+ 1 * std), 1, 0)) > 10 and len(df.loc[(df['stock'] == stock)&(df['exchange'] != exchange)]['ticker']) >= 2:\n",
    "            new_stock = df.loc[(df['stock'] == stock)&(df['exchange'] != exchange)]['ticker'].iloc[0]\n",
    "            new_stock_df = pd.read_csv(os.path.join('data', 'tickers', 'spx', new_stock + '.csv'))\n",
    "            if new_stock_df.shape[0] > 2:\n",
    "                new_stock_df = new_stock_df.drop([0,1,2], 0)\n",
    "                new_stock_df.rename(columns={'ticker': 'date'}, inplace=True)\n",
    "                new_stock_df.index = pd.to_datetime(new_stock_df['date'])\n",
    "                new_stock_df = new_stock_df.drop('date', 1)\n",
    "                new_stock_df[new_stock_df.columns[0]] = new_stock_df[new_stock_df.columns[0]].astype(float)\n",
    "                new_stock_df = new_stock_df.resample('D').mean()\n",
    "\n",
    "                adj_stock_df = pd.concat([stock_df.drop(['month', 'year', 'count'], 1), new_stock_df], axis=1)\n",
    "                adj_stock_df[adj_stock_df.columns[1]] = [row[adj_stock_df.columns[0]] if pd.isna(row[adj_stock_df.columns[1]]) else row[adj_stock_df.columns[1]] for i, row in adj_stock_df.iterrows()]\n",
    "                adj_stock_df = adj_stock_df.drop(adj_stock_df.columns[0], 1)\n",
    "                adj_stock_df.to_csv(os.path.join('data', 'tickers', 'spx_adj', new_stock + '.csv'))\n",
    "                tickers_to_skip.append(stock)\n",
    "            else:\n",
    "                stock_df.drop(['month', 'year', 'count'], 1).to_csv(os.path.join('data', 'tickers', 'spx_adj', stock_name + '.csv'))   \n",
    "                tickers_to_skip.append(stock)\n",
    "        else:\n",
    "            stock_df.drop(['month', 'year', 'count'], 1).to_csv(os.path.join('data', 'tickers', 'spx_adj', stock_name + '.csv'))\n",
    "            tickers_to_skip.append(stock)\n",
    "\n"
   ]
  },
  {
   "cell_type": "code",
   "execution_count": null,
   "metadata": {},
   "outputs": [],
   "source": []
  }
 ]
}