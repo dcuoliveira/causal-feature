{
 "cells": [
  {
   "cell_type": "code",
   "execution_count": 24,
   "id": "334e997e-c746-42a2-9c76-1466a41efeb2",
   "metadata": {},
   "outputs": [],
   "source": [
    "import pandas as pd\n",
    "import numpy as np\n",
    "from prediction.functions import aggregate_prediction_results"
   ]
  },
  {
   "cell_type": "code",
   "execution_count": 28,
   "id": "c3f15d51-2575-41cd-a82d-dfdf74a37801",
   "metadata": {},
   "outputs": [],
   "source": [
    "models = ['logit', 'ridge', 'lasso', 'enet', 'random_forest', 'lgb', 'nn3']\n",
    "models2 = ['LOGIT', 'RIDGE', 'LASSO', 'ENET', 'RF', 'GB', 'NN3']\n",
    "fs_methods = ['all', 'sfi', 'mdi', 'mda', 'granger', 'huang', 'IAMB', 'MMMB']\n",
    "fs_methods2 = ['ALL', 'SFI', 'MDI', 'MDA', 'GRANGER', 'HUANG', 'IAMB', 'MMMB']\n",
    "tickers = ['SPX Index', 'CCMP Index','RTY Index', 'SPX Basic Materials',\n",
    "           'SPX Communications', 'SPX Consumer Cyclical',\n",
    "           'SPX Consumer Non cyclical', 'SPX Energy', 'SPX Financial',\n",
    "           'SPX Industrial', 'SPX Technology', 'SPX Utilities']\n",
    "benchmark_name = 'return_direction'\n",
    "target_name = 'target_return'\n",
    "metric = \"auc\"\n",
    "oos_start_date = '2012-07-03'\n",
    "oos_end_date = '2020-12-31'"
   ]
  },
  {
   "cell_type": "code",
   "execution_count": 36,
   "id": "124cbb26-a185-43d1-99be-37a05adc8222",
   "metadata": {},
   "outputs": [
    {
     "name": "stderr",
     "output_type": "stream",
     "text": [
      "/Users/danieloliveira/Documents/Daniel/codes/causal_feature/src/prediction/functions.py:89: SettingWithCopyWarning: \n",
      "A value is trying to be set on a copy of a slice from a DataFrame.\n",
      "Try using .loc[row_indexer,col_indexer] = value instead\n",
      "\n",
      "See the caveats in the documentation: https://pandas.pydata.org/pandas-docs/stable/user_guide/indexing.html#returning-a-view-versus-a-copy\n",
      "  benchmark_df['model'] = benchmark_df['ticker']\n",
      "/Users/danieloliveira/Documents/Daniel/codes/causal_feature/src/prediction/functions.py:90: SettingWithCopyWarning: \n",
      "A value is trying to be set on a copy of a slice from a DataFrame.\n",
      "Try using .loc[row_indexer,col_indexer] = value instead\n",
      "\n",
      "See the caveats in the documentation: https://pandas.pydata.org/pandas-docs/stable/user_guide/indexing.html#returning-a-view-versus-a-copy\n",
      "  benchmark_df['fs'] = 'raw'\n"
     ]
    }
   ],
   "source": [
    "melted_predictions_df, melted_benchmark_df, _ = aggregate_prediction_results(prediction_models=models,\n",
    "                                                                             fs_models=[fs_methods[0]],\n",
    "                                                                             evaluation_start_date='2005-01-03',\n",
    "                                                                             evaluation_end_date=oos_end_date,\n",
    "                                                                             ticker_names=[tickers[0]],\n",
    "                                                                             metric_name=metric,\n",
    "                                                                             tag='is',\n",
    "                                                                             benchmark_name=benchmark_name)\n",
    "\n",
    "# turn predictions into a pivot table\n",
    "predictions_df = melted_predictions_df.pivot_table(index=['date'], columns=['model'], values=['value'])\n",
    "predictions_df.columns = predictions_df.columns.droplevel()\n",
    "\n",
    "# turn benchmark into a pivot table\n",
    "benchmark_df = melted_benchmark_df.pivot_table(index=['date'], columns=['model'], values=['value'])\n",
    "benchmark_df.columns = benchmark_df.columns.droplevel()\n",
    "\n",
    "df = pd.concat([benchmark_df, predictions_df], axis=1)\n",
    "df.index = pd.to_datetime(df.index)\n",
    "df.rename(columns={tickers[0]: target_name}, inplace=True)\n",
    "\n",
    "years = df.index.map(lambda x: x.year)\n",
    "years = range(np.min(years), np.max(years))\n",
    "features = sorted(df.drop(target_name, 1).columns.to_list())\n",
    "df = df[features + [target_name]]\n",
    "\n",
    "y = years[0]\n",
    "\n",
    "train_ys = df.loc[:str(y)]\n",
    "test_ys = df.loc[str(y + 1)]\n",
    "\n",
    "target_train = train_ys[target_name]\n",
    "train_ys = train_ys.drop(target_name, axis=1)\n",
    "target_test = test_ys[target_name]\n",
    "test_ys = test_ys.drop(target_name, axis=1)"
   ]
  },
  {
   "cell_type": "markdown",
   "id": "2e425c16-9001-4c9b-8817-ab4e1489ea51",
   "metadata": {
    "tags": []
   },
   "source": [
    "## 1. Combinação de previsões sem estimação\n",
    "\n",
    "### a) Média\n",
    "\n",
    "### b) Mediana \n",
    "\n",
    "\n",
    "\n",
    "## 2. Combinação de previsões com estimação\n",
    "\n",
    "### a) Bates e Granger (1969)"
   ]
  },
  {
   "cell_type": "code",
   "execution_count": 152,
   "id": "f0ddd129-fb40-4549-8083-3093b40dad57",
   "metadata": {},
   "outputs": [],
   "source": [
    "m = train_ys.shape[1]\n",
    "l_m = np.ones((m, 1))\n",
    "\n",
    "comb_dict = {}\n",
    "for i, row in train_ys.reset_index().iterrows():\n",
    "    y_pred = train_ys.to_numpy()[i]\n",
    "    y_target = target_train.values[i]\n",
    "\n",
    "    e = l_m.dot(y_target) - y_pred.reshape(-1,1)\n",
    "    cov_e = e.dot(e.transpose())\n",
    "    \n",
    "    if np.linalg.det(cov_e) != 0:\n",
    "        inv_cov_e = np.linalg.inv(cov_e)\n",
    "    else:\n",
    "        inv_cov_e = np.linalg.pinv(cov_e)\n",
    "\n",
    "    w_star = np.linalg.inv(l_m.transpose().dot(inv_cov_e).dot(l_m)) * inv_cov_e.dot(l_m)\n",
    "\n",
    "    if i+1 < train_ys.reset_index().index[-1]:\n",
    "        y_pred_t1 = train_ys.to_numpy()[i+1]\n",
    "        comb_pred = y_pred_t1.dot(w_star)\n",
    "        \n",
    "        comb_dict[i+1] = {'date': train_ys.iloc[i+1].name,\n",
    "                          'return_direction': target_train.iloc[i+1],\n",
    "                          'prediction': comb_pred[0]}\n",
    "        \n",
    "\n",
    "comb_predictions_out = pd.DataFrame(comb_dict).T"
   ]
  },
  {
   "cell_type": "markdown",
   "id": "6df4f590-896b-49b8-badb-5963f6083e04",
   "metadata": {},
   "source": [
    "### b) Rede Neural\n",
    "\n",
    "### c) peLASSO"
   ]
  },
  {
   "cell_type": "code",
   "execution_count": null,
   "id": "d27f45e7-463f-4bd3-99b6-c12257573c1f",
   "metadata": {},
   "outputs": [],
   "source": []
  }
 ],
 "metadata": {
  "kernelspec": {
   "display_name": "Python 3",
   "language": "python",
   "name": "python3"
  },
  "language_info": {
   "codemirror_mode": {
    "name": "ipython",
    "version": 3
   },
   "file_extension": ".py",
   "mimetype": "text/x-python",
   "name": "python",
   "nbconvert_exporter": "python",
   "pygments_lexer": "ipython3",
   "version": "3.6.10"
  }
 },
 "nbformat": 4,
 "nbformat_minor": 5
}
