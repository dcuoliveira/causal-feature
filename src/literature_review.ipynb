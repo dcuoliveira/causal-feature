{
 "cells": [
  {
   "cell_type": "markdown",
   "metadata": {},
   "source": [
    "# Reading related papers\n",
    "\n",
    "## 1) Quantifying the semantics of search behavior before stock market moves\n",
    "\n",
    "- There is evidence of links between Internet searches relating to politics or business  terms and subsequent stock market moves?\n",
    "> In particular, we find that an increase in search volume for these topics tends to precede stock market falls. p.1\n",
    "\n",
    "- They say that they can use Google Trends to investigate early stages of collective decision making.\n",
    "> Our approach is as follows. First, we take a large online corpus, Wikipedia, and use a well-known technique from computational linguistics (37) to identify lists of words constituting semantic topics within this corpus. Second, to give each of these automatically identified topics a name, we engage users of the online service Amazon Mechanical Turk. Third, we take lists of the most representative words of each of these topics and retrieve data on how frequently Google users searched for the\n",
    "terms over the past 9 y. Finally, we use the method introduced in ref. 33 to examine whether the search volume for each of these\n",
    "terms contains precursors of large stock market moves. We find that our method is capable of automatically identifying topics of\n",
    "interest before stock market moves and provide evidence that for complex events such as financial market movements valuable\n",
    "information may be contained in search engine data for keywords with less-obvious semantic connections.\n",
    "\n",
    "- The Google trend dataset:\n",
    "> We analyze data generated between January 4, 2004, the earliest date for which Google Trends data are available, and December 16, 2012. We consider data at a weekly granularity, the finest granularity at which Google Trends provides data for the majority of search terms.\n",
    "\n",
    "- Method\n",
    "> Google Trends provides data on search volume using a finite integer scale\n",
    "from 0 to 100, where 100 represents the highest recorded search volume for\n",
    "all terms in a given Google Trends request. If search volume time series for\n",
    "low-frequency keywords are downloaded in isolation from other keywords,\n",
    "noisy data can result, because only a small number of searches is required for\n",
    "a unit change in search volume to be registered. To avoid this problem,\n",
    "we download search volume data for the high-frequency term “google”\n",
    "alongside search volume data for each of our terms. In this way, we ensure\n",
    "that the value 100 represents the maximum search volume for this high-\n",
    "frequency term.\n",
    "\n",
    "- Market data\n",
    "\n",
    "> We use for our analyses the US equities market index S&P 500, which\n",
    "includes 500 leading companies in leading industries of the US economy. We\n",
    "hypothetically trade the S&P 500 Total Return index (SPXT), which also\n",
    "accounts for the reinvestment of dividends.\n",
    "\n",
    "- First Results\n",
    "> We find that strategies based on keywords in the categories Politics I lead to significantly\n",
    "higher arithmetic cumulative returns than those from the random strategy, suggesting that changes in search volume for keywords belonging to these topics may have contained pre-cursors of subsequent stock market moves.\n",
    "\n",
    "\n",
    "- Results may depend on time?\n",
    "> Our results provide evidence of a historical relationship between the search behavior\n",
    "of Google users and financial market movements. However, our analyses suggest that the strength of this relationship has diminished in recent years, perhaps reflecting increasing incorporation of Internet data into automated trading strategies.\n",
    "\n",
    "- Regression results, word signal can be used to predict next week return (corrected by VIX)\n",
    "![alt text](img/papers/fig1.png \"Title\")\n",
    "\n",
    "- Conclusion\n",
    "> Our results provide evidence that for complex events such as large financial market moves, valuable information may be\n",
    "contained in search engine data for keywords with less-obvious semantic connections to the event in question. Overall, we find\n",
    "that increases in searches for information about political issues and business tended to be followed by stock market falls. One\n",
    "possible explanation for our results is that increases in searches around these topics may constitute early signs of concern about\n",
    "the state of the economy—either of the investors themselves, or as society as a whole. Increased concern of investors about the state\n",
    "of the economy, or investors’ perception of increased concern on a societywide basis, may lead to decreased confidence in the value\n",
    "of stocks, resulting in transactions at lower prices. However, our analyses provide evidence that the strength of this relationship\n",
    "has diminished in recent years, perhaps reflecting increasing incorporation of Internet data into automated trading strategies.\n",
    "\n",
    "## F\n",
    "\n",
    "the FEARS index can be used as a proxy for investor sentiment"
   ]
  },
  {
   "cell_type": "code",
   "execution_count": null,
   "metadata": {},
   "outputs": [],
   "source": []
  }
 ],
 "metadata": {
  "kernelspec": {
   "display_name": "Python 3",
   "language": "python",
   "name": "python3"
  },
  "language_info": {
   "codemirror_mode": {
    "name": "ipython",
    "version": 3
   },
   "file_extension": ".py",
   "mimetype": "text/x-python",
   "name": "python",
   "nbconvert_exporter": "python",
   "pygments_lexer": "ipython3",
   "version": "3.6.9"
  }
 },
 "nbformat": 4,
 "nbformat_minor": 4
}
