{
 "cells": [
  {
   "cell_type": "code",
   "execution_count": 21,
   "metadata": {},
   "outputs": [],
   "source": [
    "import pandas as pd\n",
    "import numpy as np\n",
    "from data_mani.utils import merge_market_and_gtrends\n",
    "from tqdm import tqdm\n",
    "from sklearn.ensemble import RandomForestRegressor"
   ]
  },
  {
   "cell_type": "markdown",
   "metadata": {},
   "source": [
    "## Get selected features "
   ]
  },
  {
   "cell_type": "code",
   "execution_count": 2,
   "metadata": {},
   "outputs": [],
   "source": [
    "ticker_name =  \"AMZN US Equity\"\n",
    "method = \"sfi\"\n",
    "out_folder = \"nasdaq\"\n",
    "score_path = \"results/{}/{}/{}.csv\".format(method,out_folder,ticker_name)\n",
    "scores =  pd.read_csv(score_path)\n",
    "cut = scores.feature_score.mean()\n",
    "# cut = scores.feature_score.quantile(0.95)\n",
    "scores = (scores.loc[scores.feature_score > cut]).feature.to_list()"
   ]
  },
  {
   "cell_type": "markdown",
   "metadata": {},
   "source": [
    "## Get merged dataframe "
   ]
  },
  {
   "cell_type": "code",
   "execution_count": 12,
   "metadata": {},
   "outputs": [],
   "source": [
    "ticker_path = \"data/crsp/{}/{}.csv\".format(out_folder,ticker_name)\n",
    "train, test = merge_market_and_gtrends(ticker_path, test_size=0.5)"
   ]
  },
  {
   "cell_type": "code",
   "execution_count": 13,
   "metadata": {},
   "outputs": [
    {
     "data": {
      "text/plain": [
       "((2087, 183), (2087, 183))"
      ]
     },
     "execution_count": 13,
     "metadata": {},
     "output_type": "execute_result"
    }
   ],
   "source": [
    "train.shape, test.shape"
   ]
  },
  {
   "cell_type": "code",
   "execution_count": 14,
   "metadata": {},
   "outputs": [
    {
     "name": "stderr",
     "output_type": "stream",
     "text": [
      "add shift: 100%|██████████| 182/182 [01:12<00:00,  2.52it/s]\n",
      "add shift: 100%|██████████| 182/182 [01:08<00:00,  2.65it/s]\n"
     ]
    }
   ],
   "source": [
    "words = train.drop(\"target_return\",1).columns.to_list()\n",
    "max_lag = 20\n",
    "\n",
    "def add_shift(merged_df, words, max_lag=20):\n",
    "    for word in tqdm(words, desc=\"add shift\"):\n",
    "        for shift in range(1, max_lag + 1):\n",
    "            new_feature = word.replace(\" \", \"_\") + \"_{}\".format(shift)\n",
    "            merged_df.loc[:, new_feature] = merged_df[word].shift(shift)\n",
    "\n",
    "add_shift(merged_df=train, words=words, max_lag=20)\n",
    "train = train[[\"target_return\"] + scores]\n",
    "train = train.fillna(0)\n",
    "\n",
    "add_shift(merged_df=test, words=words, max_lag=20)\n",
    "test = test[[\"target_return\"] + scores]\n",
    "test = test.fillna(0)"
   ]
  },
  {
   "cell_type": "code",
   "execution_count": 15,
   "metadata": {},
   "outputs": [
    {
     "data": {
      "text/plain": [
       "((2087, 2006), (2087, 2006))"
      ]
     },
     "execution_count": 15,
     "metadata": {},
     "output_type": "execute_result"
    }
   ],
   "source": [
    "train.shape, test.shape"
   ]
  },
  {
   "cell_type": "code",
   "execution_count": 26,
   "metadata": {},
   "outputs": [],
   "source": [
    "def new_r2(y_true, y_pred):\n",
    "    erros = y_true - y_pred\n",
    "    num = (erros).dot(erros)\n",
    "    dem = (y_true).dot(y_true)\n",
    "    r2 = 1 - (num / dem)\n",
    "    return r2"
   ]
  },
  {
   "cell_type": "code",
   "execution_count": 31,
   "metadata": {},
   "outputs": [
    {
     "name": "stdout",
     "output_type": "stream",
     "text": [
      "train test\n",
      "0.8477 -0.0658\n"
     ]
    }
   ],
   "source": [
    "X_train = train.drop(\"target_return\",1).values\n",
    "y_train = train.target_return.values\n",
    "\n",
    "X_test = test.drop(\"target_return\",1).values\n",
    "y_test = test.target_return.values\n",
    "\n",
    "rf = RandomForestRegressor(n_estimators=100, n_jobs=2)\n",
    "rf = rf.fit(X_train, y_train)\n",
    "\n",
    "pred_train = rf.predict(X_train)\n",
    "pred_test = rf.predict(X_test)\n",
    "\n",
    "# pred_train = np.repeat(0, X_train.shape[0])\n",
    "# pred_test = np.repeat(0, X_test.shape[0])\n",
    "\n",
    "\n",
    "r2_train = new_r2(y_train, pred_train)\n",
    "r2_test = new_r2(y_test, pred_test)\n",
    "print(\"train\", \"test\")\n",
    "print(np.round(r2_train, 4), np.round(r2_test, 4))"
   ]
  },
  {
   "cell_type": "code",
   "execution_count": null,
   "metadata": {},
   "outputs": [],
   "source": []
  }
 ],
 "metadata": {
  "kernelspec": {
   "display_name": "Python 3",
   "language": "python",
   "name": "python3"
  },
  "language_info": {
   "codemirror_mode": {
    "name": "ipython",
    "version": 3
   },
   "file_extension": ".py",
   "mimetype": "text/x-python",
   "name": "python",
   "nbconvert_exporter": "python",
   "pygments_lexer": "ipython3",
   "version": "3.8.5"
  }
 },
 "nbformat": 4,
 "nbformat_minor": 4
}
