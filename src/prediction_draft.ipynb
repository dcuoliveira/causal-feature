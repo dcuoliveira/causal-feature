{
 "cells": [
  {
   "cell_type": "code",
   "execution_count": 1,
   "metadata": {},
   "outputs": [],
   "source": [
    "import pandas as pd\n",
    "import numpy as np\n",
    "from data_mani.utils import merge_market_and_gtrends\n",
    "from tqdm import tqdm\n",
    "from sklearn.ensemble import RandomForestRegressor\n",
    "from prediction.util import new_r2, add_shift\n",
    "from sklearn.model_selection import TimeSeriesSplit, RandomizedSearchCV\n",
    "from sklearn.metrics import make_scorer\n",
    "from IPython.display import display, HTML\n",
    "from time import time\n",
    "import os"
   ]
  },
  {
   "cell_type": "markdown",
   "metadata": {},
   "source": [
    "## Variables"
   ]
  },
  {
   "cell_type": "code",
   "execution_count": 2,
   "metadata": {},
   "outputs": [],
   "source": [
    "N_ITER = 5\n",
    "N_SPLITS = 5\n",
    "N_JOBS = 2"
   ]
  },
  {
   "cell_type": "code",
   "execution_count": 3,
   "metadata": {},
   "outputs": [],
   "source": [
    "init = time()"
   ]
  },
  {
   "cell_type": "markdown",
   "metadata": {},
   "source": [
    "## Get selected features "
   ]
  },
  {
   "cell_type": "code",
   "execution_count": 4,
   "metadata": {},
   "outputs": [],
   "source": [
    "ticker_name =  \"AMZN US Equity\"\n",
    "fs_method = \"sfi\"\n",
    "model_name = \"random_forest\"\n",
    "out_folder = \"nasdaq\"\n",
    "score_path = \"results/feature_selection/{}/{}/{}.csv\".format(fs_method,\n",
    "                                                             out_folder,\n",
    "                                                             ticker_name)\n",
    "scores =  pd.read_csv(score_path)\n",
    "cut = scores.feature_score.mean()\n",
    "scores = (scores.loc[scores.feature_score > cut]).feature.to_list()"
   ]
  },
  {
   "cell_type": "markdown",
   "metadata": {},
   "source": [
    "## Get merged dataframe "
   ]
  },
  {
   "cell_type": "code",
   "execution_count": 5,
   "metadata": {},
   "outputs": [],
   "source": [
    "ticker_path = \"data/crsp/{}/{}.csv\".format(out_folder,ticker_name)\n",
    "train, test = merge_market_and_gtrends(ticker_path, test_size=0.5)"
   ]
  },
  {
   "cell_type": "code",
   "execution_count": 6,
   "metadata": {},
   "outputs": [
    {
     "data": {
      "text/plain": [
       "((2087, 183), (2087, 183))"
      ]
     },
     "execution_count": 6,
     "metadata": {},
     "output_type": "execute_result"
    }
   ],
   "source": [
    "train.shape, test.shape"
   ]
  },
  {
   "cell_type": "code",
   "execution_count": 7,
   "metadata": {},
   "outputs": [
    {
     "name": "stderr",
     "output_type": "stream",
     "text": [
      "add shift: 100%|██████████| 182/182 [01:09<00:00,  2.64it/s]\n",
      "add shift: 100%|██████████| 182/182 [01:06<00:00,  2.73it/s]\n"
     ]
    }
   ],
   "source": [
    "words = train.drop(\"target_return\",1).columns.to_list()\n",
    "\n",
    "add_shift(merged_df=train, words=words, max_lag=20)\n",
    "train = train[[\"target_return\"] + scores]\n",
    "train = train.fillna(0)\n",
    "\n",
    "add_shift(merged_df=test, words=words, max_lag=20)\n",
    "test = test[[\"target_return\"] + scores]\n",
    "test = test.fillna(0)"
   ]
  },
  {
   "cell_type": "code",
   "execution_count": 8,
   "metadata": {},
   "outputs": [
    {
     "data": {
      "text/plain": [
       "((2087, 2006), (2087, 2006))"
      ]
     },
     "execution_count": 8,
     "metadata": {},
     "output_type": "execute_result"
    }
   ],
   "source": [
    "train.shape, test.shape"
   ]
  },
  {
   "cell_type": "code",
   "execution_count": 9,
   "metadata": {},
   "outputs": [],
   "source": [
    "results = {\"train\":[],\n",
    "           \"test\":[],\n",
    "           \"model\":[]}"
   ]
  },
  {
   "cell_type": "code",
   "execution_count": 10,
   "metadata": {},
   "outputs": [
    {
     "data": {
      "text/html": [
       "<table border=\"1\" class=\"dataframe\">\n",
       "  <thead>\n",
       "    <tr style=\"text-align: right;\">\n",
       "      <th></th>\n",
       "      <th>train</th>\n",
       "      <th>test</th>\n",
       "    </tr>\n",
       "    <tr>\n",
       "      <th>model</th>\n",
       "      <th></th>\n",
       "      <th></th>\n",
       "    </tr>\n",
       "  </thead>\n",
       "  <tbody>\n",
       "    <tr>\n",
       "      <th>Default Random Forest</th>\n",
       "      <td>0.852084</td>\n",
       "      <td>-0.067037</td>\n",
       "    </tr>\n",
       "  </tbody>\n",
       "</table>"
      ],
      "text/plain": [
       "<IPython.core.display.HTML object>"
      ]
     },
     "metadata": {},
     "output_type": "display_data"
    }
   ],
   "source": [
    "X_train = train.drop(\"target_return\",1).values\n",
    "y_train = train.target_return.values\n",
    "\n",
    "X_test = test.drop(\"target_return\",1).values\n",
    "y_test = test.target_return.values\n",
    "\n",
    "rf = RandomForestRegressor(n_estimators=100, n_jobs=2)\n",
    "rf = rf.fit(X_train, y_train)\n",
    "\n",
    "pred_train = rf.predict(X_train)\n",
    "pred_test = rf.predict(X_test)\n",
    "\n",
    "r2_train = new_r2(y_train, pred_train)\n",
    "r2_test = new_r2(y_test, pred_test)\n",
    "\n",
    "results[\"train\"].append(r2_train)\n",
    "results[\"test\"].append(r2_test)\n",
    "results[\"model\"].append(\"Default Random Forest\")\n",
    "\n",
    "result = pd.DataFrame(results).set_index(\"model\").sort_values(\"test\", ascending=False).to_html()\n",
    "display(HTML(result))"
   ]
  },
  {
   "cell_type": "markdown",
   "metadata": {},
   "source": [
    "## Random Forest"
   ]
  },
  {
   "cell_type": "code",
   "execution_count": 11,
   "metadata": {},
   "outputs": [
    {
     "name": "stdout",
     "output_type": "stream",
     "text": [
      "Fitting 5 folds for each of 5 candidates, totalling 25 fits\n"
     ]
    },
    {
     "name": "stderr",
     "output_type": "stream",
     "text": [
      "[Parallel(n_jobs=2)]: Using backend LokyBackend with 2 concurrent workers.\n",
      "[Parallel(n_jobs=2)]: Done  25 out of  25 | elapsed:    4.9s finished\n"
     ]
    },
    {
     "data": {
      "text/html": [
       "<table border=\"1\" class=\"dataframe\">\n",
       "  <thead>\n",
       "    <tr style=\"text-align: right;\">\n",
       "      <th></th>\n",
       "      <th>train</th>\n",
       "      <th>test</th>\n",
       "    </tr>\n",
       "    <tr>\n",
       "      <th>model</th>\n",
       "      <th></th>\n",
       "      <th></th>\n",
       "    </tr>\n",
       "  </thead>\n",
       "  <tbody>\n",
       "    <tr>\n",
       "      <th>Tunned Random Forest</th>\n",
       "      <td>0.389540</td>\n",
       "      <td>-0.008931</td>\n",
       "    </tr>\n",
       "    <tr>\n",
       "      <th>Default Random Forest</th>\n",
       "      <td>0.852084</td>\n",
       "      <td>-0.067037</td>\n",
       "    </tr>\n",
       "  </tbody>\n",
       "</table>"
      ],
      "text/plain": [
       "<IPython.core.display.HTML object>"
      ]
     },
     "metadata": {},
     "output_type": "display_data"
    },
    {
     "name": "stdout",
     "output_type": "stream",
     "text": [
      "{'n_estimators': 19, 'max_features': 17, 'max_depth': 11}\n"
     ]
    }
   ],
   "source": [
    "time_split = TimeSeriesSplit(n_splits=N_SPLITS)\n",
    "r2_scorer = make_scorer(new_r2)\n",
    "n_columns = X_train.shape[1]\n",
    "rf_params =  {\"max_features\":list(range(1, int(np.sqrt(n_columns)+1))),\n",
    "              \"n_estimators\": list(range(2, 60)),\n",
    "              \"max_depth\": list(range(2, 21))}\n",
    "\n",
    "rf_search = RandomizedSearchCV(estimator=RandomForestRegressor(),\n",
    "                               param_distributions=rf_params,\n",
    "                               n_iter=N_ITER,\n",
    "                               cv=time_split,\n",
    "                               verbose=1,\n",
    "                               n_jobs=N_JOBS,\n",
    "                               scoring=r2_scorer)\n",
    "\n",
    "rf_search = rf_search.fit(X_train,y_train)\n",
    "rf_train_pred  = rf_search.best_estimator_.predict(X_train)\n",
    "rf_test_pred  = rf_search.best_estimator_.predict(X_test)\n",
    "\n",
    "r2_train = new_r2(y_train, rf_train_pred)\n",
    "r2_test = new_r2(y_test, rf_test_pred)\n",
    "\n",
    "results[\"train\"].append(r2_train)\n",
    "results[\"test\"].append(r2_test)\n",
    "results[\"model\"].append(\"Tunned Random Forest\")\n",
    "\n",
    "result = pd.DataFrame(results).set_index(\"model\").sort_values(\"test\", ascending=False).to_html()\n",
    "display(HTML(result))\n",
    "print(rf_search.best_params_)"
   ]
  },
  {
   "cell_type": "code",
   "execution_count": 12,
   "metadata": {},
   "outputs": [],
   "source": [
    "train.loc[:, \"prediction\"] = rf_train_pred\n",
    "test.loc[:, \"prediction\"] = rf_test_pred\n",
    "both = [train[[\"target_return\", \"prediction\"]], test[[\"target_return\", \"prediction\"]]]\n",
    "complete_forecast = pd.concat(both)\n",
    "out_path_l = [\"results\", \"forecast\",fs_method,model_name,out_folder,ticker_name ]\n",
    "out_path = os.path.join(*out_path_l)\n",
    "out_path\n",
    "complete_forecast.to_csv(out_path)"
   ]
  },
  {
   "cell_type": "code",
   "execution_count": 13,
   "metadata": {},
   "outputs": [
    {
     "name": "stdout",
     "output_type": "stream",
     "text": [
      "3.92 min\n"
     ]
    }
   ],
   "source": [
    "tempo = (time() - init) / 60\n",
    "print(np.round(tempo,2), \"min\")"
   ]
  },
  {
   "cell_type": "code",
   "execution_count": 22,
   "metadata": {},
   "outputs": [],
   "source": [
    "train.loc[:, \"type\"] = \"train\"\n",
    "test.loc[:, \"type\"] = \"test\"\n",
    "\n",
    "both = [train[[\"target_return\", \"prediction\", \"type\"]],\n",
    "        test[[\"target_return\", \"prediction\", \"type\"]]]\n",
    "\n",
    "complete_forecast = pd.concat(both)"
   ]
  },
  {
   "cell_type": "code",
   "execution_count": 27,
   "metadata": {},
   "outputs": [],
   "source": [
    "t = complete_forecast[complete_forecast.type==\"test\"]\n",
    "tt = new_r2(t.target_return.values, t.prediction.values)"
   ]
  },
  {
   "cell_type": "code",
   "execution_count": 29,
   "metadata": {},
   "outputs": [
    {
     "data": {
      "text/plain": [
       "(-0.008931305820449209, -0.008931305820449209)"
      ]
     },
     "execution_count": 29,
     "metadata": {},
     "output_type": "execute_result"
    }
   ],
   "source": [
    "tt, r2_test"
   ]
  },
  {
   "cell_type": "code",
   "execution_count": null,
   "metadata": {},
   "outputs": [],
   "source": []
  }
 ],
 "metadata": {
  "kernelspec": {
   "display_name": "Python 3",
   "language": "python",
   "name": "python3"
  },
  "language_info": {
   "codemirror_mode": {
    "name": "ipython",
    "version": 3
   },
   "file_extension": ".py",
   "mimetype": "text/x-python",
   "name": "python",
   "nbconvert_exporter": "python",
   "pygments_lexer": "ipython3",
   "version": "3.8.5"
  }
 },
 "nbformat": 4,
 "nbformat_minor": 4
}
