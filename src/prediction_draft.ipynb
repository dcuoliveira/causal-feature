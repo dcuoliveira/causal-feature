{
 "cells": [
  {
   "cell_type": "code",
   "execution_count": 1,
   "metadata": {},
   "outputs": [],
   "source": [
    "import pandas as pd\n",
    "import numpy as np\n",
    "from data_mani.utils import merge_market_and_gtrends\n",
    "from tqdm import tqdm\n",
    "from sklearn.ensemble import RandomForestRegressor\n",
    "from prediction.util import new_r2, add_shift\n",
    "from sklearn.model_selection import TimeSeriesSplit, RandomizedSearchCV\n",
    "from sklearn.metrics import make_scorer\n",
    "from IPython.display import display, HTML"
   ]
  },
  {
   "cell_type": "markdown",
   "metadata": {},
   "source": [
    "## Variables"
   ]
  },
  {
   "cell_type": "code",
   "execution_count": 11,
   "metadata": {},
   "outputs": [],
   "source": [
    "N_ITER = 500\n",
    "N_SPLITS = 5\n",
    "N_JOBS = 2"
   ]
  },
  {
   "cell_type": "markdown",
   "metadata": {},
   "source": [
    "## Get selected features "
   ]
  },
  {
   "cell_type": "code",
   "execution_count": 3,
   "metadata": {},
   "outputs": [],
   "source": [
    "ticker_name =  \"AMZN US Equity\"\n",
    "method = \"sfi\"\n",
    "out_folder = \"nasdaq\"\n",
    "score_path = \"results/{}/{}/{}.csv\".format(method,out_folder,ticker_name)\n",
    "scores =  pd.read_csv(score_path)\n",
    "cut = scores.feature_score.mean()\n",
    "scores = (scores.loc[scores.feature_score > cut]).feature.to_list()"
   ]
  },
  {
   "cell_type": "markdown",
   "metadata": {},
   "source": [
    "## Get merged dataframe "
   ]
  },
  {
   "cell_type": "code",
   "execution_count": 4,
   "metadata": {},
   "outputs": [],
   "source": [
    "ticker_path = \"data/crsp/{}/{}.csv\".format(out_folder,ticker_name)\n",
    "train, test = merge_market_and_gtrends(ticker_path, test_size=0.5)"
   ]
  },
  {
   "cell_type": "code",
   "execution_count": 5,
   "metadata": {},
   "outputs": [
    {
     "data": {
      "text/plain": [
       "((2087, 183), (2087, 183))"
      ]
     },
     "execution_count": 5,
     "metadata": {},
     "output_type": "execute_result"
    }
   ],
   "source": [
    "train.shape, test.shape"
   ]
  },
  {
   "cell_type": "code",
   "execution_count": 6,
   "metadata": {},
   "outputs": [
    {
     "name": "stderr",
     "output_type": "stream",
     "text": [
      "add shift: 100%|██████████| 182/182 [01:01<00:00,  2.96it/s]\n",
      "add shift: 100%|██████████| 182/182 [00:55<00:00,  3.26it/s]\n"
     ]
    }
   ],
   "source": [
    "words = train.drop(\"target_return\",1).columns.to_list()\n",
    "\n",
    "add_shift(merged_df=train, words=words, max_lag=20)\n",
    "train = train[[\"target_return\"] + scores]\n",
    "train = train.fillna(0)\n",
    "\n",
    "add_shift(merged_df=test, words=words, max_lag=20)\n",
    "test = test[[\"target_return\"] + scores]\n",
    "test = test.fillna(0)"
   ]
  },
  {
   "cell_type": "code",
   "execution_count": 7,
   "metadata": {},
   "outputs": [
    {
     "data": {
      "text/plain": [
       "((2087, 2006), (2087, 2006))"
      ]
     },
     "execution_count": 7,
     "metadata": {},
     "output_type": "execute_result"
    }
   ],
   "source": [
    "train.shape, test.shape"
   ]
  },
  {
   "cell_type": "code",
   "execution_count": 8,
   "metadata": {},
   "outputs": [],
   "source": [
    "results = {\"train\":[],\n",
    "           \"test\":[],\n",
    "           \"model\":[]}"
   ]
  },
  {
   "cell_type": "code",
   "execution_count": 9,
   "metadata": {},
   "outputs": [
    {
     "data": {
      "text/html": [
       "<table border=\"1\" class=\"dataframe\">\n",
       "  <thead>\n",
       "    <tr style=\"text-align: right;\">\n",
       "      <th></th>\n",
       "      <th>train</th>\n",
       "      <th>test</th>\n",
       "    </tr>\n",
       "    <tr>\n",
       "      <th>model</th>\n",
       "      <th></th>\n",
       "      <th></th>\n",
       "    </tr>\n",
       "  </thead>\n",
       "  <tbody>\n",
       "    <tr>\n",
       "      <th>Default Random Forest</th>\n",
       "      <td>0.850046</td>\n",
       "      <td>-0.0589</td>\n",
       "    </tr>\n",
       "  </tbody>\n",
       "</table>"
      ],
      "text/plain": [
       "<IPython.core.display.HTML object>"
      ]
     },
     "metadata": {},
     "output_type": "display_data"
    }
   ],
   "source": [
    "X_train = train.drop(\"target_return\",1).values\n",
    "y_train = train.target_return.values\n",
    "\n",
    "X_test = test.drop(\"target_return\",1).values\n",
    "y_test = test.target_return.values\n",
    "\n",
    "rf = RandomForestRegressor(n_estimators=100, n_jobs=2)\n",
    "rf = rf.fit(X_train, y_train)\n",
    "\n",
    "pred_train = rf.predict(X_train)\n",
    "pred_test = rf.predict(X_test)\n",
    "\n",
    "r2_train = new_r2(y_train, pred_train)\n",
    "r2_test = new_r2(y_test, pred_test)\n",
    "\n",
    "results[\"train\"].append(r2_train)\n",
    "results[\"test\"].append(r2_test)\n",
    "results[\"model\"].append(\"Default Random Forest\")\n",
    "\n",
    "result = pd.DataFrame(results).set_index(\"model\").sort_values(\"test\", ascending=False).to_html()\n",
    "display(HTML(result))"
   ]
  },
  {
   "cell_type": "markdown",
   "metadata": {},
   "source": [
    "## Random Forest"
   ]
  },
  {
   "cell_type": "code",
   "execution_count": 12,
   "metadata": {},
   "outputs": [
    {
     "name": "stdout",
     "output_type": "stream",
     "text": [
      "Fitting 5 folds for each of 500 candidates, totalling 2500 fits\n"
     ]
    },
    {
     "name": "stderr",
     "output_type": "stream",
     "text": [
      "[Parallel(n_jobs=2)]: Using backend LokyBackend with 2 concurrent workers.\n",
      "[Parallel(n_jobs=2)]: Done  88 tasks      | elapsed:    8.5s\n",
      "[Parallel(n_jobs=2)]: Done 380 tasks      | elapsed:   49.3s\n",
      "[Parallel(n_jobs=2)]: Done 672 tasks      | elapsed:  1.4min\n",
      "[Parallel(n_jobs=2)]: Done 1336 tasks      | elapsed:  2.8min\n",
      "[Parallel(n_jobs=2)]: Done 1844 tasks      | elapsed:  4.3min\n",
      "[Parallel(n_jobs=2)]: Done 2432 tasks      | elapsed:  6.0min\n",
      "[Parallel(n_jobs=2)]: Done 2500 out of 2500 | elapsed:  6.1min finished\n"
     ]
    },
    {
     "data": {
      "text/html": [
       "<table border=\"1\" class=\"dataframe\">\n",
       "  <thead>\n",
       "    <tr style=\"text-align: right;\">\n",
       "      <th></th>\n",
       "      <th>train</th>\n",
       "      <th>test</th>\n",
       "    </tr>\n",
       "    <tr>\n",
       "      <th>model</th>\n",
       "      <th></th>\n",
       "      <th></th>\n",
       "    </tr>\n",
       "  </thead>\n",
       "  <tbody>\n",
       "    <tr>\n",
       "      <th>Tunned Random Forest</th>\n",
       "      <td>0.491416</td>\n",
       "      <td>-0.006191</td>\n",
       "    </tr>\n",
       "    <tr>\n",
       "      <th>Tunned Random Forest</th>\n",
       "      <td>0.375408</td>\n",
       "      <td>-0.009447</td>\n",
       "    </tr>\n",
       "    <tr>\n",
       "      <th>Default Random Forest</th>\n",
       "      <td>0.850046</td>\n",
       "      <td>-0.058900</td>\n",
       "    </tr>\n",
       "  </tbody>\n",
       "</table>"
      ],
      "text/plain": [
       "<IPython.core.display.HTML object>"
      ]
     },
     "metadata": {},
     "output_type": "display_data"
    },
    {
     "name": "stdout",
     "output_type": "stream",
     "text": [
      "{'n_estimators': 42, 'max_features': 33, 'max_depth': 10}\n"
     ]
    }
   ],
   "source": [
    "time_split = TimeSeriesSplit(n_splits=N_SPLITS)\n",
    "r2_scorer = make_scorer(new_r2)\n",
    "n_columns = X_train.shape[1]\n",
    "rf_params =  {\"max_features\":list(range(1, int(np.sqrt(n_columns)+1))),\n",
    "              \"n_estimators\": list(range(2, 60)),\n",
    "              \"max_depth\": list(range(2, 21))}\n",
    "\n",
    "rf_search = RandomizedSearchCV(estimator=RandomForestRegressor(),\n",
    "                               param_distributions=rf_params,\n",
    "                               n_iter=N_ITER,\n",
    "                               cv=time_split,\n",
    "                               verbose=1,\n",
    "                               n_jobs=N_JOBS,\n",
    "                               scoring=r2_scorer)\n",
    "\n",
    "rf_search = rf_search.fit(X_train,y_train)\n",
    "rf_train_pred  = rf_search.best_estimator_.predict(X_train)\n",
    "rf_test_pred  = rf_search.best_estimator_.predict(X_test)\n",
    "\n",
    "r2_train = new_r2(y_train, rf_train_pred)\n",
    "r2_test = new_r2(y_test, rf_test_pred)\n",
    "\n",
    "results[\"train\"].append(r2_train)\n",
    "results[\"test\"].append(r2_test)\n",
    "results[\"model\"].append(\"Tunned Random Forest\")\n",
    "\n",
    "result = pd.DataFrame(results).set_index(\"model\").sort_values(\"test\", ascending=False).to_html()\n",
    "display(HTML(result))\n",
    "print(rf_search.best_params_)"
   ]
  },
  {
   "cell_type": "code",
   "execution_count": null,
   "metadata": {},
   "outputs": [],
   "source": []
  }
 ],
 "metadata": {
  "kernelspec": {
   "display_name": "Python 3",
   "language": "python",
   "name": "python3"
  },
  "language_info": {
   "codemirror_mode": {
    "name": "ipython",
    "version": 3
   },
   "file_extension": ".py",
   "mimetype": "text/x-python",
   "name": "python",
   "nbconvert_exporter": "python",
   "pygments_lexer": "ipython3",
   "version": "3.8.5"
  }
 },
 "nbformat": 4,
 "nbformat_minor": 4
}
