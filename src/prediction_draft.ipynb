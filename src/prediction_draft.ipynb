{
 "cells": [
  {
   "cell_type": "code",
   "execution_count": 1,
   "metadata": {},
   "outputs": [],
   "source": [
    "import pandas as pd\n",
    "import numpy as np\n",
    "from data_mani.utils import merge_market_and_gtrends\n",
    "from tqdm import tqdm\n",
    "from sklearn.ensemble import RandomForestRegressor\n",
    "from prediction.util import new_r2, add_shift\n",
    "from prediction.util import hyper_params_search\n",
    "from prediction.util import get_selected_features\n",
    "from prediction.models import RandomForestWrapper\n",
    "\n",
    "\n",
    "\n",
    "from sklearn.model_selection import TimeSeriesSplit, RandomizedSearchCV\n",
    "from sklearn.metrics import make_scorer\n",
    "from IPython.display import display, HTML\n",
    "from time import time\n",
    "import os\n",
    "from glob import glob"
   ]
  },
  {
   "cell_type": "markdown",
   "metadata": {},
   "source": [
    "## Variables"
   ]
  },
  {
   "cell_type": "code",
   "execution_count": 2,
   "metadata": {},
   "outputs": [],
   "source": [
    "tickers = ['0910150D US Equity', '1288652D US Equity',\n",
    "           '1831877D US Equity', 'ANDV US Equity',\n",
    "           'BCR US Equity', 'GR US Equity', 'HAR US Equity',\n",
    "           'HAS US Equity', 'HPC US Equity', 'MAT US Equity',\n",
    "           'NBL US Equity', 'TSS US Equity', 'TWX US Equity',\n",
    "           'TXU US Equity', 'WAMUQ US Equity']\n",
    "\n",
    "ticker_name =  tickers[3]\n",
    "fs_method = \"fake\"\n",
    "market_folder = \"spx\"\n",
    "init = time()"
   ]
  },
  {
   "cell_type": "markdown",
   "metadata": {},
   "source": [
    "# Get merged dataframe "
   ]
  },
  {
   "cell_type": "code",
   "execution_count": 3,
   "metadata": {},
   "outputs": [
    {
     "data": {
      "text/plain": [
       "((1856, 183), (1856, 183))"
      ]
     },
     "execution_count": 3,
     "metadata": {},
     "output_type": "execute_result"
    }
   ],
   "source": [
    "ticker_path = \"data/index/{}/{}.csv\".format(market_folder,ticker_name)\n",
    "train, test = merge_market_and_gtrends(ticker_path, test_size=0.5)\n",
    "train.shape, test.shape"
   ]
  },
  {
   "cell_type": "markdown",
   "metadata": {},
   "source": [
    "## Add shift + Preprocessing + Selecting Features"
   ]
  },
  {
   "cell_type": "code",
   "execution_count": 4,
   "metadata": {},
   "outputs": [
    {
     "name": "stderr",
     "output_type": "stream",
     "text": [
      "add shift: 100%|██████████| 182/182 [00:43<00:00,  4.15it/s]\n",
      "add shift: 100%|██████████| 182/182 [00:36<00:00,  4.99it/s]\n"
     ]
    }
   ],
   "source": [
    "words = train.drop(\"target_return\",1).columns.to_list()\n",
    "\n",
    "add_shift(merged_df=train, words=words, max_lag=20)\n",
    "\n",
    "if fs_method == \"all\":\n",
    "    select = train.drop(\"target_return\",1).columns.to_list()\n",
    "else:\n",
    "    select = get_selected_features(ticker_name=ticker_name,\n",
    "                                   out_folder=market_folder,\n",
    "                                   fs_method=fs_method)\n",
    "\n",
    "\n",
    "train = train[[\"target_return\"] + select]\n",
    "train = train.fillna(0.0)\n",
    "\n",
    "add_shift(merged_df=test, words=words, max_lag=20)\n",
    "test = test[[\"target_return\"] + select]\n",
    "test = test.fillna(0.0)"
   ]
  },
  {
   "cell_type": "code",
   "execution_count": 5,
   "metadata": {},
   "outputs": [
    {
     "data": {
      "text/plain": [
       "((1856, 2220), (1856, 2220))"
      ]
     },
     "execution_count": 5,
     "metadata": {},
     "output_type": "execute_result"
    }
   ],
   "source": [
    "train.shape, test.shape"
   ]
  },
  {
   "cell_type": "markdown",
   "metadata": {},
   "source": [
    "# Hyperparameter search + Prediction"
   ]
  },
  {
   "cell_type": "code",
   "execution_count": 6,
   "metadata": {},
   "outputs": [
    {
     "name": "stderr",
     "output_type": "stream",
     "text": [
      "anual training and prediction:   0%|          | 0/14 [00:00<?, ?it/s]"
     ]
    },
    {
     "name": "stdout",
     "output_type": "stream",
     "text": [
      "Fitting 3 folds for each of 1 candidates, totalling 3 fits\n"
     ]
    },
    {
     "name": "stderr",
     "output_type": "stream",
     "text": [
      "[Parallel(n_jobs=2)]: Using backend LokyBackend with 2 concurrent workers.\n",
      "[Parallel(n_jobs=2)]: Done   3 out of   3 | elapsed:    1.2s finished\n",
      "anual training and prediction:   7%|▋         | 1/14 [00:01<00:19,  1.48s/it][Parallel(n_jobs=2)]: Using backend LokyBackend with 2 concurrent workers.\n"
     ]
    },
    {
     "name": "stdout",
     "output_type": "stream",
     "text": [
      "Fitting 3 folds for each of 1 candidates, totalling 3 fits\n"
     ]
    },
    {
     "name": "stderr",
     "output_type": "stream",
     "text": [
      "[Parallel(n_jobs=2)]: Done   3 out of   3 | elapsed:    0.8s finished\n",
      "anual training and prediction:  14%|█▍        | 2/14 [00:02<00:17,  1.47s/it][Parallel(n_jobs=2)]: Using backend LokyBackend with 2 concurrent workers.\n"
     ]
    },
    {
     "name": "stdout",
     "output_type": "stream",
     "text": [
      "Fitting 3 folds for each of 1 candidates, totalling 3 fits\n"
     ]
    },
    {
     "name": "stderr",
     "output_type": "stream",
     "text": [
      "[Parallel(n_jobs=2)]: Done   3 out of   3 | elapsed:  1.0min finished\n",
      "anual training and prediction:  21%|██▏       | 3/14 [02:05<06:56, 37.85s/it][Parallel(n_jobs=2)]: Using backend LokyBackend with 2 concurrent workers.\n"
     ]
    },
    {
     "name": "stdout",
     "output_type": "stream",
     "text": [
      "Fitting 3 folds for each of 1 candidates, totalling 3 fits\n"
     ]
    },
    {
     "name": "stderr",
     "output_type": "stream",
     "text": [
      "[Parallel(n_jobs=2)]: Done   3 out of   3 | elapsed:  1.0min finished\n",
      "anual training and prediction:  29%|██▊       | 4/14 [03:52<09:44, 58.43s/it][Parallel(n_jobs=2)]: Using backend LokyBackend with 2 concurrent workers.\n"
     ]
    },
    {
     "name": "stdout",
     "output_type": "stream",
     "text": [
      "Fitting 3 folds for each of 1 candidates, totalling 3 fits\n"
     ]
    },
    {
     "name": "stderr",
     "output_type": "stream",
     "text": [
      "[Parallel(n_jobs=2)]: Done   3 out of   3 | elapsed:    0.5s finished\n",
      "anual training and prediction:  36%|███▌      | 5/14 [03:52<06:10, 41.15s/it][Parallel(n_jobs=2)]: Using backend LokyBackend with 2 concurrent workers.\n"
     ]
    },
    {
     "name": "stdout",
     "output_type": "stream",
     "text": [
      "Fitting 3 folds for each of 1 candidates, totalling 3 fits\n"
     ]
    },
    {
     "name": "stderr",
     "output_type": "stream",
     "text": [
      "[Parallel(n_jobs=2)]: Done   3 out of   3 | elapsed:    0.3s finished\n",
      "anual training and prediction:  43%|████▎     | 6/14 [03:53<03:51, 28.99s/it][Parallel(n_jobs=2)]: Using backend LokyBackend with 2 concurrent workers.\n"
     ]
    },
    {
     "name": "stdout",
     "output_type": "stream",
     "text": [
      "Fitting 3 folds for each of 1 candidates, totalling 3 fits\n"
     ]
    },
    {
     "name": "stderr",
     "output_type": "stream",
     "text": [
      "[Parallel(n_jobs=2)]: Done   3 out of   3 | elapsed:    0.4s finished\n",
      "anual training and prediction:  50%|█████     | 7/14 [03:54<02:23, 20.48s/it][Parallel(n_jobs=2)]: Using backend LokyBackend with 2 concurrent workers.\n"
     ]
    },
    {
     "name": "stdout",
     "output_type": "stream",
     "text": [
      "Fitting 3 folds for each of 1 candidates, totalling 3 fits\n"
     ]
    },
    {
     "name": "stderr",
     "output_type": "stream",
     "text": [
      "[Parallel(n_jobs=2)]: Done   3 out of   3 | elapsed:    1.6s finished\n",
      "anual training and prediction:  57%|█████▋    | 8/14 [03:56<01:30, 15.11s/it][Parallel(n_jobs=2)]: Using backend LokyBackend with 2 concurrent workers.\n"
     ]
    },
    {
     "name": "stdout",
     "output_type": "stream",
     "text": [
      "Fitting 3 folds for each of 1 candidates, totalling 3 fits\n"
     ]
    },
    {
     "name": "stderr",
     "output_type": "stream",
     "text": [
      "[Parallel(n_jobs=2)]: Done   3 out of   3 | elapsed:  2.5min finished\n",
      "anual training and prediction:  64%|██████▍   | 9/14 [07:59<06:56, 83.28s/it][Parallel(n_jobs=2)]: Using backend LokyBackend with 2 concurrent workers.\n"
     ]
    },
    {
     "name": "stdout",
     "output_type": "stream",
     "text": [
      "Fitting 3 folds for each of 1 candidates, totalling 3 fits\n"
     ]
    },
    {
     "name": "stderr",
     "output_type": "stream",
     "text": [
      "[Parallel(n_jobs=2)]: Done   3 out of   3 | elapsed:  1.1min finished\n",
      "anual training and prediction:  71%|███████▏  | 10/14 [09:48<06:04, 91.14s/it][Parallel(n_jobs=2)]: Using backend LokyBackend with 2 concurrent workers.\n"
     ]
    },
    {
     "name": "stdout",
     "output_type": "stream",
     "text": [
      "Fitting 3 folds for each of 1 candidates, totalling 3 fits\n"
     ]
    },
    {
     "name": "stderr",
     "output_type": "stream",
     "text": [
      "[Parallel(n_jobs=2)]: Done   3 out of   3 | elapsed:    2.1s finished\n",
      "anual training and prediction:  79%|███████▊  | 11/14 [09:52<03:14, 64.85s/it][Parallel(n_jobs=2)]: Using backend LokyBackend with 2 concurrent workers.\n"
     ]
    },
    {
     "name": "stdout",
     "output_type": "stream",
     "text": [
      "Fitting 3 folds for each of 1 candidates, totalling 3 fits\n"
     ]
    },
    {
     "name": "stderr",
     "output_type": "stream",
     "text": [
      "[Parallel(n_jobs=2)]: Done   3 out of   3 | elapsed:    0.4s finished\n",
      "anual training and prediction:  86%|████████▌ | 12/14 [09:52<01:31, 45.62s/it][Parallel(n_jobs=2)]: Using backend LokyBackend with 2 concurrent workers.\n"
     ]
    },
    {
     "name": "stdout",
     "output_type": "stream",
     "text": [
      "Fitting 3 folds for each of 1 candidates, totalling 3 fits\n"
     ]
    },
    {
     "name": "stderr",
     "output_type": "stream",
     "text": [
      "[Parallel(n_jobs=2)]: Done   3 out of   3 | elapsed:    1.9s finished\n",
      "anual training and prediction:  93%|█████████▎| 13/14 [09:55<00:32, 32.82s/it][Parallel(n_jobs=2)]: Using backend LokyBackend with 2 concurrent workers.\n"
     ]
    },
    {
     "name": "stdout",
     "output_type": "stream",
     "text": [
      "Fitting 3 folds for each of 1 candidates, totalling 3 fits\n"
     ]
    },
    {
     "name": "stderr",
     "output_type": "stream",
     "text": [
      "[Parallel(n_jobs=2)]: Done   3 out of   3 | elapsed:    4.5s finished\n",
      "anual training and prediction: 100%|██████████| 14/14 [10:02<00:00, 43.06s/it]\n"
     ]
    }
   ],
   "source": [
    "all_preds = []\n",
    "complete = pd.concat([train, test])\n",
    "years = list(set(complete.index.map(lambda x: x.year)))\n",
    "years.sort()\n",
    "years = years[:-1]\n",
    "\n",
    "for y in tqdm(years, desc=\"anual training and prediction\"):\n",
    "    train_ys = complete[:str(y)]\n",
    "    test_ys = complete[str(y+1)]\n",
    "    rf_wrapper = RandomForestWrapper()\n",
    "    test_size = train_ys.shape[0]//4\n",
    "    model_search =  hyper_params_search(df=train_ys,\n",
    "                                        wrapper=rf_wrapper,\n",
    "                                        n_jobs=2,\n",
    "                                        n_iter=1,\n",
    "                                        test_size=test_size)\n",
    "    X_test = test_ys.drop(\"target_return\",1).values\n",
    "    y_test = test_ys.target_return.values\n",
    "    test_pred  = model_search.best_estimator_.predict(X_test)\n",
    "    dict_ = {\"date\": test_ys.index,\n",
    "             \"return\":y_test,\n",
    "             \"prediction\":test_pred}\n",
    "    result = pd.DataFrame(dict_)\n",
    "    all_preds.append(result)\n"
   ]
  },
  {
   "cell_type": "markdown",
   "metadata": {},
   "source": [
    "# Saving the predictions"
   ]
  },
  {
   "cell_type": "code",
   "execution_count": 7,
   "metadata": {},
   "outputs": [],
   "source": [
    "out_path = \"results/forecast/{}/{}/{}.csv\".format(fs_method,market_folder,ticker_name)\n",
    "df = pd.concat(all_preds)\n",
    "df.to_csv(out_path, index=False)"
   ]
  },
  {
   "cell_type": "markdown",
   "metadata": {},
   "source": [
    "## Analysis"
   ]
  },
  {
   "cell_type": "code",
   "execution_count": 8,
   "metadata": {},
   "outputs": [
    {
     "data": {
      "image/png": "[encoded data removed]",
      "text/plain": [
       "<Figure size 432x288 with 1 Axes>"
      ]
     },
     "metadata": {
      "needs_background": "light"
     },
     "output_type": "display_data"
    }
   ],
   "source": [
    "df = pd.concat(all_preds)\n",
    "df.loc[:, \"date\"] = pd.to_datetime(df.date)\n",
    "df = df.set_index(\"date\")\n",
    "all_r2 = []\n",
    "\n",
    "for year in years[1:]:\n",
    "    df_ =  df[str(year)]\n",
    "    r2_ = new_r2(df_[\"return\"].values, df_[\"prediction\"].values)\n",
    "    all_r2.append(r2_)\n",
    "all_r2 = pd.Series(all_r2, index=years[1:])\n",
    "all_r2.hist();"
   ]
  },
  {
   "cell_type": "code",
   "execution_count": 9,
   "metadata": {},
   "outputs": [
    {
     "data": {
      "text/plain": [
       "2005    0.003634\n",
       "2006   -0.041245\n",
       "2007    0.010228\n",
       "2008   -0.005609\n",
       "2009    0.001095\n",
       "2010    0.014295\n",
       "2011    0.002598\n",
       "2012    0.007624\n",
       "2013    0.001980\n",
       "2014    0.005269\n",
       "2015    0.000750\n",
       "2016   -0.006432\n",
       "2017    0.005665\n",
       "dtype: float64"
      ]
     },
     "execution_count": 9,
     "metadata": {},
     "output_type": "execute_result"
    }
   ],
   "source": [
    "all_r2"
   ]
  },
  {
   "cell_type": "code",
   "execution_count": 10,
   "metadata": {},
   "outputs": [
    {
     "name": "stdout",
     "output_type": "stream",
     "text": [
      "11.4 min\n"
     ]
    }
   ],
   "source": [
    "tempo = (time() - init) / 60\n",
    "print(np.round(tempo,2), \"min\")"
   ]
  },
  {
   "cell_type": "code",
   "execution_count": null,
   "metadata": {},
   "outputs": [],
   "source": []
  }
 ],
 "metadata": {
  "kernelspec": {
   "display_name": "Python 3",
   "language": "python",
   "name": "python3"
  },
  "language_info": {
   "codemirror_mode": {
    "name": "ipython",
    "version": 3
   },
   "file_extension": ".py",
   "mimetype": "text/x-python",
   "name": "python",
   "nbconvert_exporter": "python",
   "pygments_lexer": "ipython3",
   "version": "3.8.5"
  }
 },
 "nbformat": 4,
 "nbformat_minor": 4
}
