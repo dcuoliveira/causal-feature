{
 "cells": [
  {
   "cell_type": "code",
   "execution_count": 1,
   "metadata": {},
   "outputs": [],
   "source": [
    "import pandas as pd\n",
    "import numpy as np\n",
    "from data_mani.utils import merge_market_and_gtrends\n",
    "from tqdm import tqdm\n",
    "from sklearn.ensemble import RandomForestRegressor\n",
    "from prediction.util import new_r2, add_shift\n",
    "from prediction.util import hyper_params_search\n",
    "from prediction.util import get_selected_features\n",
    "from prediction.util import annualy_fit_and_predict\n",
    "from prediction.models import RandomForestWrapper\n",
    "\n",
    "\n",
    "\n",
    "\n",
    "from sklearn.model_selection import TimeSeriesSplit, RandomizedSearchCV\n",
    "from sklearn.metrics import make_scorer\n",
    "from IPython.display import display, HTML\n",
    "from time import time\n",
    "import os\n",
    "from glob import glob"
   ]
  },
  {
   "cell_type": "markdown",
   "metadata": {},
   "source": [
    "## Variables"
   ]
  },
  {
   "cell_type": "code",
   "execution_count": 2,
   "metadata": {},
   "outputs": [],
   "source": [
    "tickers = ['0910150D US Equity', '1288652D US Equity',\n",
    "           '1831877D US Equity', 'ANDV US Equity',\n",
    "           'BCR US Equity', 'GR US Equity', 'HAR US Equity',\n",
    "           'HAS US Equity', 'HPC US Equity', 'MAT US Equity',\n",
    "           'NBL US Equity', 'TSS US Equity', 'TWX US Equity',\n",
    "           'TXU US Equity', 'WAMUQ US Equity']\n",
    "\n",
    "ticker_name =  tickers[3]\n",
    "fs_method = \"fake\"\n",
    "market_folder = \"spx\"\n",
    "init = time()"
   ]
  },
  {
   "cell_type": "markdown",
   "metadata": {},
   "source": [
    "# Get merged dataframe "
   ]
  },
  {
   "cell_type": "code",
   "execution_count": 3,
   "metadata": {},
   "outputs": [
    {
     "data": {
      "text/plain": [
       "((1856, 183), (1856, 183))"
      ]
     },
     "execution_count": 3,
     "metadata": {},
     "output_type": "execute_result"
    }
   ],
   "source": [
    "ticker_path = \"data/index/{}/{}.csv\".format(market_folder,ticker_name)\n",
    "train, test = merge_market_and_gtrends(ticker_path, test_size=0.5)\n",
    "train.shape, test.shape"
   ]
  },
  {
   "cell_type": "markdown",
   "metadata": {},
   "source": [
    "## Add shift + Preprocessing + Selecting Features"
   ]
  },
  {
   "cell_type": "code",
   "execution_count": 4,
   "metadata": {},
   "outputs": [
    {
     "name": "stderr",
     "output_type": "stream",
     "text": [
      "add shift: 100%|██████████| 182/182 [00:51<00:00,  3.54it/s]\n",
      "add shift: 100%|██████████| 182/182 [00:45<00:00,  4.01it/s]\n"
     ]
    }
   ],
   "source": [
    "words = train.drop(\"target_return\",1).columns.to_list()\n",
    "\n",
    "add_shift(merged_df=train, words=words, max_lag=20)\n",
    "\n",
    "if fs_method == \"all\":\n",
    "    select = train.drop(\"target_return\",1).columns.to_list()\n",
    "else:\n",
    "    select = get_selected_features(ticker_name=ticker_name,\n",
    "                                   out_folder=market_folder,\n",
    "                                   fs_method=fs_method)\n",
    "\n",
    "\n",
    "train = train[[\"target_return\"] + select]\n",
    "train = train.fillna(0.0)\n",
    "\n",
    "add_shift(merged_df=test, words=words, max_lag=20)\n",
    "test = test[[\"target_return\"] + select]\n",
    "test = test.fillna(0.0)"
   ]
  },
  {
   "cell_type": "code",
   "execution_count": 5,
   "metadata": {},
   "outputs": [
    {
     "data": {
      "text/plain": [
       "((1856, 2220), (1856, 2220))"
      ]
     },
     "execution_count": 5,
     "metadata": {},
     "output_type": "execute_result"
    }
   ],
   "source": [
    "train.shape, test.shape"
   ]
  },
  {
   "cell_type": "markdown",
   "metadata": {},
   "source": [
    "# Hyperparameter search + Prediction"
   ]
  },
  {
   "cell_type": "code",
   "execution_count": 6,
   "metadata": {},
   "outputs": [
    {
     "name": "stderr",
     "output_type": "stream",
     "text": [
      "anual training and prediction:   0%|          | 0/14 [00:00<?, ?it/s]"
     ]
    },
    {
     "name": "stdout",
     "output_type": "stream",
     "text": [
      "Fitting 3 folds for each of 1 candidates, totalling 3 fits\n"
     ]
    },
    {
     "name": "stderr",
     "output_type": "stream",
     "text": [
      "[Parallel(n_jobs=2)]: Using backend LokyBackend with 2 concurrent workers.\n",
      "[Parallel(n_jobs=2)]: Done   3 out of   3 | elapsed:   19.4s finished\n",
      "anual training and prediction:   7%|▋         | 1/14 [00:42<09:12, 42.48s/it][Parallel(n_jobs=2)]: Using backend LokyBackend with 2 concurrent workers.\n"
     ]
    },
    {
     "name": "stdout",
     "output_type": "stream",
     "text": [
      "Fitting 3 folds for each of 1 candidates, totalling 3 fits\n"
     ]
    },
    {
     "name": "stderr",
     "output_type": "stream",
     "text": [
      "[Parallel(n_jobs=2)]: Done   3 out of   3 | elapsed:   29.4s finished\n",
      "anual training and prediction:  14%|█▍        | 2/14 [01:35<09:06, 45.54s/it][Parallel(n_jobs=2)]: Using backend LokyBackend with 2 concurrent workers.\n",
      "[Parallel(n_jobs=2)]: Done   3 out of   3 | elapsed:    0.2s finished\n"
     ]
    },
    {
     "name": "stdout",
     "output_type": "stream",
     "text": [
      "Fitting 3 folds for each of 1 candidates, totalling 3 fits\n"
     ]
    },
    {
     "name": "stderr",
     "output_type": "stream",
     "text": [
      "anual training and prediction:  21%|██▏       | 3/14 [01:35<05:52, 32.00s/it][Parallel(n_jobs=2)]: Using backend LokyBackend with 2 concurrent workers.\n"
     ]
    },
    {
     "name": "stdout",
     "output_type": "stream",
     "text": [
      "Fitting 3 folds for each of 1 candidates, totalling 3 fits\n"
     ]
    },
    {
     "name": "stderr",
     "output_type": "stream",
     "text": [
      "[Parallel(n_jobs=2)]: Done   3 out of   3 | elapsed:    3.5s finished\n",
      "anual training and prediction:  29%|██▊       | 4/14 [01:42<04:03, 24.39s/it][Parallel(n_jobs=2)]: Using backend LokyBackend with 2 concurrent workers.\n"
     ]
    },
    {
     "name": "stdout",
     "output_type": "stream",
     "text": [
      "Fitting 3 folds for each of 1 candidates, totalling 3 fits\n"
     ]
    },
    {
     "name": "stderr",
     "output_type": "stream",
     "text": [
      "[Parallel(n_jobs=2)]: Done   3 out of   3 | elapsed:    1.5s finished\n",
      "anual training and prediction:  36%|███▌      | 5/14 [01:44<02:40, 17.83s/it][Parallel(n_jobs=2)]: Using backend LokyBackend with 2 concurrent workers.\n"
     ]
    },
    {
     "name": "stdout",
     "output_type": "stream",
     "text": [
      "Fitting 3 folds for each of 1 candidates, totalling 3 fits\n"
     ]
    },
    {
     "name": "stderr",
     "output_type": "stream",
     "text": [
      "[Parallel(n_jobs=2)]: Done   3 out of   3 | elapsed:  2.6min finished\n",
      "anual training and prediction:  43%|████▎     | 6/14 [06:40<13:29, 101.25s/it][Parallel(n_jobs=2)]: Using backend LokyBackend with 2 concurrent workers.\n"
     ]
    },
    {
     "name": "stdout",
     "output_type": "stream",
     "text": [
      "Fitting 3 folds for each of 1 candidates, totalling 3 fits\n"
     ]
    },
    {
     "name": "stderr",
     "output_type": "stream",
     "text": [
      "[Parallel(n_jobs=2)]: Done   3 out of   3 | elapsed:    3.1s finished\n",
      "anual training and prediction:  50%|█████     | 7/14 [06:46<08:27, 72.55s/it] [Parallel(n_jobs=2)]: Using backend LokyBackend with 2 concurrent workers.\n"
     ]
    },
    {
     "name": "stdout",
     "output_type": "stream",
     "text": [
      "Fitting 3 folds for each of 1 candidates, totalling 3 fits\n"
     ]
    },
    {
     "name": "stderr",
     "output_type": "stream",
     "text": [
      "[Parallel(n_jobs=2)]: Done   3 out of   3 | elapsed:    1.3s finished\n",
      "anual training and prediction:  57%|█████▋    | 8/14 [06:48<05:08, 51.45s/it][Parallel(n_jobs=2)]: Using backend LokyBackend with 2 concurrent workers.\n"
     ]
    },
    {
     "name": "stdout",
     "output_type": "stream",
     "text": [
      "Fitting 3 folds for each of 1 candidates, totalling 3 fits\n"
     ]
    },
    {
     "name": "stderr",
     "output_type": "stream",
     "text": [
      "[Parallel(n_jobs=2)]: Done   3 out of   3 | elapsed:    2.0s finished\n",
      "anual training and prediction:  64%|██████▍   | 9/14 [06:51<03:05, 37.05s/it][Parallel(n_jobs=2)]: Using backend LokyBackend with 2 concurrent workers.\n"
     ]
    },
    {
     "name": "stdout",
     "output_type": "stream",
     "text": [
      "Fitting 3 folds for each of 1 candidates, totalling 3 fits\n"
     ]
    },
    {
     "name": "stderr",
     "output_type": "stream",
     "text": [
      "[Parallel(n_jobs=2)]: Done   3 out of   3 | elapsed:    4.3s finished\n",
      "anual training and prediction:  71%|███████▏  | 10/14 [06:59<01:53, 28.26s/it][Parallel(n_jobs=2)]: Using backend LokyBackend with 2 concurrent workers.\n"
     ]
    },
    {
     "name": "stdout",
     "output_type": "stream",
     "text": [
      "Fitting 3 folds for each of 1 candidates, totalling 3 fits\n"
     ]
    },
    {
     "name": "stderr",
     "output_type": "stream",
     "text": [
      "[Parallel(n_jobs=2)]: Done   3 out of   3 | elapsed:   14.7s finished\n",
      "anual training and prediction:  79%|███████▊  | 11/14 [07:23<01:20, 26.98s/it][Parallel(n_jobs=2)]: Using backend LokyBackend with 2 concurrent workers.\n"
     ]
    },
    {
     "name": "stdout",
     "output_type": "stream",
     "text": [
      "Fitting 3 folds for each of 1 candidates, totalling 3 fits\n"
     ]
    },
    {
     "name": "stderr",
     "output_type": "stream",
     "text": [
      "[Parallel(n_jobs=2)]: Done   3 out of   3 | elapsed:    1.1s finished\n",
      "anual training and prediction:  86%|████████▌ | 12/14 [07:25<00:38, 19.42s/it][Parallel(n_jobs=2)]: Using backend LokyBackend with 2 concurrent workers.\n"
     ]
    },
    {
     "name": "stdout",
     "output_type": "stream",
     "text": [
      "Fitting 3 folds for each of 1 candidates, totalling 3 fits\n"
     ]
    },
    {
     "name": "stderr",
     "output_type": "stream",
     "text": [
      "[Parallel(n_jobs=2)]: Done   3 out of   3 | elapsed:    8.4s finished\n",
      "anual training and prediction:  93%|█████████▎| 13/14 [07:39<00:17, 17.81s/it][Parallel(n_jobs=2)]: Using backend LokyBackend with 2 concurrent workers.\n"
     ]
    },
    {
     "name": "stdout",
     "output_type": "stream",
     "text": [
      "Fitting 3 folds for each of 1 candidates, totalling 3 fits\n"
     ]
    },
    {
     "name": "stderr",
     "output_type": "stream",
     "text": [
      "[Parallel(n_jobs=2)]: Done   3 out of   3 | elapsed:    0.5s finished\n",
      "anual training and prediction: 100%|██████████| 14/14 [07:40<00:00, 32.88s/it]\n"
     ]
    }
   ],
   "source": [
    "complete = pd.concat([train, test])\n",
    "\n",
    "pred_results = annualy_fit_and_predict(df=complete,\n",
    "                                       Wrapper=RandomForestWrapper,\n",
    "                                       n_iter=1,\n",
    "                                       n_jobs=2,\n",
    "                                       n_splits=3,\n",
    "                                       target_name=\"target_return\")"
   ]
  },
  {
   "cell_type": "markdown",
   "metadata": {},
   "source": [
    "# Saving the predictions"
   ]
  },
  {
   "cell_type": "code",
   "execution_count": 7,
   "metadata": {},
   "outputs": [],
   "source": [
    "out_path = \"results/forecast/{}/{}/{}.csv\".format(fs_method,market_folder,ticker_name)\n",
    "pred_results.to_csv(out_path, index=False)"
   ]
  },
  {
   "cell_type": "markdown",
   "metadata": {},
   "source": [
    "## Analysis"
   ]
  },
  {
   "cell_type": "code",
   "execution_count": 8,
   "metadata": {},
   "outputs": [
    {
     "data": {
      "image/png": "[encoded data removed]",
      "text/plain": [
       "<Figure size 432x288 with 1 Axes>"
      ]
     },
     "metadata": {
      "needs_background": "light"
     },
     "output_type": "display_data"
    }
   ],
   "source": [
    "years = list(set(complete.index.map(lambda x: x.year)))\n",
    "years.sort()\n",
    "years = years[:-1]\n",
    "\n",
    "pred_results.loc[:, \"date\"] = pd.to_datetime(pred_results.date)\n",
    "pred_results = pred_results.set_index(\"date\")\n",
    "all_r2 = []\n",
    "\n",
    "for year in years[1:]:\n",
    "    df_ =  pred_results[str(year)]\n",
    "    r2_ = new_r2(df_[\"return\"].values, df_[\"prediction\"].values)\n",
    "    all_r2.append(r2_)\n",
    "all_r2 = pd.Series(all_r2, index=years[1:])\n",
    "all_r2.hist();"
   ]
  },
  {
   "cell_type": "code",
   "execution_count": 9,
   "metadata": {},
   "outputs": [
    {
     "data": {
      "text/plain": [
       "2005   -0.006037\n",
       "2006   -0.035208\n",
       "2007    0.006683\n",
       "2008   -0.007507\n",
       "2009   -0.008890\n",
       "2010    0.000535\n",
       "2011   -0.007749\n",
       "2012   -0.004308\n",
       "2013    0.005082\n",
       "2014   -0.006581\n",
       "2015   -0.023399\n",
       "2016   -0.025311\n",
       "2017    0.014059\n",
       "dtype: float64"
      ]
     },
     "execution_count": 9,
     "metadata": {},
     "output_type": "execute_result"
    }
   ],
   "source": [
    "all_r2"
   ]
  },
  {
   "cell_type": "code",
   "execution_count": 10,
   "metadata": {},
   "outputs": [
    {
     "name": "stdout",
     "output_type": "stream",
     "text": [
      "9.29 min\n"
     ]
    }
   ],
   "source": [
    "tempo = (time() - init) / 60\n",
    "print(np.round(tempo,2), \"min\")"
   ]
  },
  {
   "cell_type": "code",
   "execution_count": null,
   "metadata": {},
   "outputs": [],
   "source": []
  }
 ],
 "metadata": {
  "kernelspec": {
   "display_name": "Python 3",
   "language": "python",
   "name": "python3"
  },
  "language_info": {
   "codemirror_mode": {
    "name": "ipython",
    "version": 3
   },
   "file_extension": ".py",
   "mimetype": "text/x-python",
   "name": "python",
   "nbconvert_exporter": "python",
   "pygments_lexer": "ipython3",
   "version": "3.8.5"
  }
 },
 "nbformat": 4,
 "nbformat_minor": 4
}
