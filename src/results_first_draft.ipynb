{
 "cells": [
  {
   "cell_type": "code",
   "execution_count": 1,
   "metadata": {},
   "outputs": [],
   "source": [
    "import pandas as pd\n",
    "from glob import glob\n",
    "import seaborn as sns\n",
    "import numpy as np\n",
    "from prediction.functions import new_r2"
   ]
  },
  {
   "cell_type": "code",
   "execution_count": 2,
   "metadata": {},
   "outputs": [],
   "source": [
    "PREDICTION_MODEL = ['lasso', 'ridge', 'enet', 'random_forest', 'lgb', 'nn3']\n",
    "FS_METHODS = ['all', 'granger', 'huang', 'IAMB', 'mda', 'mdi', 'MMMB', 'sfi']\n",
    "EVALUATION_START = '2012-07-03'"
   ]
  },
  {
   "cell_type": "markdown",
   "metadata": {},
   "source": [
    "## Selected Features"
   ]
  },
  {
   "cell_type": "code",
   "execution_count": 3,
   "metadata": {},
   "outputs": [],
   "source": [
    "# features = []\n",
    "\n",
    "# for fs in FS_METHODS:\n",
    "#     assets = glob('results/feature_selection/' + fs + '/indices/*.csv')\n",
    "#     for asset_path in assets:\n",
    "#         df = pd.read_csv(asset_path)\n",
    "\n",
    "#         r2_eval_df = df.copy()\n",
    "#         r2_eval_df.set_index('date', inplace=True)\n",
    "#         r2_eval_df = r2_eval_df.loc[EVALUATION_START:]\n",
    "#         r2 = new_r2(r2_eval_df['return'].values, r2_eval_df['prediction'].values)\n",
    "#         r2_df = pd.DataFrame([{'model': model,\n",
    "#                             'fs': fs,\n",
    "#                             'r2': r2}])\n",
    "#         r2s.append(r2_df)\n",
    "\n",
    "#         melt_df = df.melt('date')\n",
    "#         melt_df['model'] = model\n",
    "#         melt_df['fs'] = fs\n",
    "#         predictions.append(melt_df)\n",
    "\n",
    "# features_df = pd.concat(features, axis=0)"
   ]
  },
  {
   "cell_type": "markdown",
   "metadata": {},
   "source": [
    "## Aggregate prediction results"
   ]
  },
  {
   "cell_type": "code",
   "execution_count": 4,
   "metadata": {},
   "outputs": [],
   "source": [
    "predictions = []\n",
    "r2s = []\n",
    "\n",
    "for model in PREDICTION_MODEL:\n",
    "    for fs in FS_METHODS:\n",
    "        assets = glob('results/forecast/' + fs + '/indices/' + model + '/*.csv')\n",
    "        for asset_path in assets:\n",
    "            df = pd.read_csv(asset_path)\n",
    "            df.set_index('date', inplace=True)\n",
    "            df = df.loc[EVALUATION_START:]\n",
    "            df = df.reset_index()\n",
    "\n",
    "            r2_eval_df = df.copy()\n",
    "            r2 = new_r2(r2_eval_df['return'].values, r2_eval_df['prediction'].values)\n",
    "            r2_df = pd.DataFrame([{'model': model,\n",
    "                                'fs': fs,\n",
    "                                'r2': r2}])\n",
    "            r2s.append(r2_df)\n",
    "\n",
    "            melt_df = df.melt('date')\n",
    "            melt_df['model'] = model\n",
    "            melt_df['fs'] = fs\n",
    "            predictions.append(melt_df)\n",
    "\n",
    "predictions_df = pd.concat(predictions, axis=0)\n",
    "r2_df = pd.concat(r2s, axis=0)"
   ]
  },
  {
   "cell_type": "markdown",
   "metadata": {},
   "source": [
    "## R2 -  Gu, Kelly, and Xiu (2020)"
   ]
  },
  {
   "cell_type": "code",
   "execution_count": 5,
   "metadata": {},
   "outputs": [
    {
     "data": {
      "text/html": [
       "<div>\n",
       "<style scoped>\n",
       "    .dataframe tbody tr th:only-of-type {\n",
       "        vertical-align: middle;\n",
       "    }\n",
       "\n",
       "    .dataframe tbody tr th {\n",
       "        vertical-align: top;\n",
       "    }\n",
       "\n",
       "    .dataframe thead tr th {\n",
       "        text-align: left;\n",
       "    }\n",
       "\n",
       "    .dataframe thead tr:last-of-type th {\n",
       "        text-align: right;\n",
       "    }\n",
       "</style>\n",
       "<table border=\"1\" class=\"dataframe\">\n",
       "  <thead>\n",
       "    <tr>\n",
       "      <th></th>\n",
       "      <th colspan=\"6\" halign=\"left\">r2</th>\n",
       "    </tr>\n",
       "    <tr>\n",
       "      <th>model</th>\n",
       "      <th>enet</th>\n",
       "      <th>lasso</th>\n",
       "      <th>lgb</th>\n",
       "      <th>nn3</th>\n",
       "      <th>random_forest</th>\n",
       "      <th>ridge</th>\n",
       "    </tr>\n",
       "    <tr>\n",
       "      <th>fs</th>\n",
       "      <th></th>\n",
       "      <th></th>\n",
       "      <th></th>\n",
       "      <th></th>\n",
       "      <th></th>\n",
       "      <th></th>\n",
       "    </tr>\n",
       "  </thead>\n",
       "  <tbody>\n",
       "    <tr>\n",
       "      <th>IAMB</th>\n",
       "      <td>-0.125386</td>\n",
       "      <td>0.194931</td>\n",
       "      <td>0.091345</td>\n",
       "      <td>-9.683188</td>\n",
       "      <td>-2.015956</td>\n",
       "      <td>-3.200634</td>\n",
       "    </tr>\n",
       "    <tr>\n",
       "      <th>MMMB</th>\n",
       "      <td>0.145037</td>\n",
       "      <td>0.260719</td>\n",
       "      <td>0.249900</td>\n",
       "      <td>-0.253133</td>\n",
       "      <td>-2.054485</td>\n",
       "      <td>-2.445411</td>\n",
       "    </tr>\n",
       "    <tr>\n",
       "      <th>all</th>\n",
       "      <td>0.260719</td>\n",
       "      <td>0.260719</td>\n",
       "      <td>-0.021936</td>\n",
       "      <td>-0.320744</td>\n",
       "      <td>0.618477</td>\n",
       "      <td>-610.099022</td>\n",
       "    </tr>\n",
       "    <tr>\n",
       "      <th>granger</th>\n",
       "      <td>0.260719</td>\n",
       "      <td>0.260719</td>\n",
       "      <td>0.226518</td>\n",
       "      <td>0.051103</td>\n",
       "      <td>0.485445</td>\n",
       "      <td>-4.891654</td>\n",
       "    </tr>\n",
       "    <tr>\n",
       "      <th>huang</th>\n",
       "      <td>0.216428</td>\n",
       "      <td>0.160888</td>\n",
       "      <td>0.149066</td>\n",
       "      <td>-0.124528</td>\n",
       "      <td>0.239312</td>\n",
       "      <td>0.124308</td>\n",
       "    </tr>\n",
       "    <tr>\n",
       "      <th>mda</th>\n",
       "      <td>0.260719</td>\n",
       "      <td>0.260719</td>\n",
       "      <td>0.320499</td>\n",
       "      <td>0.309241</td>\n",
       "      <td>-0.003625</td>\n",
       "      <td>-65.984130</td>\n",
       "    </tr>\n",
       "    <tr>\n",
       "      <th>mdi</th>\n",
       "      <td>0.260719</td>\n",
       "      <td>0.260719</td>\n",
       "      <td>0.262052</td>\n",
       "      <td>0.299551</td>\n",
       "      <td>-0.102545</td>\n",
       "      <td>-110.691437</td>\n",
       "    </tr>\n",
       "    <tr>\n",
       "      <th>sfi</th>\n",
       "      <td>0.260719</td>\n",
       "      <td>0.260719</td>\n",
       "      <td>0.289977</td>\n",
       "      <td>0.090549</td>\n",
       "      <td>-0.039325</td>\n",
       "      <td>-406.262967</td>\n",
       "    </tr>\n",
       "  </tbody>\n",
       "</table>\n",
       "</div>"
      ],
      "text/plain": [
       "               r2                                                        \n",
       "model        enet     lasso       lgb       nn3 random_forest       ridge\n",
       "fs                                                                       \n",
       "IAMB    -0.125386  0.194931  0.091345 -9.683188     -2.015956   -3.200634\n",
       "MMMB     0.145037  0.260719  0.249900 -0.253133     -2.054485   -2.445411\n",
       "all      0.260719  0.260719 -0.021936 -0.320744      0.618477 -610.099022\n",
       "granger  0.260719  0.260719  0.226518  0.051103      0.485445   -4.891654\n",
       "huang    0.216428  0.160888  0.149066 -0.124528      0.239312    0.124308\n",
       "mda      0.260719  0.260719  0.320499  0.309241     -0.003625  -65.984130\n",
       "mdi      0.260719  0.260719  0.262052  0.299551     -0.102545 -110.691437\n",
       "sfi      0.260719  0.260719  0.289977  0.090549     -0.039325 -406.262967"
      ]
     },
     "execution_count": 5,
     "metadata": {},
     "output_type": "execute_result"
    }
   ],
   "source": [
    "r2_df.pivot_table(index=['fs'], columns=['model'], values=['r2']) * 100"
   ]
  },
  {
   "cell_type": "code",
   "execution_count": 6,
   "metadata": {},
   "outputs": [
    {
     "data": {
      "text/plain": [
       "fs\n",
       "IAMB       -14.738888\n",
       "MMMB        -4.097373\n",
       "all       -609.301787\n",
       "granger     -3.607149\n",
       "huang        0.765474\n",
       "mda        -64.836576\n",
       "mdi       -109.710940\n",
       "sfi       -405.400329\n",
       "dtype: float64"
      ]
     },
     "execution_count": 6,
     "metadata": {},
     "output_type": "execute_result"
    }
   ],
   "source": [
    "(r2_df.pivot_table(index=['fs'], columns=['model'], values=['r2']) * 100).sum(axis=1)"
   ]
  },
  {
   "cell_type": "code",
   "execution_count": 7,
   "metadata": {},
   "outputs": [
    {
     "data": {
      "text/plain": [
       "fs\n",
       "IAMB      -3.885968\n",
       "MMMB      -3.319392\n",
       "all       -2.445648\n",
       "granger   -1.712448\n",
       "huang      5.853113\n",
       "mda       -2.398524\n",
       "mdi       -2.423486\n",
       "sfi       -2.443250\n",
       "dtype: float64"
      ]
     },
     "execution_count": 7,
     "metadata": {},
     "output_type": "execute_result"
    }
   ],
   "source": [
    "(r2_df.pivot_table(index=['fs'], columns=['model'], values=['r2']) * 100).sum(axis=1)/(r2_df.pivot_table(index=['fs'], columns=['model'], values=['r2']) * 100).std(axis=1)"
   ]
  },
  {
   "cell_type": "markdown",
   "metadata": {},
   "source": [
    "## OOS portfolio returns"
   ]
  },
  {
   "cell_type": "code",
   "execution_count": 8,
   "metadata": {},
   "outputs": [],
   "source": [
    "model = 'lgb'\n",
    "\n",
    "benchmark_buynhold_df = predictions_df.loc[(predictions_df['model'] == model)&(predictions_df['variable'] == 'return')&(predictions_df['fs'] == 'all')]\n",
    "benchmark_buynhold_df = benchmark_buynhold_df.pivot_table(index=['date'], columns=['variable'], values=['value'])\n",
    "\n",
    "fs_model_pred_df = predictions_df.loc[(predictions_df['model'] == model)&(predictions_df['variable'] != 'return')]\n",
    "fs_model_pred_df = fs_model_pred_df.pivot_table(index=['date'], columns=['model', 'fs'], values=['value'])\n",
    "names = fs_model_pred_df.columns.droplevel()\n",
    "fs_model_ret_df = pd.DataFrame(np.where(fs_model_pred_df > 0, 1, -1) * benchmark_buynhold_df.values)\n",
    "fs_model_ret_df.columns = names\n",
    "fs_model_ret_df.index = benchmark_buynhold_df.index\n",
    "\n",
    "all_ret = pd.concat([fs_model_ret_df, benchmark_buynhold_df], axis=1)"
   ]
  },
  {
   "cell_type": "code",
   "execution_count": 9,
   "metadata": {},
   "outputs": [
    {
     "data": {
      "text/plain": [
       "<AxesSubplot:xlabel='date'>"
      ]
     },
     "execution_count": 9,
     "metadata": {},
     "output_type": "execute_result"
    },
    {
     "data": {
      "image/png": "[encoded data removed]",
      "text/plain": [
       "<Figure size 864x576 with 1 Axes>"
      ]
     },
     "metadata": {
      "needs_background": "light"
     },
     "output_type": "display_data"
    }
   ],
   "source": [
    "(1 + all_ret).cumprod().plot(figsize=(12, 8))"
   ]
  },
  {
   "cell_type": "code",
   "execution_count": 10,
   "metadata": {},
   "outputs": [
    {
     "name": "stderr",
     "output_type": "stream",
     "text": [
      "<ipython-input-10-386e13108ffb>:4: FutureWarning: This dataframe has a column name that matches the 'value_name' column name of the resultiing Dataframe. In the future this will raise an error, please set the 'value_name' parameter of DataFrame.melt to a unique name.\n",
      "  melt_benchmark_buynhold_df = benchmark_buynhold_df.reset_index().melt('date')\n"
     ]
    }
   ],
   "source": [
    "\n",
    "all_ret = pd.concat([fs_model_ret_df, benchmark_buynhold_df], axis=1)\n",
    "benchmark_buynhold_df = predictions_df.loc[(predictions_df['model'] == model)&(predictions_df['variable'] == 'return')&(predictions_df['fs'] == 'all')]\n",
    "benchmark_buynhold_df = benchmark_buynhold_df.pivot_table(index=['date'], columns=['variable'], values=['value'])\n",
    "melt_benchmark_buynhold_df = benchmark_buynhold_df.reset_index().melt('date')\n",
    "melt_benchmark_buynhold_df.rename(columns={melt_benchmark_buynhold_df.columns[1]: 'model',\n",
    "                                           melt_benchmark_buynhold_df.columns[2]: 'fs'}, inplace=True)\n",
    "\n",
    "metrics_df = []\n",
    "positions_df = []\n",
    "for model in PREDICTION_MODEL:\n",
    "    fs_model_pred_df = predictions_df.loc[(predictions_df['model'] == model)&(predictions_df['variable'] != 'return')]\n",
    "    fs_model_pred_df = fs_model_pred_df.pivot_table(index=['date'], columns=['model', 'fs'], values=['value'])\n",
    "    names = fs_model_pred_df.columns.droplevel()\n",
    "    fs_model_ret_df = pd.DataFrame(np.where(fs_model_pred_df > 0, 1, -1) * benchmark_buynhold_df.values)\n",
    "    fs_model_ret_df.columns = names\n",
    "    fs_model_ret_df.index = benchmark_buynhold_df.index\n",
    "    metrics_df.append(fs_model_ret_df.reset_index().melt('date'))\n",
    "\n",
    "    positons_fs_model_df = pd.DataFrame(np.where(fs_model_pred_df > 0, 1, -1))\n",
    "    positons_fs_model_df.columns = names\n",
    "    positons_fs_model_df.index = benchmark_buynhold_df.index\n",
    "    positions_df.append(positons_fs_model_df.reset_index().melt('date'))\n",
    "\n",
    "positions_df = pd.concat(positions_df, axis=0)\n",
    "pivot_positions_df = positions_df.pivot_table(index=['date'], columns=['model', 'fs'], values=['value'])\n",
    "metrics_ex_ret_df = pd.concat(metrics_df, axis=0)\n",
    "metrics_df = pd.concat([metrics_ex_ret_df, melt_benchmark_buynhold_df], axis=0)\n",
    "pivot_metrics_df = metrics_df.pivot_table(index=['date'], columns=['model', 'fs'], values=['value'])"
   ]
  },
  {
   "cell_type": "markdown",
   "metadata": {},
   "source": [
    "## Sharpe ratio"
   ]
  },
  {
   "cell_type": "markdown",
   "metadata": {},
   "source": [
    "### Ranking"
   ]
  },
  {
   "cell_type": "code",
   "execution_count": 11,
   "metadata": {},
   "outputs": [
    {
     "data": {
      "text/plain": [
       "       model          fs     \n",
       "value  random_forest  all        1.023986\n",
       "                      mdi        1.018073\n",
       "       lgb            granger    0.932157\n",
       "       random_forest  IAMB       0.925699\n",
       "       lasso          all        0.913600\n",
       "       lgb            mdi        0.913600\n",
       "                      sfi        0.913600\n",
       "                      all        0.913600\n",
       "       lasso          sfi        0.913600\n",
       "                      mdi        0.913600\n",
       "                      mda        0.913600\n",
       "                      granger    0.913600\n",
       "       value          return     0.913600\n",
       "       lasso          MMMB       0.913600\n",
       "       enet           sfi        0.913600\n",
       "                      mdi        0.913600\n",
       "                      mda        0.913600\n",
       "                      granger    0.913600\n",
       "                      all        0.913600\n",
       "       random_forest  MMMB       0.886952\n",
       "       lgb            mda        0.880327\n",
       "                      MMMB       0.859163\n",
       "       nn3            mda        0.834678\n",
       "       lgb            IAMB       0.815709\n",
       "       lasso          IAMB       0.794736\n",
       "       enet           huang      0.792818\n",
       "       lgb            huang      0.788681\n",
       "       nn3            mdi        0.778677\n",
       "       enet           MMMB       0.764929\n",
       "                      IAMB       0.762091\n",
       "       random_forest  huang      0.746478\n",
       "       ridge          mdi        0.738536\n",
       "       nn3            sfi        0.724314\n",
       "       random_forest  sfi        0.695513\n",
       "                      mda        0.692309\n",
       "                      granger    0.638345\n",
       "       lasso          huang      0.535066\n",
       "       nn3            MMMB       0.491413\n",
       "                      granger    0.476327\n",
       "                      IAMB       0.459428\n",
       "       ridge          huang      0.381632\n",
       "       nn3            all        0.317609\n",
       "       ridge          granger    0.252197\n",
       "                      all        0.227048\n",
       "                      MMMB      -0.064499\n",
       "       nn3            huang     -0.132437\n",
       "       ridge          IAMB      -0.197376\n",
       "                      sfi       -0.375178\n",
       "                      mda       -0.854822\n",
       "dtype: float64"
      ]
     },
     "execution_count": 11,
     "metadata": {},
     "output_type": "execute_result"
    }
   ],
   "source": [
    "((pivot_metrics_df.mean() / pivot_metrics_df.std()) * np.sqrt(252)).sort_values(ascending=False)"
   ]
  },
  {
   "cell_type": "markdown",
   "metadata": {},
   "source": [
    "### Ranking by FS vs ML"
   ]
  },
  {
   "cell_type": "code",
   "execution_count": 12,
   "metadata": {},
   "outputs": [
    {
     "data": {
      "text/html": [
       "<div>\n",
       "<style scoped>\n",
       "    .dataframe tbody tr th:only-of-type {\n",
       "        vertical-align: middle;\n",
       "    }\n",
       "\n",
       "    .dataframe tbody tr th {\n",
       "        vertical-align: top;\n",
       "    }\n",
       "\n",
       "    .dataframe thead tr th {\n",
       "        text-align: left;\n",
       "    }\n",
       "\n",
       "    .dataframe thead tr:last-of-type th {\n",
       "        text-align: right;\n",
       "    }\n",
       "</style>\n",
       "<table border=\"1\" class=\"dataframe\">\n",
       "  <thead>\n",
       "    <tr>\n",
       "      <th></th>\n",
       "      <th colspan=\"7\" halign=\"left\">0</th>\n",
       "    </tr>\n",
       "    <tr>\n",
       "      <th>model</th>\n",
       "      <th>enet</th>\n",
       "      <th>lasso</th>\n",
       "      <th>lgb</th>\n",
       "      <th>nn3</th>\n",
       "      <th>random_forest</th>\n",
       "      <th>ridge</th>\n",
       "      <th>value</th>\n",
       "    </tr>\n",
       "    <tr>\n",
       "      <th>fs</th>\n",
       "      <th></th>\n",
       "      <th></th>\n",
       "      <th></th>\n",
       "      <th></th>\n",
       "      <th></th>\n",
       "      <th></th>\n",
       "      <th></th>\n",
       "    </tr>\n",
       "  </thead>\n",
       "  <tbody>\n",
       "    <tr>\n",
       "      <th>IAMB</th>\n",
       "      <td>0.762091</td>\n",
       "      <td>0.794736</td>\n",
       "      <td>0.815709</td>\n",
       "      <td>0.459428</td>\n",
       "      <td>0.925699</td>\n",
       "      <td>-0.197376</td>\n",
       "      <td>NaN</td>\n",
       "    </tr>\n",
       "    <tr>\n",
       "      <th>MMMB</th>\n",
       "      <td>0.764929</td>\n",
       "      <td>0.913600</td>\n",
       "      <td>0.859163</td>\n",
       "      <td>0.491413</td>\n",
       "      <td>0.886952</td>\n",
       "      <td>-0.064499</td>\n",
       "      <td>NaN</td>\n",
       "    </tr>\n",
       "    <tr>\n",
       "      <th>all</th>\n",
       "      <td>0.913600</td>\n",
       "      <td>0.913600</td>\n",
       "      <td>0.913600</td>\n",
       "      <td>0.317609</td>\n",
       "      <td>1.023986</td>\n",
       "      <td>0.227048</td>\n",
       "      <td>NaN</td>\n",
       "    </tr>\n",
       "    <tr>\n",
       "      <th>granger</th>\n",
       "      <td>0.913600</td>\n",
       "      <td>0.913600</td>\n",
       "      <td>0.932157</td>\n",
       "      <td>0.476327</td>\n",
       "      <td>0.638345</td>\n",
       "      <td>0.252197</td>\n",
       "      <td>NaN</td>\n",
       "    </tr>\n",
       "    <tr>\n",
       "      <th>huang</th>\n",
       "      <td>0.792818</td>\n",
       "      <td>0.535066</td>\n",
       "      <td>0.788681</td>\n",
       "      <td>-0.132437</td>\n",
       "      <td>0.746478</td>\n",
       "      <td>0.381632</td>\n",
       "      <td>NaN</td>\n",
       "    </tr>\n",
       "    <tr>\n",
       "      <th>mda</th>\n",
       "      <td>0.913600</td>\n",
       "      <td>0.913600</td>\n",
       "      <td>0.880327</td>\n",
       "      <td>0.834678</td>\n",
       "      <td>0.692309</td>\n",
       "      <td>-0.854822</td>\n",
       "      <td>NaN</td>\n",
       "    </tr>\n",
       "    <tr>\n",
       "      <th>mdi</th>\n",
       "      <td>0.913600</td>\n",
       "      <td>0.913600</td>\n",
       "      <td>0.913600</td>\n",
       "      <td>0.778677</td>\n",
       "      <td>1.018073</td>\n",
       "      <td>0.738536</td>\n",
       "      <td>NaN</td>\n",
       "    </tr>\n",
       "    <tr>\n",
       "      <th>return</th>\n",
       "      <td>NaN</td>\n",
       "      <td>NaN</td>\n",
       "      <td>NaN</td>\n",
       "      <td>NaN</td>\n",
       "      <td>NaN</td>\n",
       "      <td>NaN</td>\n",
       "      <td>0.9136</td>\n",
       "    </tr>\n",
       "    <tr>\n",
       "      <th>sfi</th>\n",
       "      <td>0.913600</td>\n",
       "      <td>0.913600</td>\n",
       "      <td>0.913600</td>\n",
       "      <td>0.724314</td>\n",
       "      <td>0.695513</td>\n",
       "      <td>-0.375178</td>\n",
       "      <td>NaN</td>\n",
       "    </tr>\n",
       "  </tbody>\n",
       "</table>\n",
       "</div>"
      ],
      "text/plain": [
       "                0                                                        \\\n",
       "model        enet     lasso       lgb       nn3 random_forest     ridge   \n",
       "fs                                                                        \n",
       "IAMB     0.762091  0.794736  0.815709  0.459428      0.925699 -0.197376   \n",
       "MMMB     0.764929  0.913600  0.859163  0.491413      0.886952 -0.064499   \n",
       "all      0.913600  0.913600  0.913600  0.317609      1.023986  0.227048   \n",
       "granger  0.913600  0.913600  0.932157  0.476327      0.638345  0.252197   \n",
       "huang    0.792818  0.535066  0.788681 -0.132437      0.746478  0.381632   \n",
       "mda      0.913600  0.913600  0.880327  0.834678      0.692309 -0.854822   \n",
       "mdi      0.913600  0.913600  0.913600  0.778677      1.018073  0.738536   \n",
       "return        NaN       NaN       NaN       NaN           NaN       NaN   \n",
       "sfi      0.913600  0.913600  0.913600  0.724314      0.695513 -0.375178   \n",
       "\n",
       "                 \n",
       "model     value  \n",
       "fs               \n",
       "IAMB        NaN  \n",
       "MMMB        NaN  \n",
       "all         NaN  \n",
       "granger     NaN  \n",
       "huang       NaN  \n",
       "mda         NaN  \n",
       "mdi         NaN  \n",
       "return   0.9136  \n",
       "sfi         NaN  "
      ]
     },
     "execution_count": 12,
     "metadata": {},
     "output_type": "execute_result"
    }
   ],
   "source": [
    "((pivot_metrics_df.mean() / pivot_metrics_df.std()) * np.sqrt(252)).reset_index().pivot_table(index=['fs'], columns=['model'], values=[0])"
   ]
  },
  {
   "cell_type": "markdown",
   "metadata": {},
   "source": [
    "### Mean SR per FS method"
   ]
  },
  {
   "cell_type": "code",
   "execution_count": 13,
   "metadata": {},
   "outputs": [
    {
     "data": {
      "text/plain": [
       "fs\n",
       "return     0.913600\n",
       "mdi        0.879348\n",
       "all        0.718241\n",
       "granger    0.687704\n",
       "MMMB       0.641926\n",
       "sfi        0.630908\n",
       "IAMB       0.593381\n",
       "mda        0.563282\n",
       "huang      0.518706\n",
       "dtype: float64"
      ]
     },
     "execution_count": 13,
     "metadata": {},
     "output_type": "execute_result"
    }
   ],
   "source": [
    "((pivot_metrics_df.mean() / pivot_metrics_df.std()) * np.sqrt(252)).reset_index().pivot_table(index=['fs'], columns=['model'], values=[0]).mean(axis=1).sort_values(ascending=False)"
   ]
  },
  {
   "cell_type": "markdown",
   "metadata": {},
   "source": [
    "### Mean SR controlling by the std per FS method"
   ]
  },
  {
   "cell_type": "code",
   "execution_count": 14,
   "metadata": {},
   "outputs": [
    {
     "data": {
      "text/plain": [
       "fs\n",
       "mdi        8.563082\n",
       "granger    2.435673\n",
       "all        2.056736\n",
       "MMMB       1.694148\n",
       "huang      1.446502\n",
       "IAMB       1.420800\n",
       "sfi        1.254386\n",
       "mda        0.805135\n",
       "return          NaN\n",
       "dtype: float64"
      ]
     },
     "execution_count": 14,
     "metadata": {},
     "output_type": "execute_result"
    }
   ],
   "source": [
    "(((pivot_metrics_df.mean() / pivot_metrics_df.std()) * np.sqrt(252)).reset_index().pivot_table(index=['fs'], columns=['model'], values=[0]).mean(axis=1) / ((pivot_metrics_df.mean() / pivot_metrics_df.std()) * np.sqrt(252)).reset_index().pivot_table(index=['fs'], columns=['model'], values=[0]).std(axis=1)).sort_values(ascending=False)"
   ]
  },
  {
   "cell_type": "markdown",
   "metadata": {},
   "source": [
    "## Hit rate"
   ]
  },
  {
   "cell_type": "markdown",
   "metadata": {},
   "source": [
    "### Ranking"
   ]
  },
  {
   "cell_type": "code",
   "execution_count": 15,
   "metadata": {},
   "outputs": [
    {
     "data": {
      "text/plain": [
       "       model          fs     \n",
       "value  random_forest  mdi        0.557737\n",
       "       lgb            sfi        0.556802\n",
       "                      all        0.556802\n",
       "       lasso          sfi        0.556802\n",
       "                      mdi        0.556802\n",
       "                      mda        0.556802\n",
       "                      granger    0.556802\n",
       "       lgb            mdi        0.556802\n",
       "       lasso          MMMB       0.556802\n",
       "                      all        0.556802\n",
       "       enet           sfi        0.556802\n",
       "                      mdi        0.556802\n",
       "                      mda        0.556802\n",
       "                      granger    0.556802\n",
       "                      all        0.556802\n",
       "       random_forest  huang      0.556335\n",
       "       nn3            mda        0.555400\n",
       "       lgb            granger    0.555400\n",
       "                      MMMB       0.554932\n",
       "       lasso          IAMB       0.553997\n",
       "       nn3            mdi        0.553997\n",
       "       enet           MMMB       0.553530\n",
       "       lgb            huang      0.551660\n",
       "                      IAMB       0.550725\n",
       "                      mda        0.550725\n",
       "       enet           IAMB       0.550725\n",
       "       random_forest  mda        0.550257\n",
       "       enet           huang      0.549790\n",
       "       random_forest  all        0.548387\n",
       "                      sfi        0.547920\n",
       "       nn3            sfi        0.547452\n",
       "       random_forest  MMMB       0.546050\n",
       "                      IAMB       0.545115\n",
       "       lasso          huang      0.541842\n",
       "       random_forest  granger    0.540907\n",
       "       nn3            granger    0.540907\n",
       "                      MMMB       0.534829\n",
       "                      IAMB       0.534829\n",
       "       ridge          huang      0.531089\n",
       "       nn3            all        0.524544\n",
       "       ridge          all        0.513324\n",
       "                      mdi        0.511454\n",
       "                      granger    0.504441\n",
       "                      IAMB       0.502571\n",
       "                      MMMB       0.501169\n",
       "       nn3            huang      0.499766\n",
       "       ridge          sfi        0.499766\n",
       "                      mda        0.475923\n",
       "dtype: float64"
      ]
     },
     "execution_count": 15,
     "metadata": {},
     "output_type": "execute_result"
    }
   ],
   "source": [
    "discrete_returns = np.where(benchmark_buynhold_df > 0, 1, 0)\n",
    "discrete_positions = np.where(pivot_positions_df > 0, 1, 0)\n",
    "mult = pd.DataFrame(discrete_returns * discrete_positions)\n",
    "mult.columns = pivot_positions_df.columns\n",
    "buys_hit_rate_per_asset = mult.sum(axis=0)\n",
    "\n",
    "discrete_returns = np.where(benchmark_buynhold_df <= 0, 1, 0)\n",
    "discrete_positions = np.where(pivot_positions_df <= 0, 1, 0)\n",
    "mult = pd.DataFrame(discrete_returns * discrete_positions)\n",
    "mult.columns = pivot_positions_df.columns\n",
    "sells_hit_rate_per_asset = mult.sum(axis=0)\n",
    "\n",
    "hit_rate_per_asset = (buys_hit_rate_per_asset + sells_hit_rate_per_asset) / pivot_positions_df.notnull().count(axis=0)\n",
    "hit_rate_per_asset.sort_values(ascending=False)"
   ]
  },
  {
   "cell_type": "markdown",
   "metadata": {},
   "source": [
    "### Ranking by FS vs ML"
   ]
  },
  {
   "cell_type": "code",
   "execution_count": 16,
   "metadata": {},
   "outputs": [
    {
     "data": {
      "text/html": [
       "<div>\n",
       "<style scoped>\n",
       "    .dataframe tbody tr th:only-of-type {\n",
       "        vertical-align: middle;\n",
       "    }\n",
       "\n",
       "    .dataframe tbody tr th {\n",
       "        vertical-align: top;\n",
       "    }\n",
       "\n",
       "    .dataframe thead tr th {\n",
       "        text-align: left;\n",
       "    }\n",
       "\n",
       "    .dataframe thead tr:last-of-type th {\n",
       "        text-align: right;\n",
       "    }\n",
       "</style>\n",
       "<table border=\"1\" class=\"dataframe\">\n",
       "  <thead>\n",
       "    <tr>\n",
       "      <th></th>\n",
       "      <th colspan=\"6\" halign=\"left\">0</th>\n",
       "    </tr>\n",
       "    <tr>\n",
       "      <th>model</th>\n",
       "      <th>enet</th>\n",
       "      <th>lasso</th>\n",
       "      <th>lgb</th>\n",
       "      <th>nn3</th>\n",
       "      <th>random_forest</th>\n",
       "      <th>ridge</th>\n",
       "    </tr>\n",
       "    <tr>\n",
       "      <th>fs</th>\n",
       "      <th></th>\n",
       "      <th></th>\n",
       "      <th></th>\n",
       "      <th></th>\n",
       "      <th></th>\n",
       "      <th></th>\n",
       "    </tr>\n",
       "  </thead>\n",
       "  <tbody>\n",
       "    <tr>\n",
       "      <th>IAMB</th>\n",
       "      <td>0.550725</td>\n",
       "      <td>0.553997</td>\n",
       "      <td>0.550725</td>\n",
       "      <td>0.534829</td>\n",
       "      <td>0.545115</td>\n",
       "      <td>0.502571</td>\n",
       "    </tr>\n",
       "    <tr>\n",
       "      <th>MMMB</th>\n",
       "      <td>0.553530</td>\n",
       "      <td>0.556802</td>\n",
       "      <td>0.554932</td>\n",
       "      <td>0.534829</td>\n",
       "      <td>0.546050</td>\n",
       "      <td>0.501169</td>\n",
       "    </tr>\n",
       "    <tr>\n",
       "      <th>all</th>\n",
       "      <td>0.556802</td>\n",
       "      <td>0.556802</td>\n",
       "      <td>0.556802</td>\n",
       "      <td>0.524544</td>\n",
       "      <td>0.548387</td>\n",
       "      <td>0.513324</td>\n",
       "    </tr>\n",
       "    <tr>\n",
       "      <th>granger</th>\n",
       "      <td>0.556802</td>\n",
       "      <td>0.556802</td>\n",
       "      <td>0.555400</td>\n",
       "      <td>0.540907</td>\n",
       "      <td>0.540907</td>\n",
       "      <td>0.504441</td>\n",
       "    </tr>\n",
       "    <tr>\n",
       "      <th>huang</th>\n",
       "      <td>0.549790</td>\n",
       "      <td>0.541842</td>\n",
       "      <td>0.551660</td>\n",
       "      <td>0.499766</td>\n",
       "      <td>0.556335</td>\n",
       "      <td>0.531089</td>\n",
       "    </tr>\n",
       "    <tr>\n",
       "      <th>mda</th>\n",
       "      <td>0.556802</td>\n",
       "      <td>0.556802</td>\n",
       "      <td>0.550725</td>\n",
       "      <td>0.555400</td>\n",
       "      <td>0.550257</td>\n",
       "      <td>0.475923</td>\n",
       "    </tr>\n",
       "    <tr>\n",
       "      <th>mdi</th>\n",
       "      <td>0.556802</td>\n",
       "      <td>0.556802</td>\n",
       "      <td>0.556802</td>\n",
       "      <td>0.553997</td>\n",
       "      <td>0.557737</td>\n",
       "      <td>0.511454</td>\n",
       "    </tr>\n",
       "    <tr>\n",
       "      <th>sfi</th>\n",
       "      <td>0.556802</td>\n",
       "      <td>0.556802</td>\n",
       "      <td>0.556802</td>\n",
       "      <td>0.547452</td>\n",
       "      <td>0.547920</td>\n",
       "      <td>0.499766</td>\n",
       "    </tr>\n",
       "  </tbody>\n",
       "</table>\n",
       "</div>"
      ],
      "text/plain": [
       "                0                                                      \n",
       "model        enet     lasso       lgb       nn3 random_forest     ridge\n",
       "fs                                                                     \n",
       "IAMB     0.550725  0.553997  0.550725  0.534829      0.545115  0.502571\n",
       "MMMB     0.553530  0.556802  0.554932  0.534829      0.546050  0.501169\n",
       "all      0.556802  0.556802  0.556802  0.524544      0.548387  0.513324\n",
       "granger  0.556802  0.556802  0.555400  0.540907      0.540907  0.504441\n",
       "huang    0.549790  0.541842  0.551660  0.499766      0.556335  0.531089\n",
       "mda      0.556802  0.556802  0.550725  0.555400      0.550257  0.475923\n",
       "mdi      0.556802  0.556802  0.556802  0.553997      0.557737  0.511454\n",
       "sfi      0.556802  0.556802  0.556802  0.547452      0.547920  0.499766"
      ]
     },
     "execution_count": 16,
     "metadata": {},
     "output_type": "execute_result"
    }
   ],
   "source": [
    "hit_rate_per_asset.reset_index().pivot_table(index=['fs'], columns=['model'], values=[0])"
   ]
  },
  {
   "cell_type": "markdown",
   "metadata": {},
   "source": [
    "### Mean Hit rate per FS method"
   ]
  },
  {
   "cell_type": "code",
   "execution_count": 17,
   "metadata": {},
   "outputs": [
    {
     "data": {
      "text/plain": [
       "fs\n",
       "mdi        0.548933\n",
       "sfi        0.544257\n",
       "all        0.542777\n",
       "granger    0.542543\n",
       "MMMB       0.541219\n",
       "mda        0.540985\n",
       "IAMB       0.539660\n",
       "huang      0.538414\n",
       "dtype: float64"
      ]
     },
     "execution_count": 17,
     "metadata": {},
     "output_type": "execute_result"
    }
   ],
   "source": [
    "hit_rate_per_asset.reset_index().pivot_table(index=['fs'], columns=['model'], values=[0]).mean(axis=1).sort_values(ascending=False)"
   ]
  },
  {
   "cell_type": "markdown",
   "metadata": {},
   "source": [
    " ### Mean Hit rate controlling by the std per FS method"
   ]
  },
  {
   "cell_type": "code",
   "execution_count": 18,
   "metadata": {},
   "outputs": [
    {
     "data": {
      "text/plain": [
       "fs\n",
       "mdi        29.826108\n",
       "all        28.437438\n",
       "IAMB       27.837764\n",
       "granger    26.932352\n",
       "huang      25.755484\n",
       "MMMB       25.509747\n",
       "sfi        24.461566\n",
       "mda        16.902463\n",
       "dtype: float64"
      ]
     },
     "execution_count": 18,
     "metadata": {},
     "output_type": "execute_result"
    }
   ],
   "source": [
    "(hit_rate_per_asset.reset_index().pivot_table(index=['fs'], columns=['model'], values=[0]).mean(axis=1) / hit_rate_per_asset.reset_index().pivot_table(index=['fs'], columns=['model'], values=[0]).std(axis=1)).sort_values(ascending=False)"
   ]
  },
  {
   "cell_type": "markdown",
   "metadata": {},
   "source": [
    "## Maximum drawdown"
   ]
  },
  {
   "cell_type": "markdown",
   "metadata": {},
   "source": [
    "### Rank"
   ]
  },
  {
   "cell_type": "code",
   "execution_count": 19,
   "metadata": {},
   "outputs": [
    {
     "data": {
      "text/plain": [
       "       model          fs     \n",
       "value  random_forest  all       -0.214737\n",
       "       nn3            sfi       -0.219324\n",
       "       random_forest  IAMB      -0.253855\n",
       "                      granger   -0.260240\n",
       "                      MMMB      -0.271659\n",
       "       nn3            mdi       -0.278116\n",
       "       random_forest  sfi       -0.294094\n",
       "                      mdi       -0.321627\n",
       "       ridge          mdi       -0.324908\n",
       "       lgb            huang     -0.337904\n",
       "       enet           MMMB      -0.337904\n",
       "       lasso          IAMB      -0.337904\n",
       "       nn3            MMMB      -0.337904\n",
       "       lgb            IAMB      -0.337904\n",
       "       enet           huang     -0.337904\n",
       "       nn3            mda       -0.337904\n",
       "       random_forest  huang     -0.337904\n",
       "       lgb            sfi       -0.337904\n",
       "                      MMMB      -0.337904\n",
       "       lasso          sfi       -0.337904\n",
       "       lgb            all       -0.337904\n",
       "       lasso          mdi       -0.337904\n",
       "                      mda       -0.337904\n",
       "       lgb            mdi       -0.337904\n",
       "       value          return    -0.337904\n",
       "       lasso          all       -0.337904\n",
       "                      MMMB      -0.337904\n",
       "                      granger   -0.337904\n",
       "       enet           sfi       -0.337904\n",
       "                      mdi       -0.337904\n",
       "                      mda       -0.337904\n",
       "                      granger   -0.337904\n",
       "                      all       -0.337904\n",
       "       lasso          huang     -0.337904\n",
       "       lgb            mda       -0.337904\n",
       "       nn3            granger   -0.337904\n",
       "       lgb            granger   -0.337904\n",
       "       enet           IAMB      -0.337904\n",
       "       random_forest  mda       -0.350534\n",
       "       nn3            all       -0.388233\n",
       "       ridge          all       -0.391322\n",
       "                      MMMB      -0.400009\n",
       "                      huang     -0.428313\n",
       "                      granger   -0.435665\n",
       "       nn3            IAMB      -0.443924\n",
       "                      huang     -0.443924\n",
       "       ridge          IAMB      -0.467250\n",
       "                      sfi       -0.690154\n",
       "                      mda       -0.755698\n",
       "dtype: float64"
      ]
     },
     "execution_count": 19,
     "metadata": {},
     "output_type": "execute_result"
    }
   ],
   "source": [
    "cum_prod_df = (1 + pivot_metrics_df).cumprod()\n",
    "previous_peaks_df =  cum_prod_df.cummax()\n",
    "drawdown_df = (cum_prod_df - previous_peaks_df)/previous_peaks_df\n",
    "drawdown_df.min().sort_values(ascending=False)"
   ]
  },
  {
   "cell_type": "markdown",
   "metadata": {},
   "source": [
    "### Rank by FS vs ML"
   ]
  },
  {
   "cell_type": "code",
   "execution_count": 20,
   "metadata": {},
   "outputs": [
    {
     "data": {
      "text/html": [
       "<div>\n",
       "<style scoped>\n",
       "    .dataframe tbody tr th:only-of-type {\n",
       "        vertical-align: middle;\n",
       "    }\n",
       "\n",
       "    .dataframe tbody tr th {\n",
       "        vertical-align: top;\n",
       "    }\n",
       "\n",
       "    .dataframe thead tr th {\n",
       "        text-align: left;\n",
       "    }\n",
       "\n",
       "    .dataframe thead tr:last-of-type th {\n",
       "        text-align: right;\n",
       "    }\n",
       "</style>\n",
       "<table border=\"1\" class=\"dataframe\">\n",
       "  <thead>\n",
       "    <tr>\n",
       "      <th></th>\n",
       "      <th colspan=\"7\" halign=\"left\">0</th>\n",
       "    </tr>\n",
       "    <tr>\n",
       "      <th>model</th>\n",
       "      <th>enet</th>\n",
       "      <th>lasso</th>\n",
       "      <th>lgb</th>\n",
       "      <th>nn3</th>\n",
       "      <th>random_forest</th>\n",
       "      <th>ridge</th>\n",
       "      <th>value</th>\n",
       "    </tr>\n",
       "    <tr>\n",
       "      <th>fs</th>\n",
       "      <th></th>\n",
       "      <th></th>\n",
       "      <th></th>\n",
       "      <th></th>\n",
       "      <th></th>\n",
       "      <th></th>\n",
       "      <th></th>\n",
       "    </tr>\n",
       "  </thead>\n",
       "  <tbody>\n",
       "    <tr>\n",
       "      <th>IAMB</th>\n",
       "      <td>-0.337904</td>\n",
       "      <td>-0.337904</td>\n",
       "      <td>-0.337904</td>\n",
       "      <td>-0.443924</td>\n",
       "      <td>-0.253855</td>\n",
       "      <td>-0.467250</td>\n",
       "      <td>NaN</td>\n",
       "    </tr>\n",
       "    <tr>\n",
       "      <th>MMMB</th>\n",
       "      <td>-0.337904</td>\n",
       "      <td>-0.337904</td>\n",
       "      <td>-0.337904</td>\n",
       "      <td>-0.337904</td>\n",
       "      <td>-0.271659</td>\n",
       "      <td>-0.400009</td>\n",
       "      <td>NaN</td>\n",
       "    </tr>\n",
       "    <tr>\n",
       "      <th>all</th>\n",
       "      <td>-0.337904</td>\n",
       "      <td>-0.337904</td>\n",
       "      <td>-0.337904</td>\n",
       "      <td>-0.388233</td>\n",
       "      <td>-0.214737</td>\n",
       "      <td>-0.391322</td>\n",
       "      <td>NaN</td>\n",
       "    </tr>\n",
       "    <tr>\n",
       "      <th>granger</th>\n",
       "      <td>-0.337904</td>\n",
       "      <td>-0.337904</td>\n",
       "      <td>-0.337904</td>\n",
       "      <td>-0.337904</td>\n",
       "      <td>-0.260240</td>\n",
       "      <td>-0.435665</td>\n",
       "      <td>NaN</td>\n",
       "    </tr>\n",
       "    <tr>\n",
       "      <th>huang</th>\n",
       "      <td>-0.337904</td>\n",
       "      <td>-0.337904</td>\n",
       "      <td>-0.337904</td>\n",
       "      <td>-0.443924</td>\n",
       "      <td>-0.337904</td>\n",
       "      <td>-0.428313</td>\n",
       "      <td>NaN</td>\n",
       "    </tr>\n",
       "    <tr>\n",
       "      <th>mda</th>\n",
       "      <td>-0.337904</td>\n",
       "      <td>-0.337904</td>\n",
       "      <td>-0.337904</td>\n",
       "      <td>-0.337904</td>\n",
       "      <td>-0.350534</td>\n",
       "      <td>-0.755698</td>\n",
       "      <td>NaN</td>\n",
       "    </tr>\n",
       "    <tr>\n",
       "      <th>mdi</th>\n",
       "      <td>-0.337904</td>\n",
       "      <td>-0.337904</td>\n",
       "      <td>-0.337904</td>\n",
       "      <td>-0.278116</td>\n",
       "      <td>-0.321627</td>\n",
       "      <td>-0.324908</td>\n",
       "      <td>NaN</td>\n",
       "    </tr>\n",
       "    <tr>\n",
       "      <th>return</th>\n",
       "      <td>NaN</td>\n",
       "      <td>NaN</td>\n",
       "      <td>NaN</td>\n",
       "      <td>NaN</td>\n",
       "      <td>NaN</td>\n",
       "      <td>NaN</td>\n",
       "      <td>-0.337904</td>\n",
       "    </tr>\n",
       "    <tr>\n",
       "      <th>sfi</th>\n",
       "      <td>-0.337904</td>\n",
       "      <td>-0.337904</td>\n",
       "      <td>-0.337904</td>\n",
       "      <td>-0.219324</td>\n",
       "      <td>-0.294094</td>\n",
       "      <td>-0.690154</td>\n",
       "      <td>NaN</td>\n",
       "    </tr>\n",
       "  </tbody>\n",
       "</table>\n",
       "</div>"
      ],
      "text/plain": [
       "                0                                                        \\\n",
       "model        enet     lasso       lgb       nn3 random_forest     ridge   \n",
       "fs                                                                        \n",
       "IAMB    -0.337904 -0.337904 -0.337904 -0.443924     -0.253855 -0.467250   \n",
       "MMMB    -0.337904 -0.337904 -0.337904 -0.337904     -0.271659 -0.400009   \n",
       "all     -0.337904 -0.337904 -0.337904 -0.388233     -0.214737 -0.391322   \n",
       "granger -0.337904 -0.337904 -0.337904 -0.337904     -0.260240 -0.435665   \n",
       "huang   -0.337904 -0.337904 -0.337904 -0.443924     -0.337904 -0.428313   \n",
       "mda     -0.337904 -0.337904 -0.337904 -0.337904     -0.350534 -0.755698   \n",
       "mdi     -0.337904 -0.337904 -0.337904 -0.278116     -0.321627 -0.324908   \n",
       "return        NaN       NaN       NaN       NaN           NaN       NaN   \n",
       "sfi     -0.337904 -0.337904 -0.337904 -0.219324     -0.294094 -0.690154   \n",
       "\n",
       "                   \n",
       "model       value  \n",
       "fs                 \n",
       "IAMB          NaN  \n",
       "MMMB          NaN  \n",
       "all           NaN  \n",
       "granger       NaN  \n",
       "huang         NaN  \n",
       "mda           NaN  \n",
       "mdi           NaN  \n",
       "return  -0.337904  \n",
       "sfi           NaN  "
      ]
     },
     "execution_count": 20,
     "metadata": {},
     "output_type": "execute_result"
    }
   ],
   "source": [
    "drawdown_df.min().reset_index().pivot_table(index=['fs'], columns=['model'], values=[0])"
   ]
  },
  {
   "cell_type": "markdown",
   "metadata": {},
   "source": [
    "### Mean Max drawdown per FS method"
   ]
  },
  {
   "cell_type": "code",
   "execution_count": 21,
   "metadata": {},
   "outputs": [
    {
     "data": {
      "text/plain": [
       "fs\n",
       "mdi       -0.323060\n",
       "all       -0.334667\n",
       "MMMB      -0.337214\n",
       "return    -0.337904\n",
       "granger   -0.341253\n",
       "IAMB      -0.363123\n",
       "sfi       -0.369547\n",
       "huang     -0.370642\n",
       "mda       -0.409641\n",
       "dtype: float64"
      ]
     },
     "execution_count": 21,
     "metadata": {},
     "output_type": "execute_result"
    }
   ],
   "source": [
    "drawdown_df.min().reset_index().pivot_table(index=['fs'], columns=['model'], values=[0]).mean(axis=1).sort_values(ascending=False)"
   ]
  },
  {
   "cell_type": "markdown",
   "metadata": {},
   "source": [
    "### Mean Max drawdown controlling by the std per FS method"
   ]
  },
  {
   "cell_type": "code",
   "execution_count": 22,
   "metadata": {},
   "outputs": [
    {
     "data": {
      "text/plain": [
       "fs\n",
       "sfi        -2.256926\n",
       "mda        -2.415228\n",
       "IAMB       -4.595480\n",
       "all        -5.227423\n",
       "granger    -6.124805\n",
       "huang      -7.273538\n",
       "MMMB       -8.305316\n",
       "mdi       -13.937210\n",
       "return           NaN\n",
       "dtype: float64"
      ]
     },
     "execution_count": 22,
     "metadata": {},
     "output_type": "execute_result"
    }
   ],
   "source": [
    "(drawdown_df.min().reset_index().pivot_table(index=['fs'], columns=['model'], values=[0]).mean(axis=1) / drawdown_df.min().reset_index().pivot_table(index=['fs'], columns=['model'], values=[0]).std(axis=1)).sort_values(ascending=False)"
   ]
  },
  {
   "cell_type": "markdown",
   "metadata": {},
   "source": [
    "## Probability of Backtest Overfitting (PBO) Bailey et al. (2013)"
   ]
  },
  {
   "cell_type": "code",
   "execution_count": null,
   "metadata": {},
   "outputs": [],
   "source": []
  }
 ],
 "metadata": {
  "kernelspec": {
   "display_name": "Python 3",
   "language": "python",
   "name": "python3"
  },
  "language_info": {
   "codemirror_mode": {
    "name": "ipython",
    "version": 3
   },
   "file_extension": ".py",
   "mimetype": "text/x-python",
   "name": "python",
   "nbconvert_exporter": "python",
   "pygments_lexer": "ipython3",
   "version": "3.8.5"
  }
 },
 "nbformat": 4,
 "nbformat_minor": 4
}
