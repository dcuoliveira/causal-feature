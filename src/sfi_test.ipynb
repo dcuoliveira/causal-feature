{
 "cells": [
  {
   "cell_type": "markdown",
   "metadata": {},
   "source": [
    "# Single Feature Importance Test"
   ]
  },
  {
   "cell_type": "code",
   "execution_count": 1,
   "metadata": {},
   "outputs": [],
   "source": [
    "import os\n",
    "import numpy as np\n",
    "import pandas as pd\n",
    "from tqdm import tqdm\n",
    "from glob import glob\n",
    "from time import time\n",
    "from multiprocessing import Pool\n",
    "from word_list.analysis import words\n",
    "from feature_selection.sfi import get_sfi_scores\n",
    "import statsmodels.formula.api as smf\n",
    "from sklearn.model_selection import TimeSeriesSplit"
   ]
  },
  {
   "cell_type": "code",
   "execution_count": 2,
   "metadata": {},
   "outputs": [],
   "source": [
    "def merge_market_gtrends(market, gtrends):\n",
    "    merged = pd.merge_asof(market, gtrends, left_index=True, right_index=True)\n",
    "    return merged.dropna()\n",
    "\n",
    "def read_and_merge(path, init_train=\"2000\", final_train=\"2010\"):\n",
    "    # ## Loading trends\n",
    "    gtrends = pd.read_csv(\"data/gtrends.csv\")\n",
    "    gtrends.loc[:, \"date\"] = pd.to_datetime(gtrends.date)\n",
    "    gtrends = gtrends.set_index(\"date\")\n",
    "\n",
    "    # ## Loading and preprossesing market data\n",
    "\n",
    "    name = path.split(\"/\")[-1].split(\".\")[0]\n",
    "    target_name = name.replace(\" \", \"_\") + \"_return\"\n",
    "    market = pd.read_csv(path)\n",
    "    market = market.drop([0, 1], 0)\n",
    "    market = market.rename(columns={\"ticker\": \"date\",\n",
    "                                    name: target_name})\n",
    "    market.loc[:, \"date\"] = pd.to_datetime(market.date)\n",
    "    market.loc[:, target_name] = market[target_name].astype(\"float\") / 100\n",
    "    market = market.set_index(\"date\")\n",
    "\n",
    "    # using only the training sample\n",
    "    market = market[init_train:final_train]\n",
    "\n",
    "    return merge_market_gtrends(market, gtrends), target_name"
   ]
  },
  {
   "cell_type": "markdown",
   "metadata": {},
   "source": [
    "## 1 version"
   ]
  },
  {
   "cell_type": "code",
   "execution_count": 4,
   "metadata": {},
   "outputs": [
    {
     "name": "stderr",
     "output_type": "stream",
     "text": [
      "add shift: 100%|██████████| 182/182 [01:37<00:00,  1.86it/s]\n",
      "cv r2: 100%|██████████| 182/182 [03:40<00:00,  1.21s/it]\n",
      "add shift: 100%|██████████| 182/182 [01:25<00:00,  2.13it/s]\n",
      "cv r2: 100%|██████████| 182/182 [03:41<00:00,  1.22s/it]"
     ]
    },
    {
     "name": "stdout",
     "output_type": "stream",
     "text": [
      "total time = 10.426 (minutes)\n"
     ]
    },
    {
     "name": "stderr",
     "output_type": "stream",
     "text": [
      "\n"
     ]
    }
   ],
   "source": [
    "path1 = \"data/crsp/nyse/CYN US Equity.csv\"\n",
    "path2 = \"data/crsp/nyse/C US Equity.csv\"\n",
    "# path3 = \"data/crsp/nyse/CA US Equity.csv\"\n",
    "# path4 = \"data/crsp/nyse/DRE US Equity.csv\"\n",
    "# paths = [path1, path2, path3, path4]\n",
    "paths = [path1, path2]\n",
    "\n",
    "init = time()\n",
    "for p in paths:\n",
    "\n",
    "    merged, target_name = read_and_merge(p)\n",
    "\n",
    "    result = get_sfi_scores(merged_df=merged,\n",
    "                            target_name=target_name,\n",
    "                            words=words,\n",
    "                            max_lag=30,\n",
    "                            verbose=True,\n",
    "                            n_splits=5)\n",
    "\n",
    "tot_time = time() - init\n",
    "tot_time = tot_time / 60\n",
    "print(\"total time = {:.3f} (minutes)\".format(tot_time))"
   ]
  },
  {
   "cell_type": "markdown",
   "metadata": {},
   "source": [
    "## Parallel"
   ]
  },
  {
   "cell_type": "code",
   "execution_count": 6,
   "metadata": {},
   "outputs": [],
   "source": [
    "def sfi_vec(paths):\n",
    "    m_ts = [read_and_merge(p) for p in paths]\n",
    "    results = []\n",
    "    for m,t in m_ts:\n",
    "        result = get_sfi_scores(merged_df=m,\n",
    "                            target_name=t,\n",
    "                            words=words,\n",
    "                            max_lag=30,\n",
    "                            verbose=False,\n",
    "                            n_splits=5)\n",
    "\n",
    "        name = t.replace(\"_return\", \"\")\n",
    "        name = name.replace(\"_\", \" \")\n",
    "        out_path = os.path.join(\"results\",name + \".csv\")\n",
    "        result.to_csv(out_path, index=False)\n",
    "        \n",
    "def sfi_par(paths, n_cores):\n",
    "    \"\"\"\n",
    "    parallelized version of the sfi function\n",
    "    \"\"\"\n",
    "    path_split = np.array_split(paths, n_cores)\n",
    "    pool = Pool(n_cores)\n",
    "    result = pool.map(sfi_vec, path_split)\n",
    "    pool.close()\n",
    "    pool.join()\n",
    "    return result"
   ]
  },
  {
   "cell_type": "markdown",
   "metadata": {},
   "source": [
    "## 2 version"
   ]
  },
  {
   "cell_type": "code",
   "execution_count": 7,
   "metadata": {},
   "outputs": [
    {
     "name": "stdout",
     "output_type": "stream",
     "text": [
      "total time = 6.479 (minutes)\n"
     ]
    }
   ],
   "source": [
    "init = time()\n",
    "sfi_par(paths, n_cores=2)\n",
    "tot_time = time() - init\n",
    "tot_time = tot_time / 60\n",
    "print(\"total time = {:.3f} (minutes)\".format(tot_time))"
   ]
  },
  {
   "cell_type": "code",
   "execution_count": null,
   "metadata": {},
   "outputs": [],
   "source": []
  },
  {
   "cell_type": "code",
   "execution_count": null,
   "metadata": {},
   "outputs": [],
   "source": []
  }
 ],
 "metadata": {
  "kernelspec": {
   "display_name": "Python 3",
   "language": "python",
   "name": "python3"
  },
  "language_info": {
   "codemirror_mode": {
    "name": "ipython",
    "version": 3
   },
   "file_extension": ".py",
   "mimetype": "text/x-python",
   "name": "python",
   "nbconvert_exporter": "python",
   "pygments_lexer": "ipython3",
   "version": "3.6.9"
  }
 },
 "nbformat": 4,
 "nbformat_minor": 4
}
