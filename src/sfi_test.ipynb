{
 "cells": [
  {
   "cell_type": "markdown",
   "metadata": {},
   "source": [
    "# Single Feature Importance Test"
   ]
  },
  {
   "cell_type": "code",
   "execution_count": 1,
   "metadata": {},
   "outputs": [],
   "source": [
    "import os\n",
    "import numpy as np\n",
    "import pandas as pd\n",
    "from tqdm import tqdm\n",
    "from glob import glob\n",
    "from time import time\n",
    "from feature_selection.ml import single_feature_importance_cv\n",
    "from word_list.analysis import words\n",
    "from sfi import get_sfi_scores\n",
    "import statsmodels.formula.api as smf\n",
    "from sklearn.model_selection import TimeSeriesSplit"
   ]
  },
  {
   "cell_type": "code",
   "execution_count": 2,
   "metadata": {},
   "outputs": [],
   "source": [
    "def merge_market_gtrends(market, gtrends):\n",
    "    merged = pd.merge_asof(market, gtrends, left_index=True, right_index=True)\n",
    "    return merged.dropna()"
   ]
  },
  {
   "cell_type": "code",
   "execution_count": 3,
   "metadata": {},
   "outputs": [],
   "source": [
    "# ## Loading trends\n",
    "gtrends = pd.read_csv(\"data/gtrends.csv\")\n",
    "gtrends.loc[:, \"date\"] = pd.to_datetime(gtrends.date)\n",
    "gtrends = gtrends.set_index(\"date\")\n",
    "\n",
    "# ## Loading and preprossesing market data\n",
    "\n",
    "path = \"data/crsp/nyse/CYN US Equity.csv\"\n",
    "name = path.split(\"/\")[-1].split(\".\")[0]\n",
    "target_name = name.replace(\" \", \"_\") + \"_return\"\n",
    "market = pd.read_csv(path)\n",
    "market = market.drop([0, 1], 0)\n",
    "market = market.rename(columns={\"ticker\": \"date\",\n",
    "                                name: target_name})\n",
    "market.loc[:, \"date\"] = pd.to_datetime(market.date)\n",
    "market.loc[:, target_name] = market[target_name].astype(\"float\") / 100\n",
    "market = market.set_index(\"date\")\n",
    "\n",
    "# using only the training sample\n",
    "market = market[\"2000\":\"2010\"]\n",
    "\n",
    "merged = merge_market_gtrends(market, gtrends)"
   ]
  },
  {
   "cell_type": "code",
   "execution_count": 4,
   "metadata": {},
   "outputs": [],
   "source": [
    "result = get_sfi_scores(merged_df=merged.copy(),\n",
    "                        target_name=target_name,\n",
    "                        words=[\"act\", \"bank\", \"president\"],\n",
    "                        max_lag=3,\n",
    "                        verbose=False,\n",
    "                        n_splits=2)"
   ]
  },
  {
   "cell_type": "code",
   "execution_count": 5,
   "metadata": {},
   "outputs": [],
   "source": [
    "word, lag = result.feature[0].split(\"_\")\n",
    "lag = int(lag)"
   ]
  },
  {
   "cell_type": "code",
   "execution_count": 6,
   "metadata": {},
   "outputs": [],
   "source": [
    "feature_name = \"{}_{}\".format(word,lag)\n",
    "target_name = target_name\n",
    "merged.loc[:, \"{}_{}\".format(word,lag)] = merged[word].shift(lag)"
   ]
  },
  {
   "cell_type": "code",
   "execution_count": 7,
   "metadata": {},
   "outputs": [],
   "source": [
    "r2_OOS = []\n",
    "tscv = TimeSeriesSplit(n_splits=2)\n",
    "for train_index, test_index in tscv.split(merged):\n",
    "    formula = \"{} ~ {}\".format(target_name, feature_name)\n",
    "    df_train = merged.iloc[train_index]\n",
    "    df_test = merged.iloc[test_index]\n",
    "    lr = smf.ols(formula=formula, data=df_train).fit()\n",
    "    y_pred = lr.predict(df_test).values\n",
    "    y_true = df_test[target_name].values\n",
    "    num = np.sum((y_true - y_pred)**2)\n",
    "    dem = np.sum((y_true)**2)\n",
    "    r2 = 1 - (num / dem)\n",
    "    r2_OOS.append(r2)\n",
    "\n",
    "calulated = np.mean(r2_OOS)\n",
    "function = result[\"mean_r2\"][0]\n",
    "assert np.isclose(calulated,function)"
   ]
  },
  {
   "cell_type": "code",
   "execution_count": null,
   "metadata": {},
   "outputs": [],
   "source": []
  }
 ],
 "metadata": {
  "kernelspec": {
   "display_name": "Python 3",
   "language": "python",
   "name": "python3"
  },
  "language_info": {
   "codemirror_mode": {
    "name": "ipython",
    "version": 3
   },
   "file_extension": ".py",
   "mimetype": "text/x-python",
   "name": "python",
   "nbconvert_exporter": "python",
   "pygments_lexer": "ipython3",
   "version": "3.6.9"
  }
 },
 "nbformat": 4,
 "nbformat_minor": 4
}
