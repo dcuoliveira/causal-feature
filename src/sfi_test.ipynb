{
 "cells": [
  {
   "cell_type": "markdown",
   "metadata": {},
   "source": [
    "# Single Feature Importance Test"
   ]
  },
  {
   "cell_type": "code",
   "execution_count": 7,
   "metadata": {},
   "outputs": [],
   "source": [
    "import os\n",
    "import numpy as np\n",
    "import pandas as pd\n",
    "from tqdm import tqdm\n",
    "from glob import glob\n",
    "from time import time\n",
    "from word_list.analysis import words\n",
    "from feature_selection.sfi import get_sfi_scores\n",
    "import statsmodels.formula.api as smf\n",
    "from sklearn.model_selection import TimeSeriesSplit"
   ]
  },
  {
   "cell_type": "code",
   "execution_count": 8,
   "metadata": {},
   "outputs": [],
   "source": [
    "def merge_market_gtrends(market, gtrends):\n",
    "    merged = pd.merge_asof(market, gtrends, left_index=True, right_index=True)\n",
    "    return merged.dropna()"
   ]
  },
  {
   "cell_type": "code",
   "execution_count": 9,
   "metadata": {},
   "outputs": [],
   "source": [
    "# ## Loading trends\n",
    "gtrends = pd.read_csv(\"data/gtrends.csv\")\n",
    "gtrends.loc[:, \"date\"] = pd.to_datetime(gtrends.date)\n",
    "gtrends = gtrends.set_index(\"date\")\n",
    "\n",
    "# ## Loading and preprossesing market data\n",
    "\n",
    "path = \"data/crsp/nyse/CYN US Equity.csv\"\n",
    "name = path.split(\"/\")[-1].split(\".\")[0]\n",
    "target_name = name.replace(\" \", \"_\") + \"_return\"\n",
    "market = pd.read_csv(path)\n",
    "market = market.drop([0, 1], 0)\n",
    "market = market.rename(columns={\"ticker\": \"date\",\n",
    "                                name: target_name})\n",
    "market.loc[:, \"date\"] = pd.to_datetime(market.date)\n",
    "market.loc[:, target_name] = market[target_name].astype(\"float\") / 100\n",
    "market = market.set_index(\"date\")\n",
    "\n",
    "# using only the training sample\n",
    "market = market[\"2000\":\"2010\"]\n",
    "\n",
    "merged = merge_market_gtrends(market, gtrends)"
   ]
  },
  {
   "cell_type": "code",
   "execution_count": 10,
   "metadata": {},
   "outputs": [
    {
     "name": "stderr",
     "output_type": "stream",
     "text": [
      "add shift: 100%|██████████| 182/182 [01:29<00:00,  2.03it/s]\n",
      "cv r2: 100%|██████████| 182/182 [01:36<00:00,  1.89it/s]"
     ]
    },
    {
     "name": "stdout",
     "output_type": "stream",
     "text": [
      "total time = 3.100 (minutes)\n"
     ]
    },
    {
     "name": "stderr",
     "output_type": "stream",
     "text": [
      "\n"
     ]
    }
   ],
   "source": [
    "init = time()\n",
    "\n",
    "result = get_sfi_scores(merged_df=merged.copy(),\n",
    "                        target_name=target_name,\n",
    "                        words=words,\n",
    "                        max_lag=30,\n",
    "                        verbose=True,\n",
    "                        n_splits=2)\n",
    "\n",
    "tot_time = time() - init\n",
    "tot_time = tot_time / 60\n",
    "print(\"total time = {:.3f} (minutes)\".format(tot_time))"
   ]
  },
  {
   "cell_type": "markdown",
   "metadata": {},
   "source": [
    "### Results Example"
   ]
  },
  {
   "cell_type": "code",
   "execution_count": 11,
   "metadata": {},
   "outputs": [
    {
     "data": {
      "text/html": [
       "<div>\n",
       "<style scoped>\n",
       "    .dataframe tbody tr th:only-of-type {\n",
       "        vertical-align: middle;\n",
       "    }\n",
       "\n",
       "    .dataframe tbody tr th {\n",
       "        vertical-align: top;\n",
       "    }\n",
       "\n",
       "    .dataframe thead th {\n",
       "        text-align: right;\n",
       "    }\n",
       "</style>\n",
       "<table border=\"1\" class=\"dataframe\">\n",
       "  <thead>\n",
       "    <tr style=\"text-align: right;\">\n",
       "      <th></th>\n",
       "      <th>feature</th>\n",
       "      <th>mean_r2</th>\n",
       "    </tr>\n",
       "  </thead>\n",
       "  <tbody>\n",
       "    <tr>\n",
       "      <th>0</th>\n",
       "      <td>DOW_JONES_2</td>\n",
       "      <td>0.001852</td>\n",
       "    </tr>\n",
       "    <tr>\n",
       "      <th>1</th>\n",
       "      <td>cash_5</td>\n",
       "      <td>0.001845</td>\n",
       "    </tr>\n",
       "    <tr>\n",
       "      <th>2</th>\n",
       "      <td>forex_26</td>\n",
       "      <td>0.001737</td>\n",
       "    </tr>\n",
       "    <tr>\n",
       "      <th>3</th>\n",
       "      <td>seats_4</td>\n",
       "      <td>0.001706</td>\n",
       "    </tr>\n",
       "    <tr>\n",
       "      <th>4</th>\n",
       "      <td>election_12</td>\n",
       "      <td>0.001498</td>\n",
       "    </tr>\n",
       "    <tr>\n",
       "      <th>5</th>\n",
       "      <td>dividend_4</td>\n",
       "      <td>0.001485</td>\n",
       "    </tr>\n",
       "    <tr>\n",
       "      <th>6</th>\n",
       "      <td>revenue_2</td>\n",
       "      <td>0.001388</td>\n",
       "    </tr>\n",
       "    <tr>\n",
       "      <th>7</th>\n",
       "      <td>nyse_4</td>\n",
       "      <td>0.001270</td>\n",
       "    </tr>\n",
       "    <tr>\n",
       "      <th>8</th>\n",
       "      <td>minister_21</td>\n",
       "      <td>0.001207</td>\n",
       "    </tr>\n",
       "    <tr>\n",
       "      <th>9</th>\n",
       "      <td>nasdaq_4</td>\n",
       "      <td>0.001153</td>\n",
       "    </tr>\n",
       "  </tbody>\n",
       "</table>\n",
       "</div>"
      ],
      "text/plain": [
       "       feature   mean_r2\n",
       "0  DOW_JONES_2  0.001852\n",
       "1       cash_5  0.001845\n",
       "2     forex_26  0.001737\n",
       "3      seats_4  0.001706\n",
       "4  election_12  0.001498\n",
       "5   dividend_4  0.001485\n",
       "6    revenue_2  0.001388\n",
       "7       nyse_4  0.001270\n",
       "8  minister_21  0.001207\n",
       "9     nasdaq_4  0.001153"
      ]
     },
     "execution_count": 11,
     "metadata": {},
     "output_type": "execute_result"
    }
   ],
   "source": [
    "result.head(10)"
   ]
  },
  {
   "cell_type": "code",
   "execution_count": 17,
   "metadata": {},
   "outputs": [
    {
     "data": {
      "text/plain": [
       "bool"
      ]
     },
     "execution_count": 17,
     "metadata": {},
     "output_type": "execute_result"
    }
   ],
   "source": [
    "type(True)"
   ]
  },
  {
   "cell_type": "markdown",
   "metadata": {},
   "source": [
    "### Time"
   ]
  },
  {
   "cell_type": "code",
   "execution_count": 15,
   "metadata": {},
   "outputs": [
    {
     "name": "stdout",
     "output_type": "stream",
     "text": [
      "Estimated time to analize all ticker = 637.912 (hours)\n"
     ]
    }
   ],
   "source": [
    "n_tickers = 2163 + 10185\n",
    "final_time = tot_time * n_tickers\n",
    "final_time = final_time / 60\n",
    "\n",
    "print(\"Estimated time to analize all ticker = {:.3f} (hours)\".format(final_time))"
   ]
  },
  {
   "cell_type": "code",
   "execution_count": null,
   "metadata": {},
   "outputs": [],
   "source": []
  }
 ],
 "metadata": {
  "kernelspec": {
   "display_name": "Python 3",
   "language": "python",
   "name": "python3"
  },
  "language_info": {
   "codemirror_mode": {
    "name": "ipython",
    "version": 3
   },
   "file_extension": ".py",
   "mimetype": "text/x-python",
   "name": "python",
   "nbconvert_exporter": "python",
   "pygments_lexer": "ipython3",
   "version": "3.6.9"
  }
 },
 "nbformat": 4,
 "nbformat_minor": 4
}
