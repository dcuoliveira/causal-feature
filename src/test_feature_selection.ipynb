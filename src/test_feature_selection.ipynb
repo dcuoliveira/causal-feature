{
 "cells": [
  {
   "cell_type": "code",
   "execution_count": 1,
   "metadata": {},
   "outputs": [],
   "source": [
    "import os\n",
    "import numpy as np\n",
    "import pandas as pd\n",
    "from tqdm import tqdm\n",
    "from glob import glob\n",
    "from time import time\n",
    "from multiprocessing import Pool\n",
    "from word_list.analysis import words\n",
    "from feature_selection.sfi import get_sfi_scores\n",
    "from feature_selection.mdi import get_mdi_scores\n",
    "from data_mani.utils import merge_market_and_gtrends\n",
    "from data_mani.utils import get_ticker_name\n",
    "from data_mani.utils import path_filter\n",
    "from data_mani.utils import merge_market_and_gtrends"
   ]
  },
  {
   "cell_type": "code",
   "execution_count": 3,
   "metadata": {},
   "outputs": [
    {
     "name": "stderr",
     "output_type": "stream",
     "text": [
      "add shift: 100%|██████████| 3/3 [00:00<00:00, 28.52it/s]\n",
      "cv r2: 100%|██████████| 3/3 [00:02<00:00,  1.37it/s]"
     ]
    },
    {
     "name": "stdout",
     "output_type": "stream",
     "text": [
      "\n",
      "total time = 0.038 (minutes)\n"
     ]
    },
    {
     "name": "stderr",
     "output_type": "stream",
     "text": [
      "\n"
     ]
    }
   ],
   "source": [
    "N_SPLITS = 3\n",
    "MAX_LAG = 30\n",
    "OUT_FOLDER = \"nyse\"\n",
    "PATHS = sorted(glob(\"data/crsp/{}/*.csv\".format(OUT_FOLDER)))\n",
    "WORDS = words[:3]\n",
    "path = \"data/crsp/nyse/0820077D US Equity.csv\"\n",
    "train,test = merge_market_and_gtrends(path, test_size=1)\n",
    "\n",
    "train, test = merge_market_and_gtrends(path, test_size=0.5)\n",
    "\n",
    "init = time() \n",
    "result = get_sfi_scores(merged_df=train,\n",
    "                        target_name=\"target_return\",\n",
    "                        words=WORDS,\n",
    "                        max_lag=MAX_LAG,\n",
    "                        verbose=True,\n",
    "                        n_splits=N_SPLITS)\n",
    "tot_time = time() - init\n",
    "tot_time = tot_time / 60\n",
    "print(\"\\ntotal time = {:.3f} (minutes)\".format(tot_time))"
   ]
  },
  {
   "cell_type": "code",
   "execution_count": null,
   "metadata": {},
   "outputs": [],
   "source": [
    "np.mean([np.nan, 2, 3])"
   ]
  },
  {
   "cell_type": "code",
   "execution_count": null,
   "metadata": {},
   "outputs": [],
   "source": [
    "ddfsfsfs"
   ]
  },
  {
   "cell_type": "code",
   "execution_count": null,
   "metadata": {},
   "outputs": [],
   "source": [
    "result.head(4)"
   ]
  },
  {
   "cell_type": "code",
   "execution_count": null,
   "metadata": {},
   "outputs": [],
   "source": [
    "init = time() \n",
    "result = get_mdi_scores(merged_df=merged,\n",
    "                        target_name=\"target_return\",\n",
    "                        words=WORDS,\n",
    "                        max_lag=MAX_LAG,\n",
    "                        random_state=34324,\n",
    "                        n_estimators=100,\n",
    "                        verbose=True)\n",
    "tot_time = time() - init\n",
    "tot_time = tot_time / 60\n",
    "print(\"\\ntotal time = {:.3f} (minutes)\".format(tot_time))"
   ]
  },
  {
   "cell_type": "code",
   "execution_count": null,
   "metadata": {},
   "outputs": [],
   "source": [
    "result.head(4)"
   ]
  },
  {
   "cell_type": "code",
   "execution_count": null,
   "metadata": {},
   "outputs": [],
   "source": []
  },
  {
   "cell_type": "code",
   "execution_count": null,
   "metadata": {},
   "outputs": [],
   "source": []
  },
  {
   "cell_type": "code",
   "execution_count": null,
   "metadata": {},
   "outputs": [],
   "source": []
  },
  {
   "cell_type": "code",
   "execution_count": null,
   "metadata": {},
   "outputs": [],
   "source": []
  },
  {
   "cell_type": "code",
   "execution_count": null,
   "metadata": {},
   "outputs": [],
   "source": []
  },
  {
   "cell_type": "code",
   "execution_count": null,
   "metadata": {},
   "outputs": [],
   "source": []
  },
  {
   "cell_type": "code",
   "execution_count": null,
   "metadata": {},
   "outputs": [],
   "source": []
  },
  {
   "cell_type": "code",
   "execution_count": null,
   "metadata": {},
   "outputs": [],
   "source": []
  }
 ],
 "metadata": {
  "kernelspec": {
   "display_name": "Python 3",
   "language": "python",
   "name": "python3"
  },
  "language_info": {
   "codemirror_mode": {
    "name": "ipython",
    "version": 3
   },
   "file_extension": ".py",
   "mimetype": "text/x-python",
   "name": "python",
   "nbconvert_exporter": "python",
   "pygments_lexer": "ipython3",
   "version": "3.6.9"
  }
 },
 "nbformat": 4,
 "nbformat_minor": 4
}
