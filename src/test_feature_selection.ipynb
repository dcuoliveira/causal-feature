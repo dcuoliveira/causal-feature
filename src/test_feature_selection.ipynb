{
 "cells": [
  {
   "cell_type": "code",
   "execution_count": 1,
   "metadata": {},
   "outputs": [],
   "source": [
    "import os\n",
    "import numpy as np\n",
    "import pandas as pd\n",
    "from tqdm import tqdm\n",
    "from glob import glob\n",
    "from time import time\n",
    "from multiprocessing import Pool\n",
    "from word_list.analysis import words\n",
    "from feature_selection.sfi import get_sfi_scores\n",
    "from feature_selection.mdi import get_mdi_scores\n",
    "from data_mani.utils import merge_market_and_gtrends\n",
    "from data_mani.utils import get_ticker_name\n",
    "from data_mani.utils import path_filter"
   ]
  },
  {
   "cell_type": "code",
   "execution_count": 7,
   "metadata": {},
   "outputs": [],
   "source": [
    "N_SPLITS = 5\n",
    "MAX_LAG = 30\n",
    "OUT_FOLDER = \"nyse\"\n",
    "PATHS = sorted(glob(\"data/crsp/{}/*.csv\".format(OUT_FOLDER)))\n",
    "WORDS = words\n",
    "path = PATHS[1]\n",
    "train,test = merge_market_and_gtrends(path, test_size=1)"
   ]
  },
  {
   "cell_type": "code",
   "execution_count": 22,
   "metadata": {},
   "outputs": [
    {
     "data": {
      "text/plain": [
       "'data/crsp/nyse/0062761Q US Equity.csv'"
      ]
     },
     "execution_count": 22,
     "metadata": {},
     "output_type": "execute_result"
    }
   ],
   "source": [
    "path"
   ]
  },
  {
   "cell_type": "code",
   "execution_count": 21,
   "metadata": {},
   "outputs": [],
   "source": [
    "from data_mani.utils import merge_market_and_gtrends\n",
    "from glob import glob\n",
    "\n",
    "PATHS = sorted(glob(\"data/crsp/{}/*.csv\".format(OUT_FOLDER)))\n",
    "path = PATHS[1]\n",
    "train, test = merge_market_and_gtrends(path, test_size=0.9)\n",
    "\n",
    "train_shape = train.shape\n",
    "test_shape = test.shape\n",
    "last_day_train = train.sort_index().index[-1]\n",
    "first_day_test = test.sort_index().index[0]\n",
    "\n",
    "\n",
    "assert train_shape[0] > 0\n",
    "assert train_shape[1] == 183\n",
    "assert test_shape[0] > 0\n",
    "assert test_shape[1] == 183\n",
    "assert train.index[0] > pd.Timestamp(\"2003-12-01\")\n",
    "assert last_day_train < first_day_test"
   ]
  },
  {
   "cell_type": "code",
   "execution_count": 20,
   "metadata": {},
   "outputs": [
    {
     "data": {
      "text/plain": [
       "(649, 183)"
      ]
     },
     "execution_count": 20,
     "metadata": {},
     "output_type": "execute_result"
    }
   ],
   "source": [
    "test.shape"
   ]
  },
  {
   "cell_type": "code",
   "execution_count": null,
   "metadata": {},
   "outputs": [],
   "source": []
  },
  {
   "cell_type": "code",
   "execution_count": null,
   "metadata": {},
   "outputs": [],
   "source": [
    "from sklearn.model_selection import train_test_split\n",
    "train, test = train_test_split(merged, test_size=0.5, shuffle=False)\n",
    "last_day_train = train.sort_index().index[-1]\n",
    "first_day_test = test.sort_index().index[0]\n",
    "\n",
    "assert last_day_train < first_day_test, \"time splitting error\""
   ]
  },
  {
   "cell_type": "code",
   "execution_count": null,
   "metadata": {},
   "outputs": [],
   "source": [
    "train"
   ]
  },
  {
   "cell_type": "code",
   "execution_count": null,
   "metadata": {},
   "outputs": [],
   "source": [
    "test"
   ]
  },
  {
   "cell_type": "code",
   "execution_count": null,
   "metadata": {},
   "outputs": [],
   "source": [
    "a.sort_index().index[-1] < b.sort_index().index[0]"
   ]
  },
  {
   "cell_type": "code",
   "execution_count": null,
   "metadata": {},
   "outputs": [],
   "source": [
    "init = time() \n",
    "result = get_sfi_scores(merged_df=merged,\n",
    "                        target_name=\"target_return\",\n",
    "                        words=WORDS,\n",
    "                        max_lag=MAX_LAG,\n",
    "                        verbose=True,\n",
    "                        n_splits=N_SPLITS)\n",
    "tot_time = time() - init\n",
    "tot_time = tot_time / 60\n",
    "print(\"\\ntotal time = {:.3f} (minutes)\".format(tot_time))"
   ]
  },
  {
   "cell_type": "code",
   "execution_count": null,
   "metadata": {},
   "outputs": [],
   "source": [
    "result.head(4)"
   ]
  },
  {
   "cell_type": "code",
   "execution_count": null,
   "metadata": {},
   "outputs": [],
   "source": [
    "init = time() \n",
    "result = get_mdi_scores(merged_df=merged,\n",
    "                        target_name=\"target_return\",\n",
    "                        words=WORDS,\n",
    "                        max_lag=MAX_LAG,\n",
    "                        random_state=34324,\n",
    "                        n_estimators=100,\n",
    "                        verbose=True)\n",
    "tot_time = time() - init\n",
    "tot_time = tot_time / 60\n",
    "print(\"\\ntotal time = {:.3f} (minutes)\".format(tot_time))"
   ]
  },
  {
   "cell_type": "code",
   "execution_count": null,
   "metadata": {},
   "outputs": [],
   "source": [
    "result.head(4)"
   ]
  },
  {
   "cell_type": "code",
   "execution_count": null,
   "metadata": {},
   "outputs": [],
   "source": []
  },
  {
   "cell_type": "code",
   "execution_count": null,
   "metadata": {},
   "outputs": [],
   "source": []
  },
  {
   "cell_type": "code",
   "execution_count": null,
   "metadata": {},
   "outputs": [],
   "source": []
  },
  {
   "cell_type": "code",
   "execution_count": null,
   "metadata": {},
   "outputs": [],
   "source": []
  },
  {
   "cell_type": "code",
   "execution_count": null,
   "metadata": {},
   "outputs": [],
   "source": []
  },
  {
   "cell_type": "code",
   "execution_count": null,
   "metadata": {},
   "outputs": [],
   "source": []
  },
  {
   "cell_type": "code",
   "execution_count": null,
   "metadata": {},
   "outputs": [],
   "source": []
  },
  {
   "cell_type": "code",
   "execution_count": null,
   "metadata": {},
   "outputs": [],
   "source": []
  }
 ],
 "metadata": {
  "kernelspec": {
   "display_name": "Python 3",
   "language": "python",
   "name": "python3"
  },
  "language_info": {
   "codemirror_mode": {
    "name": "ipython",
    "version": 3
   },
   "file_extension": ".py",
   "mimetype": "text/x-python",
   "name": "python",
   "nbconvert_exporter": "python",
   "pygments_lexer": "ipython3",
   "version": "3.6.9"
  }
 },
 "nbformat": 4,
 "nbformat_minor": 4
}
