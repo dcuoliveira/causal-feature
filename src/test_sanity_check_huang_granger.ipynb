{
 "metadata": {
  "language_info": {
   "codemirror_mode": {
    "name": "ipython",
    "version": 3
   },
   "file_extension": ".py",
   "mimetype": "text/x-python",
   "name": "python",
   "nbconvert_exporter": "python",
   "pygments_lexer": "ipython3",
   "version": "3.8.5-final"
  },
  "orig_nbformat": 2,
  "kernelspec": {
   "name": "python3",
   "display_name": "Python 3",
   "language": "python"
  }
 },
 "nbformat": 4,
 "nbformat_minor": 2,
 "cells": [
  {
   "cell_type": "code",
   "execution_count": 15,
   "metadata": {},
   "outputs": [],
   "source": [
    "import pandas as pd\n",
    "import numpy as np\n",
    "from sklearn.datasets import make_regression\n",
    "import os\n",
    "import sys\n",
    "import inspect\n",
    "import unittest\n",
    "\n",
    "currentdir = os.path.dirname(\n",
    "    os.path.abspath(\n",
    "        inspect.getfile(\n",
    "            inspect.currentframe())))\n",
    "parentdir = os.path.dirname(currentdir)\n",
    "sys.path.insert(0, parentdir)\n",
    "\n",
    "from src.feature_selection.mdi import mdi_feature_importance  # noqa\n",
    "from src.feature_selection.sfi import single_feature_importance_cv  # noqa\n",
    "from src.feature_selection.mda import mean_decrease_accuracy  # noqa\n",
    "\n",
    "from src.feature_selection.huang import run_huang_methods, run_granger_causality\n",
    "\n",
    "\n",
    "# variables\n",
    "SIG_LEVEL = 0.05\n",
    "MAX_LAG = 20 # maximum number of lags to create\n",
    "CORREL_THRESHOLD = 0.5 # correlation threshold to apply filter\n",
    "CONSTANT_THRESHOLD = 0.9 # constant threshold to apply filter\n"
   ]
  },
  {
   "cell_type": "code",
   "execution_count": 16,
   "metadata": {},
   "outputs": [],
   "source": [
    "\n",
    "# creating artificial dataset\n",
    "n_features = 4\n",
    "n_informative = 3\n",
    "top_n = n_features\n",
    "X, y, coef = make_regression(n_samples=5000,\n",
    "                             n_features=n_features,\n",
    "                             n_informative=n_informative,\n",
    "                             random_state=1233,\n",
    "                             coef=True)\n",
    "feature_names = [\"f{}\".format(i) for i in range(n_features)]\n",
    "columns = feature_names + [\"target_return\"]\n",
    "\n",
    "y = y.reshape(-1, 1)\n",
    "df = pd.DataFrame(np.hstack([X, y]), columns=columns)\n",
    "true_imp = pd.DataFrame({\"feature\": feature_names,\n",
    "                            \"feature_score\": coef}).sort_values(\"feature_score\",\n",
    "                                                                ascending=False).reset_index(drop=True)\n"
   ]
  },
  {
   "cell_type": "code",
   "execution_count": 22,
   "metadata": {},
   "outputs": [],
   "source": [
    "\n",
    "result_huang = run_huang_methods(merged_df=df,\n",
    "                                 target_name='target_return',\n",
    "                                 words=feature_names,\n",
    "                                 max_lag=MAX_LAG,\n",
    "                                 verbose=False,\n",
    "                                 sig_level=SIG_LEVEL,\n",
    "                                 correl_threshold=CORREL_THRESHOLD,\n",
    "                                 constant_threshold=CONSTANT_THRESHOLD,\n",
    "                                 asset_name=None)"
   ]
  },
  {
   "cell_type": "code",
   "execution_count": 23,
   "metadata": {},
   "outputs": [
    {
     "output_type": "execute_result",
     "data": {
      "text/plain": [
       "         feature  feature_score\n",
       "0             f1            NaN\n",
       "1             f2            NaN\n",
       "2             f0            NaN\n",
       "3             f3            NaN\n",
       "4  target_return            NaN"
      ],
      "text/html": "<div>\n<style scoped>\n    .dataframe tbody tr th:only-of-type {\n        vertical-align: middle;\n    }\n\n    .dataframe tbody tr th {\n        vertical-align: top;\n    }\n\n    .dataframe thead th {\n        text-align: right;\n    }\n</style>\n<table border=\"1\" class=\"dataframe\">\n  <thead>\n    <tr style=\"text-align: right;\">\n      <th></th>\n      <th>feature</th>\n      <th>feature_score</th>\n    </tr>\n  </thead>\n  <tbody>\n    <tr>\n      <th>0</th>\n      <td>f1</td>\n      <td>NaN</td>\n    </tr>\n    <tr>\n      <th>1</th>\n      <td>f2</td>\n      <td>NaN</td>\n    </tr>\n    <tr>\n      <th>2</th>\n      <td>f0</td>\n      <td>NaN</td>\n    </tr>\n    <tr>\n      <th>3</th>\n      <td>f3</td>\n      <td>NaN</td>\n    </tr>\n    <tr>\n      <th>4</th>\n      <td>target_return</td>\n      <td>NaN</td>\n    </tr>\n  </tbody>\n</table>\n</div>"
     },
     "metadata": {},
     "execution_count": 23
    }
   ],
   "source": [
    "result_huang"
   ]
  },
  {
   "cell_type": "code",
   "execution_count": 19,
   "metadata": {},
   "outputs": [],
   "source": [
    "result_granger = run_granger_causality(merged_df=df,\n",
    "                                       target_name='target_return',\n",
    "                                       words=feature_names,\n",
    "                                       max_lag=MAX_LAG,\n",
    "                                       sig_level=SIG_LEVEL,\n",
    "                                       correl_threshold=CORREL_THRESHOLD,\n",
    "                                       constant_threshold=CONSTANT_THRESHOLD,\n",
    "                                       verbose=False)"
   ]
  },
  {
   "cell_type": "code",
   "execution_count": 20,
   "metadata": {},
   "outputs": [
    {
     "output_type": "execute_result",
     "data": {
      "text/plain": [
       "Empty DataFrame\n",
       "Columns: [feature, feature_score]\n",
       "Index: []"
      ],
      "text/html": "<div>\n<style scoped>\n    .dataframe tbody tr th:only-of-type {\n        vertical-align: middle;\n    }\n\n    .dataframe tbody tr th {\n        vertical-align: top;\n    }\n\n    .dataframe thead th {\n        text-align: right;\n    }\n</style>\n<table border=\"1\" class=\"dataframe\">\n  <thead>\n    <tr style=\"text-align: right;\">\n      <th></th>\n      <th>feature</th>\n      <th>feature_score</th>\n    </tr>\n  </thead>\n  <tbody>\n  </tbody>\n</table>\n</div>"
     },
     "metadata": {},
     "execution_count": 20
    }
   ],
   "source": [
    "result_granger"
   ]
  },
  {
   "cell_type": "code",
   "execution_count": 11,
   "metadata": {},
   "outputs": [
    {
     "output_type": "execute_result",
     "data": {
      "text/plain": [
       "0    f3\n",
       "1    f1\n",
       "2    f2\n",
       "3    f0\n",
       "Name: feature, dtype: object"
      ]
     },
     "metadata": {},
     "execution_count": 11
    }
   ],
   "source": [
    "true_imp.feature.head()"
   ]
  },
  {
   "cell_type": "code",
   "execution_count": null,
   "metadata": {},
   "outputs": [],
   "source": []
  }
 ]
}